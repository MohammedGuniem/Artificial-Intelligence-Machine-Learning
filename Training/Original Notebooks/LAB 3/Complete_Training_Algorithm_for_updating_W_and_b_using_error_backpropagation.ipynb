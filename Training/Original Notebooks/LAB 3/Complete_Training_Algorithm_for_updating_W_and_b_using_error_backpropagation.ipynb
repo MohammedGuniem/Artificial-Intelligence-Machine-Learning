{
  "nbformat": 4,
  "nbformat_minor": 0,
  "metadata": {
    "colab": {
      "provenance": []
    },
    "kernelspec": {
      "name": "python3",
      "display_name": "Python 3"
    },
    "language_info": {
      "name": "python"
    }
  },
  "cells": [
    {
      "cell_type": "markdown",
      "source": [
        "# Complete Training Algorithm for updating W and b  using error backpropagation\n",
        "## 1. Initialize the weights and the biases\n",
        "\n",
        "## 2. Iteratively repeat the following steps:\n",
        "\n",
        "\n",
        "*  Calculate network output using forward propagation\n",
        "*  Calculate error between ground truth and estimated or predicted output\n",
        "*  Update weights and biases through backpropagation\n",
        "*  Repeat the above three steps until number of iterations/epochs is reached or error between ground truth and predicted output is below a predicted threshold\n",
        "\n",
        "\n",
        "\n",
        "\n",
        "\n"
      ],
      "metadata": {
        "id": "afb5JGrY-LOp"
      }
    },
    {
      "cell_type": "code",
      "execution_count": 1,
      "metadata": {
        "colab": {
          "base_uri": "https://localhost:8080/"
        },
        "id": "26LxhIEL-KQQ",
        "outputId": "afa4bcc2-623f-44bd-8d1b-1effb70986f7"
      },
      "outputs": [
        {
          "output_type": "stream",
          "name": "stdout",
          "text": [
            "Error = 0.10822956298900614\n",
            "Error = 0.10333376224278466\n",
            "Error = 0.09845814964497855\n",
            "Error = 0.09362369023786486\n",
            "Error = 0.08885119807449478\n",
            "Error = 0.0841608718458008\n",
            "Error = 0.07957184378063026\n",
            "Error = 0.07510176551129877\n",
            "Error = 0.07076645218252992\n",
            "Error = 0.06657960169369648\n",
            "Error = 0.06255260013804018\n",
            "Error = 0.058694417963580256\n",
            "Error = 0.05501159491362825\n",
            "Error = 0.05150830611940633\n",
            "Error = 0.04818649733911456\n",
            "Error = 0.0450460745501402\n",
            "Error = 0.04208513193912827\n",
            "Error = 0.039300202625582904\n",
            "Error = 0.03668651788590438\n"
          ]
        }
      ],
      "source": [
        "import math\n",
        "from scipy.special import expit\n",
        "x1 = 0.1\n",
        "w1 = 0.15\n",
        "b1 = 0.40\n",
        "w2= 0.45\n",
        "b2 = 0.65\n",
        "T = 0.25\n",
        "alpha = 0.4\n",
        "eps = 0.001\n",
        "epoch = 20\n",
        "\n",
        "def actfunction(input, w,b):\n",
        "  return input*w + b\n",
        "\n",
        "\n",
        "for i in range(1,epoch):\n",
        "\n",
        "    z1 = actfunction(x1, w1,b1)\n",
        "    #sigmoid\n",
        "    a1 = expit(z1)\n",
        "\n",
        "    z2 = actfunction(a1, w2,b2)\n",
        "    #sigmoid\n",
        "    a2 = expit(z2)\n",
        "\n",
        "    E = 0.5 * math.pow(T-a2, 2)\n",
        "\n",
        "    w2 = w2 - (alpha * ((-1* (T -  a2)) * (a2*(1-a2)) *  a1))\n",
        "    b2 = b2 - (alpha * ((-1*(T -  a2)) * (a2*(1-a2)) * 1) )\n",
        "\n",
        "    w1 = w1 - (alpha * ((-1*(T -  a2)) * (a2*(1-a2)) * w2 *  (a1*(1-a1)) * x1))\n",
        "    b1 = b1 - (alpha * ((-1*(T -  a2)) * (a2*(1-a2)) * w2 * (a1*(1-a1)) * x1))\n",
        "\n",
        "    #print('x1 =', x1,'w1 =',w1,'b1 =',b1,'z1 =',z1,'a1 =',a1, 'w2 =',w2,'b2 =',b2,'z2 =',z2,'a2 =',a2)\n",
        "    print('Error =',E)\n"
      ]
    }
  ]
}