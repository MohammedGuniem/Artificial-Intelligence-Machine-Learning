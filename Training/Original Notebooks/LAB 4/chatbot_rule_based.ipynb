{
  "nbformat": 4,
  "nbformat_minor": 0,
  "metadata": {
    "colab": {
      "provenance": []
    },
    "kernelspec": {
      "name": "python3",
      "display_name": "Python 3"
    }
  },
  "cells": [
    {
      "cell_type": "markdown",
      "metadata": {
        "id": "xcLrTwBDAjU6"
      },
      "source": [
        "## Rule Based Chatbot\n",
        "## Banking Customer Service Chatbot</font>  <br/>\n",
        "Question-Answer <br> Rule based use hard-coded rules - many limitations without using NLP or machine learning."
      ]
    },
    {
      "cell_type": "markdown",
      "metadata": {
        "id": "8BE9uINiCuR5"
      },
      "source": [
        "# Rule based Chatbot  \n",
        "## Using Exact Matches  <br>\n",
        "In this case, since the chatbot relies on the exact question being asked, quite often a customer would have to select from preset questions - the only inputs that the bot would understand. <br>Building List with input - reponse matches"
      ]
    },
    {
      "cell_type": "code",
      "metadata": {
        "id": "79a0SG_XWOWh"
      },
      "source": [
        "match_list = {\n",
        "    \"my credit card was stolen, what to do?\": \"Call 1-800-123-5000 and an agent will cancel your card\",\n",
        "    \"is the bank open on sundays?\": \"yes from 10:00 to 14:00\",\n",
        "    \"generic\": \"I did not understand the question\"\n",
        "}"
      ],
      "execution_count": 1,
      "outputs": []
    },
    {
      "cell_type": "code",
      "metadata": {
        "id": "0XviINVqWOy3"
      },
      "source": [
        "conversation = \"Customer: {input}\\nGeorge: {output}\\n\"\n",
        "#function to figure out which reponse would match the input question\n",
        "\n",
        "def match_resp(input):\n",
        "  answer = match_list.get(input.lower(),match_list['generic'])\n",
        "  return(conversation.format(input=input, output = answer))"
      ],
      "execution_count": 2,
      "outputs": []
    },
    {
      "cell_type": "code",
      "metadata": {
        "colab": {
          "base_uri": "https://localhost:8080/"
        },
        "id": "BH-DRzjEZLgB",
        "outputId": "c930d278-b97e-45dd-f995-a7f86cdb076a"
      },
      "source": [
        "#response output\n",
        "print(match_resp(\"my credit card was stolen, what to do?\"))\n",
        "print(match_resp(\"is the bank open on Sundays?\"))\n",
        "print(match_resp(\"credit card was stolen, what to do?\"))\n",
        "print(match_resp(\"would I qualify for a car loan if i have no collateral\"))"
      ],
      "execution_count": 3,
      "outputs": [
        {
          "output_type": "stream",
          "name": "stdout",
          "text": [
            "Customer: my credit card was stolen, what to do?\n",
            "George: Call 1-800-123-5000 and an agent will cancel your card\n",
            "\n",
            "Customer: is the bank open on Sundays?\n",
            "George: yes from 10:00 to 14:00\n",
            "\n",
            "Customer: credit card was stolen, what to do?\n",
            "George: I did not understand the question\n",
            "\n",
            "Customer: would I qualify for a car loan if i have no collateral\n",
            "George: I did not understand the question\n",
            "\n"
          ]
        }
      ]
    },
    {
      "cell_type": "markdown",
      "metadata": {
        "id": "UgAHNB8iH74E"
      },
      "source": [
        "## Rule based Chatbot:\n",
        "## Use Pattern-Matching to 'guess' the answer. <br>\n",
        " Rule-based (also command-based, keyword, or transactional) chatbots communicate using predefined answers.\n",
        "\n",
        "\n"
      ]
    },
    {
      "cell_type": "code",
      "metadata": {
        "id": "-1yxoElRKxsx"
      },
      "source": [
        "import re"
      ],
      "execution_count": 4,
      "outputs": []
    },
    {
      "cell_type": "markdown",
      "metadata": {
        "id": "9xBe04k0oL2A"
      },
      "source": [
        "## Build Keyword List<br>\n",
        "## Predefined keywords that the chatbot would be programmed on to answer"
      ]
    },
    {
      "cell_type": "code",
      "metadata": {
        "id": "-DeiNMhoH7Ag"
      },
      "source": [
        "keywords = {\n",
        "    'change_pin': ['pin', 'code', 'change'],\n",
        "    'stolen_lost': ['stolen', 'lost', 'hacked'],\n",
        "    'loan': ['qualify', 'loan', 'borrow', 'interest']\n",
        "}"
      ],
      "execution_count": 5,
      "outputs": []
    },
    {
      "cell_type": "markdown",
      "metadata": {
        "id": "ZPGSW5GjkBeh"
      },
      "source": [
        " # Building a dictionary of intents"
      ]
    },
    {
      "cell_type": "code",
      "metadata": {
        "id": "uKOquj1lKm-Q"
      },
      "source": [
        "dict_intent = {intent: re.compile('|'.join(keys)) for intent, keys in keywords.items()}"
      ],
      "execution_count": 6,
      "outputs": []
    },
    {
      "cell_type": "code",
      "source": [
        "dict_intent"
      ],
      "metadata": {
        "colab": {
          "base_uri": "https://localhost:8080/"
        },
        "id": "u2tzDrvk7UU9",
        "outputId": "78d34a9a-437c-43c1-ce36-411ce9d7fe1e"
      },
      "execution_count": 11,
      "outputs": [
        {
          "output_type": "execute_result",
          "data": {
            "text/plain": [
              "{'change_pin': re.compile(r'pin|code|change', re.UNICODE),\n",
              " 'stolen_lost': re.compile(r'stolen|lost|hacked', re.UNICODE),\n",
              " 'loan': re.compile(r'qualify|loan|borrow|interest', re.UNICODE)}"
            ]
          },
          "metadata": {},
          "execution_count": 11
        }
      ]
    },
    {
      "cell_type": "markdown",
      "metadata": {
        "id": "bjT0bEfGhlHo"
      },
      "source": [
        "## Function to determine the pattern, to figure out the context of the question<br>  taking an input from the user and searching the input string for our keywords.<br>RegEx Search function to search the user input for keywords stored in the value field of the keywords dictionary. RegEx’s search function uses those sequences to compare the patterns of characters in the keywords with patterns of characters in the input string.\n",
        "\n",
        "## If a match is found, the current intent gets selected and is used as the key to the responses dictionary to select the correct response.<br>If there is no indication of the pattern in the input, then a generic response is given.<br>Defining a dictionary of reponses. <br>Searching input for Keywords"
      ]
    },
    {
      "cell_type": "code",
      "metadata": {
        "id": "FM7npWpXKlvA"
      },
      "source": [
        "def context(cust_input):\n",
        "    for intent, pattern in dict_intent.items():\n",
        "        if re.search(pattern, cust_input):\n",
        "            return(intent)\n",
        "    else:\n",
        "        return('generic')\n",
        "\n",
        "dict_response = {\n",
        "    \"change_pin\":\"To change PIN, you need to set up an appointment to come in to the bank. Set up appointment online www.gothambank.com/newpin\",\n",
        "    \"stolen_lost_card\": \"Call 1-800-5000 immediately, select option 2 and an agent will cancel the card\",\n",
        "    \"loan\":\"Try our loan-calculator www.gothambank.com/loancalculator\",\n",
        "    \"generic\":\"I did not understand the question, rephrase it or call 1-800-9000 to speak to an agent!\"\n",
        "}"
      ],
      "execution_count": 7,
      "outputs": []
    },
    {
      "cell_type": "markdown",
      "metadata": {
        "id": "aRIFS9p3nj3K"
      },
      "source": [
        "## Pick response based on Matched Intent"
      ]
    },
    {
      "cell_type": "code",
      "metadata": {
        "id": "iZE1aW_9Kscg"
      },
      "source": [
        "def answer(text):\n",
        "    response = dict_response.get(context(text))\n",
        "    conversation = \"Customer: {input}\\nRudy: {output}\\n\"\n",
        "    return(conversation.format(input=text, output=response))"
      ],
      "execution_count": 8,
      "outputs": []
    },
    {
      "cell_type": "markdown",
      "metadata": {
        "id": "T2o5Mbk7nqNm"
      },
      "source": [
        "## Response Output <br>"
      ]
    },
    {
      "cell_type": "code",
      "metadata": {
        "colab": {
          "base_uri": "https://localhost:8080/"
        },
        "id": "mPVe-zsDK5zj",
        "outputId": "50026cb9-6de2-43c3-c172-d8b34d72c038"
      },
      "source": [
        "print(answer(\"How can I change my pin code for my debit?\"))\n",
        "print(answer(\"Can I qualify for a loan if I already have a mortage?\"))\n",
        "print(answer(\"Does Gotham Bank offer insurance?\"))"
      ],
      "execution_count": 9,
      "outputs": [
        {
          "output_type": "stream",
          "name": "stdout",
          "text": [
            "Customer: How can I change my pin code for my debit?\n",
            "Rudy: To change PIN, you need to set up an appointment to come in to the bank. Set up appointment online www.gothambank.com/newpin\n",
            "\n",
            "Customer: Can I qualify for a loan if I already have a mortage?\n",
            "Rudy: Try our loan-calculator www.gothambank.com/loancalculator\n",
            "\n",
            "Customer: Does Gotham Bank offer insurance?\n",
            "Rudy: I did not understand the question, rephrase it or call 1-800-9000 to speak to an agent!\n",
            "\n"
          ]
        }
      ]
    }
  ]
}