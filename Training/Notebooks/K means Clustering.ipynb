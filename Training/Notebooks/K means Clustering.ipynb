{
 "cells": [
  {
   "cell_type": "markdown",
   "id": "0095c5f1-3e83-4633-b35f-8077986cd96c",
   "metadata": {},
   "source": [
    "# K-Means Clustering for customer segmentation\n",
    "\n",
    "There are many models for clustering, but in this notebook, we will focus on one of the simplest and most widely used models: K-means. Despite its simplicity, **K-means** is extensively used in various data science applications, particularly when quick insights are needed from unlabeled data.\n",
    "\n",
    "Some real-world applications of K-means include:\n",
    "\n",
    "- **Customer Segmentation**: Grouping customers based on purchasing behavior, preferences, and demographics to tailor marketing strategies.\n",
    "- **Understanding Website Visitor Behavior**: Analyzing web traffic to identify different types of visitors and their goals, enhancing user experience and website design.\n",
    "- **Pattern Recognition**: Identifying patterns and trends in data, which is useful in image and speech recognition.\n",
    "- **Machine Learning**: Serving as a preprocessing step to organize data, reduce dimensionality, and improve the performance of other algorithms.\n",
    "- **Data Compression**: Reducing the amount of data by clustering similar data points, which simplifies storage and speeds up processing.\n",
    "- **Market Research**: Segmenting survey respondents to understand different market segments and their needs.\n",
    "- **Document Clustering**: Grouping similar documents for organizing large sets of text data, such as news articles or research papers.\n",
    "- **Social Network Analysis**: Detecting communities within social networks to understand social structures and influence.\n",
    "- **Anomaly Detection**: Identifying unusual data points that do not fit into any cluster, which is useful for fraud detection and network security.\n",
    "- **Image Segmentation**: Dividing an image into segments to simplify its representation and make analysis easier, often used in medical imaging."
   ]
  },
  {
   "cell_type": "markdown",
   "id": "29873569-0413-4aa5-b736-9fbfd5dd8b6a",
   "metadata": {},
   "source": [
    "### Loading the required libraries in python."
   ]
  },
  {
   "cell_type": "code",
   "execution_count": 1,
   "id": "07d955a7-102b-4c9f-bef2-43db7719690f",
   "metadata": {},
   "outputs": [],
   "source": [
    "from sklearn.cluster import KMeans\n",
    "from sklearn import preprocessing\n",
    "import matplotlib.pyplot as plt\n",
    "import pandas as pd\n",
    "import numpy as np\n",
    "import os\n",
    "\n",
    "%matplotlib inline"
   ]
  },
  {
   "cell_type": "markdown",
   "id": "62c14e4b-f350-4d00-b61d-c6a13f259082",
   "metadata": {},
   "source": [
    "### Dataset Description\n",
    "Imagine that you have a customer dataset and need to apply customer segmentation on this historical data. Customer segmentation involves partitioning a customer base into groups of individuals with similar characteristics. This strategy is crucial for businesses to effectively target specific customer groups and allocate marketing resources efficiently.\n",
    "\n",
    "For example, one group might consist of high-profit, low-risk customers who are more likely to purchase products or subscribe to services, requiring strategies to retain them. Another group might include customers from non-profit organizations, needing different marketing approaches."
   ]
  },
  {
   "cell_type": "markdown",
   "id": "a9a387dd-d2c3-4b3e-9770-9e81cfdfa1ad",
   "metadata": {},
   "source": [
    "### Downloading the dataset"
   ]
  },
  {
   "cell_type": "code",
   "execution_count": 2,
   "id": "b99dcba9-f36a-41c0-84af-b20639428d1d",
   "metadata": {},
   "outputs": [
    {
     "data": {
      "text/html": [
       "<div>\n",
       "<style scoped>\n",
       "    .dataframe tbody tr th:only-of-type {\n",
       "        vertical-align: middle;\n",
       "    }\n",
       "\n",
       "    .dataframe tbody tr th {\n",
       "        vertical-align: top;\n",
       "    }\n",
       "\n",
       "    .dataframe thead th {\n",
       "        text-align: right;\n",
       "    }\n",
       "</style>\n",
       "<table border=\"1\" class=\"dataframe\">\n",
       "  <thead>\n",
       "    <tr style=\"text-align: right;\">\n",
       "      <th></th>\n",
       "      <th>CustomerID</th>\n",
       "      <th>Gender</th>\n",
       "      <th>Age</th>\n",
       "      <th>Annual Income (k$)</th>\n",
       "      <th>Spending Score (1-100)</th>\n",
       "    </tr>\n",
       "  </thead>\n",
       "  <tbody>\n",
       "    <tr>\n",
       "      <th>0</th>\n",
       "      <td>1</td>\n",
       "      <td>Male</td>\n",
       "      <td>19</td>\n",
       "      <td>15</td>\n",
       "      <td>39</td>\n",
       "    </tr>\n",
       "    <tr>\n",
       "      <th>1</th>\n",
       "      <td>2</td>\n",
       "      <td>Male</td>\n",
       "      <td>21</td>\n",
       "      <td>15</td>\n",
       "      <td>81</td>\n",
       "    </tr>\n",
       "    <tr>\n",
       "      <th>2</th>\n",
       "      <td>3</td>\n",
       "      <td>Female</td>\n",
       "      <td>20</td>\n",
       "      <td>16</td>\n",
       "      <td>6</td>\n",
       "    </tr>\n",
       "    <tr>\n",
       "      <th>3</th>\n",
       "      <td>4</td>\n",
       "      <td>Female</td>\n",
       "      <td>23</td>\n",
       "      <td>16</td>\n",
       "      <td>77</td>\n",
       "    </tr>\n",
       "    <tr>\n",
       "      <th>4</th>\n",
       "      <td>5</td>\n",
       "      <td>Female</td>\n",
       "      <td>31</td>\n",
       "      <td>17</td>\n",
       "      <td>40</td>\n",
       "    </tr>\n",
       "    <tr>\n",
       "      <th>...</th>\n",
       "      <td>...</td>\n",
       "      <td>...</td>\n",
       "      <td>...</td>\n",
       "      <td>...</td>\n",
       "      <td>...</td>\n",
       "    </tr>\n",
       "    <tr>\n",
       "      <th>195</th>\n",
       "      <td>196</td>\n",
       "      <td>Female</td>\n",
       "      <td>35</td>\n",
       "      <td>120</td>\n",
       "      <td>79</td>\n",
       "    </tr>\n",
       "    <tr>\n",
       "      <th>196</th>\n",
       "      <td>197</td>\n",
       "      <td>Female</td>\n",
       "      <td>45</td>\n",
       "      <td>126</td>\n",
       "      <td>28</td>\n",
       "    </tr>\n",
       "    <tr>\n",
       "      <th>197</th>\n",
       "      <td>198</td>\n",
       "      <td>Male</td>\n",
       "      <td>32</td>\n",
       "      <td>126</td>\n",
       "      <td>74</td>\n",
       "    </tr>\n",
       "    <tr>\n",
       "      <th>198</th>\n",
       "      <td>199</td>\n",
       "      <td>Male</td>\n",
       "      <td>32</td>\n",
       "      <td>137</td>\n",
       "      <td>18</td>\n",
       "    </tr>\n",
       "    <tr>\n",
       "      <th>199</th>\n",
       "      <td>200</td>\n",
       "      <td>Male</td>\n",
       "      <td>30</td>\n",
       "      <td>137</td>\n",
       "      <td>83</td>\n",
       "    </tr>\n",
       "  </tbody>\n",
       "</table>\n",
       "<p>200 rows × 5 columns</p>\n",
       "</div>"
      ],
      "text/plain": [
       "     CustomerID  Gender  Age  Annual Income (k$)  Spending Score (1-100)\n",
       "0             1    Male   19                  15                      39\n",
       "1             2    Male   21                  15                      81\n",
       "2             3  Female   20                  16                       6\n",
       "3             4  Female   23                  16                      77\n",
       "4             5  Female   31                  17                      40\n",
       "..          ...     ...  ...                 ...                     ...\n",
       "195         196  Female   35                 120                      79\n",
       "196         197  Female   45                 126                      28\n",
       "197         198    Male   32                 126                      74\n",
       "198         199    Male   32                 137                      18\n",
       "199         200    Male   30                 137                      83\n",
       "\n",
       "[200 rows x 5 columns]"
      ]
     },
     "metadata": {},
     "output_type": "display_data"
    }
   ],
   "source": [
    "customerfile = os.path.join('Storage', 'Mall_Customers.csv')\n",
    "df = pd.read_csv(customerfile)\n",
    "display(df)"
   ]
  },
  {
   "cell_type": "markdown",
   "id": "d5969f23-633a-4043-bee9-ae27b3fa4326",
   "metadata": {},
   "source": [
    "### Feature selection for the model\n",
    "Considering only 2 features (Annual income and Spending Score) and no Label available"
   ]
  },
  {
   "cell_type": "code",
   "execution_count": 3,
   "id": "22682743-3cc3-47a0-81e6-a453f47f1dca",
   "metadata": {},
   "outputs": [
    {
     "name": "stdout",
     "output_type": "stream",
     "text": [
      "[[ 15  39]\n",
      " [ 15  81]\n",
      " [ 16   6]\n",
      " [ 16  77]\n",
      " [ 17  40]\n",
      " [ 17  76]\n",
      " [ 18   6]\n",
      " [ 18  94]\n",
      " [ 19   3]\n",
      " [ 19  72]\n",
      " [ 19  14]\n",
      " [ 19  99]\n",
      " [ 20  15]\n",
      " [ 20  77]\n",
      " [ 20  13]\n",
      " [ 20  79]\n",
      " [ 21  35]\n",
      " [ 21  66]\n",
      " [ 23  29]\n",
      " [ 23  98]\n",
      " [ 24  35]\n",
      " [ 24  73]\n",
      " [ 25   5]\n",
      " [ 25  73]\n",
      " [ 28  14]\n",
      " [ 28  82]\n",
      " [ 28  32]\n",
      " [ 28  61]\n",
      " [ 29  31]\n",
      " [ 29  87]\n",
      " [ 30   4]\n",
      " [ 30  73]\n",
      " [ 33   4]\n",
      " [ 33  92]\n",
      " [ 33  14]\n",
      " [ 33  81]\n",
      " [ 34  17]\n",
      " [ 34  73]\n",
      " [ 37  26]\n",
      " [ 37  75]\n",
      " [ 38  35]\n",
      " [ 38  92]\n",
      " [ 39  36]\n",
      " [ 39  61]\n",
      " [ 39  28]\n",
      " [ 39  65]\n",
      " [ 40  55]\n",
      " [ 40  47]\n",
      " [ 40  42]\n",
      " [ 40  42]\n",
      " [ 42  52]\n",
      " [ 42  60]\n",
      " [ 43  54]\n",
      " [ 43  60]\n",
      " [ 43  45]\n",
      " [ 43  41]\n",
      " [ 44  50]\n",
      " [ 44  46]\n",
      " [ 46  51]\n",
      " [ 46  46]\n",
      " [ 46  56]\n",
      " [ 46  55]\n",
      " [ 47  52]\n",
      " [ 47  59]\n",
      " [ 48  51]\n",
      " [ 48  59]\n",
      " [ 48  50]\n",
      " [ 48  48]\n",
      " [ 48  59]\n",
      " [ 48  47]\n",
      " [ 49  55]\n",
      " [ 49  42]\n",
      " [ 50  49]\n",
      " [ 50  56]\n",
      " [ 54  47]\n",
      " [ 54  54]\n",
      " [ 54  53]\n",
      " [ 54  48]\n",
      " [ 54  52]\n",
      " [ 54  42]\n",
      " [ 54  51]\n",
      " [ 54  55]\n",
      " [ 54  41]\n",
      " [ 54  44]\n",
      " [ 54  57]\n",
      " [ 54  46]\n",
      " [ 57  58]\n",
      " [ 57  55]\n",
      " [ 58  60]\n",
      " [ 58  46]\n",
      " [ 59  55]\n",
      " [ 59  41]\n",
      " [ 60  49]\n",
      " [ 60  40]\n",
      " [ 60  42]\n",
      " [ 60  52]\n",
      " [ 60  47]\n",
      " [ 60  50]\n",
      " [ 61  42]\n",
      " [ 61  49]\n",
      " [ 62  41]\n",
      " [ 62  48]\n",
      " [ 62  59]\n",
      " [ 62  55]\n",
      " [ 62  56]\n",
      " [ 62  42]\n",
      " [ 63  50]\n",
      " [ 63  46]\n",
      " [ 63  43]\n",
      " [ 63  48]\n",
      " [ 63  52]\n",
      " [ 63  54]\n",
      " [ 64  42]\n",
      " [ 64  46]\n",
      " [ 65  48]\n",
      " [ 65  50]\n",
      " [ 65  43]\n",
      " [ 65  59]\n",
      " [ 67  43]\n",
      " [ 67  57]\n",
      " [ 67  56]\n",
      " [ 67  40]\n",
      " [ 69  58]\n",
      " [ 69  91]\n",
      " [ 70  29]\n",
      " [ 70  77]\n",
      " [ 71  35]\n",
      " [ 71  95]\n",
      " [ 71  11]\n",
      " [ 71  75]\n",
      " [ 71   9]\n",
      " [ 71  75]\n",
      " [ 72  34]\n",
      " [ 72  71]\n",
      " [ 73   5]\n",
      " [ 73  88]\n",
      " [ 73   7]\n",
      " [ 73  73]\n",
      " [ 74  10]\n",
      " [ 74  72]\n",
      " [ 75   5]\n",
      " [ 75  93]\n",
      " [ 76  40]\n",
      " [ 76  87]\n",
      " [ 77  12]\n",
      " [ 77  97]\n",
      " [ 77  36]\n",
      " [ 77  74]\n",
      " [ 78  22]\n",
      " [ 78  90]\n",
      " [ 78  17]\n",
      " [ 78  88]\n",
      " [ 78  20]\n",
      " [ 78  76]\n",
      " [ 78  16]\n",
      " [ 78  89]\n",
      " [ 78   1]\n",
      " [ 78  78]\n",
      " [ 78   1]\n",
      " [ 78  73]\n",
      " [ 79  35]\n",
      " [ 79  83]\n",
      " [ 81   5]\n",
      " [ 81  93]\n",
      " [ 85  26]\n",
      " [ 85  75]\n",
      " [ 86  20]\n",
      " [ 86  95]\n",
      " [ 87  27]\n",
      " [ 87  63]\n",
      " [ 87  13]\n",
      " [ 87  75]\n",
      " [ 87  10]\n",
      " [ 87  92]\n",
      " [ 88  13]\n",
      " [ 88  86]\n",
      " [ 88  15]\n",
      " [ 88  69]\n",
      " [ 93  14]\n",
      " [ 93  90]\n",
      " [ 97  32]\n",
      " [ 97  86]\n",
      " [ 98  15]\n",
      " [ 98  88]\n",
      " [ 99  39]\n",
      " [ 99  97]\n",
      " [101  24]\n",
      " [101  68]\n",
      " [103  17]\n",
      " [103  85]\n",
      " [103  23]\n",
      " [103  69]\n",
      " [113   8]\n",
      " [113  91]\n",
      " [120  16]\n",
      " [120  79]\n",
      " [126  28]\n",
      " [126  74]\n",
      " [137  18]\n",
      " [137  83]]\n"
     ]
    }
   ],
   "source": [
    "X= df.iloc[:, [3,4]].values\n",
    "print(X)"
   ]
  },
  {
   "cell_type": "markdown",
   "id": "56284d42-c864-451f-ad98-eef0d78ac80f",
   "metadata": {},
   "source": [
    "### Viewing the available features in dataset"
   ]
  },
  {
   "cell_type": "code",
   "execution_count": 4,
   "id": "7cfb574d-5ec1-4d8c-8d21-ffd0d5ba2f29",
   "metadata": {},
   "outputs": [
    {
     "data": {
      "text/plain": [
       "Index(['CustomerID', 'Gender', 'Age', 'Annual Income (k$)',\n",
       "       'Spending Score (1-100)'],\n",
       "      dtype='object')"
      ]
     },
     "execution_count": 4,
     "metadata": {},
     "output_type": "execute_result"
    }
   ],
   "source": [
    "df.columns"
   ]
  },
  {
   "cell_type": "markdown",
   "id": "b06887ca-074d-4cbf-b9dc-c7651bd9edee",
   "metadata": {},
   "source": [
    "### Applying K-means Clustering on the dataset\n",
    "We cam guess the optimal number of clusters by using the Elbow graph method as shown below."
   ]
  },
  {
   "cell_type": "code",
   "execution_count": 5,
   "id": "31d8aee0-a945-4311-9186-e454bb89637f",
   "metadata": {},
   "outputs": [
    {
     "name": "stdout",
     "output_type": "stream",
     "text": [
      "[array([ 3,  4,  7,  4,  3,  4,  7, 12,  7,  4,  7, 12,  7,  4,  7,  4,  3,\n",
      "       11,  3, 12,  3, 11,  7, 11,  7, 12,  3, 11,  3, 12,  7, 11,  7, 12,\n",
      "        7, 12,  7, 11,  3, 11,  3, 12,  3,  6,  3, 11,  6,  6,  6,  6,  6,\n",
      "        6,  6,  6,  6,  6,  6,  6,  6,  6,  6,  6,  6,  6,  6,  6,  6,  6,\n",
      "        6,  6,  6,  6,  6,  6,  0,  6,  6,  0,  6,  0,  6,  6,  0,  0,  6,\n",
      "        0,  0,  0,  0,  0,  0,  0,  0,  0,  0,  0,  0,  0,  0,  0,  0,  0,\n",
      "        0,  0,  0,  0,  0,  0,  0,  0,  0,  0,  0,  0,  0,  0,  0,  0,  0,\n",
      "        0,  0,  0,  0,  1, 13,  1, 13,  1, 10,  1, 10,  1, 13,  9, 10,  1,\n",
      "       10,  9, 10,  9, 10,  1, 13,  1, 10,  1, 13,  9,  2,  1,  2,  1,  2,\n",
      "        9,  2,  1, 10,  9, 10,  9, 13,  1, 10,  1,  2,  9,  2,  1,  2,  9,\n",
      "        2,  9,  2,  1,  2,  9,  2,  9,  2,  9, 13,  9,  2,  9, 13,  1,  8,\n",
      "        9,  8,  9,  8,  9,  8,  5,  8,  5,  8,  5,  8,  5], dtype=int32)]\n",
      "[269981.28, 185917.14253928518, 106348.37306211119, 73679.78903948837, 44448.45544793371, 38858.9599751439, 31969.426550235483, 29858.483597603947, 22209.851608025543, 20786.936692059156, 18612.22286800968, 17083.672501709316, 16511.947370563892, 15599.148331445118]\n"
     ]
    },
    {
     "name": "stderr",
     "output_type": "stream",
     "text": [
      "C:\\Users\\MOHAMMEDG\\Anaconda3\\envs\\training\\Lib\\site-packages\\joblib\\externals\\loky\\backend\\context.py:136: UserWarning: Could not find the number of physical cores for the following reason:\n",
      "found 0 physical cores < 1\n",
      "Returning the number of logical cores instead. You can silence this warning by setting LOKY_MAX_CPU_COUNT to the number of cores you want to use.\n",
      "  warnings.warn(\n",
      "  File \"C:\\Users\\MOHAMMEDG\\Anaconda3\\envs\\training\\Lib\\site-packages\\joblib\\externals\\loky\\backend\\context.py\", line 282, in _count_physical_cores\n",
      "    raise ValueError(f\"found {cpu_count_physical} physical cores < 1\")\n"
     ]
    }
   ],
   "source": [
    "wcss=[]\n",
    "labels = []\n",
    "\n",
    "for i in range(1,15):\n",
    "    k_means = KMeans(init = \"k-means++\", n_clusters = i, random_state=0)\n",
    "    k_means.fit(X)\n",
    "    wcss.append(k_means.inertia_)\n",
    "    \n",
    "labels.append(k_means.labels_)\n",
    "\n",
    "print(labels)\n",
    "print(wcss)"
   ]
  },
  {
   "cell_type": "code",
   "execution_count": 6,
   "id": "e7675d2d-6ac9-4a22-8b63-640cf9ab97d9",
   "metadata": {},
   "outputs": [
    {
     "data": {
      "image/png": "[encoded data removed]",
      "text/plain": [
       "<Figure size 640x480 with 1 Axes>"
      ]
     },
     "metadata": {},
     "output_type": "display_data"
    }
   ],
   "source": [
    "plt.plot(range(1,15), wcss)\n",
    "plt.title('The Elbow Method')\n",
    "plt.xlabel('no of clusters')\n",
    "plt.ylabel('wcss')\n",
    "plt.show()"
   ]
  },
  {
   "cell_type": "markdown",
   "id": "7b11129f-35dc-4b75-8655-c3c78c3f4c69",
   "metadata": {},
   "source": [
    "If you zoom out this curve then you will see that elbow comes at k=5\n",
    "no matter what range we select we will see the same behaviour but if we chose higher range it will be a little difficult to visualize the ELBOW\n",
    "that is why we usually prefer a small range (1,15)\n",
    "\n",
    "**Finally we got that k=5**"
   ]
  },
  {
   "cell_type": "markdown",
   "id": "9fd68477-be09-470f-abe8-0bf4b5d77a86",
   "metadata": {},
   "source": [
    "### Clustering with k=5"
   ]
  },
  {
   "cell_type": "code",
   "execution_count": 7,
   "id": "8b49d393-eb74-46db-9228-611cfdea5b32",
   "metadata": {},
   "outputs": [],
   "source": [
    "k_means = KMeans(init = \"k-means++\", n_clusters = 5, random_state=0)\n",
    "k_means.fit(X)\n",
    "labels_ = k_means.labels_\n",
    "y_kmeans= k_means.fit_predict(X)"
   ]
  },
  {
   "cell_type": "markdown",
   "id": "7c30d383-fde0-47c8-8255-1df4eddef009",
   "metadata": {},
   "source": [
    "### Visualizing the clusters with their centers"
   ]
  },
  {
   "cell_type": "code",
   "execution_count": 8,
   "id": "4a5bf922-6f10-4c78-8993-757deec29d65",
   "metadata": {},
   "outputs": [
    {
     "data": {
      "image/png": "[encoded data removed]",
      "text/plain": [
       "<Figure size 640x480 with 1 Axes>"
      ]
     },
     "metadata": {},
     "output_type": "display_data"
    }
   ],
   "source": [
    "plt.scatter(X[y_kmeans == 0, 0], X[y_kmeans == 0, 1], s = 100, c = 'red', label = 'Cluster 1')\n",
    "plt.scatter(X[y_kmeans == 1, 0], X[y_kmeans == 1, 1], s = 100, c = 'blue', label = 'Cluster 2')\n",
    "plt.scatter(X[y_kmeans == 2, 0], X[y_kmeans == 2, 1], s = 100, c = 'green', label = 'Cluster 3')\n",
    "plt.scatter(X[y_kmeans == 3, 0], X[y_kmeans == 3, 1], s = 100, c = 'cyan', label = 'Cluster 4')\n",
    "plt.scatter(X[y_kmeans == 4, 0], X[y_kmeans == 4, 1], s = 100, c = 'magenta', label = 'Cluster 5')\n",
    "\n",
    "plt.scatter(k_means.cluster_centers_[:, 0], k_means.cluster_centers_[:, 1], s = 300, c = 'yellow', label = 'Centroids')\n",
    "plt.title('Clusters of customers')\n",
    "plt.xlabel('Annual Income (k$)')\n",
    "plt.ylabel('Spending Score (1-100)')\n",
    "plt.legend()\n",
    "plt.show()"
   ]
  },
  {
   "cell_type": "markdown",
   "id": "57fe78b9-45e2-467f-a39f-78b92b6d65a6",
   "metadata": {},
   "source": [
    "# Model Interpretation\n",
    "### Cluster 1 (Red Color) -> earning high but spending less\n",
    "### cluster 2 (Blue Color) -> average in terms of earning and spending\n",
    "### cluster 3 (Green Color) -> earning high and also spending high\n",
    "### cluster 4 (cyan Color) -> earning less but spending more\n",
    "### Cluster 5 (magenta Color) -> Earning less , spending less"
   ]
  }
 ],
 "metadata": {
  "kernelspec": {
   "display_name": "Python 3 (ipykernel)",
   "language": "python",
   "name": "python3"
  },
  "language_info": {
   "codemirror_mode": {
    "name": "ipython",
    "version": 3
   },
   "file_extension": ".py",
   "mimetype": "text/x-python",
   "name": "python",
   "nbconvert_exporter": "python",
   "pygments_lexer": "ipython3",
   "version": "3.12.4"
  }
 },
 "nbformat": 4,
 "nbformat_minor": 5
}
