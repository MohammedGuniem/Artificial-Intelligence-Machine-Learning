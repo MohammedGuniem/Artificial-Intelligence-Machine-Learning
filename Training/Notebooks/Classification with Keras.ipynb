{
 "cells": [
  {
   "cell_type": "markdown",
   "metadata": {
    "id": "877d17af-9b93-4534-8163-2adf7dc490e7"
   },
   "source": [
    "# Classification Models with Keras\n"
   ]
  },
  {
   "cell_type": "markdown",
   "metadata": {
    "id": "5c9ec1fa-3bcf-44bc-965d-b0a3e65bfefc"
   },
   "source": [
    "## Introduction\n"
   ]
  },
  {
   "cell_type": "markdown",
   "metadata": {
    "id": "0a75eb65-fed6-4769-bf2a-8dafae0acdf9"
   },
   "source": [
    "In this notebook, we will explore using the Keras library to construct models for classification tasks. We will work with the popular MNIST dataset, which consists of images.\n",
    "\n",
    "The **MNIST database**, short for Modified National Institute of Standards and Technology database, is a comprehensive collection of handwritten digits often utilized for training various image processing systems and machine learning algorithms.\n",
    "\n",
    "This dataset includes 60,000 training images and 10,000 testing images of digits handwritten by high school students and employees of the United States Census Bureau.\n",
    "\n",
    "Furthermore, we will have the opportunity to compare traditional neural networks with convolutional neural networks, which we will delve into in the upcoming module.\n"
   ]
  },
  {
   "cell_type": "markdown",
   "metadata": {
    "id": "ffd6d98b-7add-438c-a2dc-53543d386794"
   },
   "source": [
    "### Classification Models with Keras\n",
    "\n",
    "#### Objective for this Notebook:\n",
    "\n",
    "1. Utilize the MNIST database for training various image processing systems.\n",
    "2. Construct a Neural Network model.\n",
    "3. Train and Test the Neural Network.\n",
    "\n",
    "#### Project Description:\n",
    "\n",
    "In this project, we will be developing a custom classifier using Keras for classifying images into three categories: Fire, Smoke, and Neutral (No Fire or Smoke). The MNIST database, typically used for digit recognition, will be repurposed to train our image classifier.\n",
    "\n"
   ]
  },
  {
   "cell_type": "markdown",
   "metadata": {
    "id": "04cb5309-8b73-4ee3-bc33-6f98e6c6d5ea"
   },
   "source": [
    "## Import Keras and Packages\n"
   ]
  },
  {
   "cell_type": "markdown",
   "metadata": {
    "id": "b2807a39-4997-483b-8658-fa0b51064053"
   },
   "source": [
    "Let's start by importing Keras and some of its modules.\n"
   ]
  },
  {
   "cell_type": "code",
   "execution_count": 1,
   "metadata": {
    "id": "83b22757-26ef-4bd1-a2c6-6144f6c843a7"
   },
   "outputs": [],
   "source": [
    "import keras\n",
    "\n",
    "from keras.models import Sequential\n",
    "from keras.layers import Dense, Input\n",
    "from keras.utils import to_categorical\n",
    "import numpy as np"
   ]
  },
  {
   "cell_type": "code",
   "execution_count": 2,
   "metadata": {
    "id": "f7033ea0-c156-4a14-accf-180e26b6ea42"
   },
   "outputs": [],
   "source": [
    "# import the data\n",
    "import matplotlib.pyplot as plt\n",
    "from keras.datasets import mnist\n",
    "\n",
    "# read the data\n",
    "(X_train, y_train), (X_test, y_test) = mnist.load_data()"
   ]
  },
  {
   "cell_type": "markdown",
   "metadata": {
    "id": "eb6294b9-bfce-4067-a9e3-90c45de142a7"
   },
   "source": [
    "Let's confirm the number of images in each set. According to the dataset's documentation, we should have 60000 images in X_train and 10000 images in the X_test.\n"
   ]
  },
  {
   "cell_type": "code",
   "execution_count": 3,
   "metadata": {
    "colab": {
     "base_uri": "https://localhost:8080/"
    },
    "id": "73e7608c-3f34-4651-b8c5-51654400f8a1",
    "outputId": "26b2622b-d8c9-42ae-8b7b-992e9d3e315f"
   },
   "outputs": [
    {
     "data": {
      "text/plain": [
       "(60000, 28, 28)"
      ]
     },
     "execution_count": 3,
     "metadata": {},
     "output_type": "execute_result"
    }
   ],
   "source": [
    "X_train.shape"
   ]
  },
  {
   "cell_type": "markdown",
   "metadata": {
    "id": "c8583d62-acec-4c71-b339-1e6e23bb7abc"
   },
   "source": [
    "The first number in the output tuple is the number of images, and the other two numbers are the size of the images in datset. So, each image is 28 pixels by 28 pixels.\n"
   ]
  },
  {
   "cell_type": "markdown",
   "metadata": {
    "id": "b5b7c56a-4f99-476e-be99-0646b13d4d02"
   },
   "source": [
    "Let's visualize the first image in the training set using Matplotlib's scripting layer.\n"
   ]
  },
  {
   "cell_type": "code",
   "execution_count": 4,
   "metadata": {
    "colab": {
     "base_uri": "https://localhost:8080/",
     "height": 447
    },
    "id": "1c672f04-f79d-4354-835d-40cce8035e53",
    "outputId": "3a794659-4d27-4306-92ac-e932e2c6d2d6"
   },
   "outputs": [
    {
     "data": {
      "text/plain": [
       "<matplotlib.image.AxesImage at 0x23c51bacb00>"
      ]
     },
     "execution_count": 4,
     "metadata": {},
     "output_type": "execute_result"
    },
    {
     "data": {
      "image/png": "[encoded data removed]",
      "text/plain": [
       "<Figure size 640x480 with 1 Axes>"
      ]
     },
     "metadata": {},
     "output_type": "display_data"
    }
   ],
   "source": [
    "plt.imshow(X_train[0])"
   ]
  },
  {
   "cell_type": "markdown",
   "metadata": {
    "id": "40cf8f85-4826-48c9-af77-e5e35d8b4bd0"
   },
   "source": [
    "In order to use conventional neural networks (also known as fully connected or dense networks) for image classification tasks like those with the MNIST dataset, we need to flatten the images into one-dimensional vectors. Here's how we can flatten each image from its original 28x28 pixel format into a 1x784 vector:\n"
   ]
  },
  {
   "cell_type": "code",
   "execution_count": 5,
   "metadata": {
    "id": "4b400ce0-07a1-4fd8-ae7c-7fd8d8bb701f"
   },
   "outputs": [],
   "source": [
    "# flatten images into one-dimensional vector\n",
    "\n",
    "num_pixels = X_train.shape[1] * X_train.shape[2] # find size of one-dimensional vector\n",
    "\n",
    "X_train = X_train.reshape(X_train.shape[0], num_pixels).astype('float32') # flatten training images\n",
    "X_test = X_test.reshape(X_test.shape[0], num_pixels).astype('float32') # flatten test images"
   ]
  },
  {
   "cell_type": "markdown",
   "metadata": {
    "id": "41d73cc8-9523-4df9-b2f0-4161172cd85b"
   },
   "source": [
    "Since pixel values can range from 0 to 255, let's normalize the vectors to be between 0 and 1.\n"
   ]
  },
  {
   "cell_type": "code",
   "execution_count": 6,
   "metadata": {
    "id": "423fbf2a-6f56-4d14-8d78-5c794ef0d977"
   },
   "outputs": [],
   "source": [
    "# normalize inputs from 0-255 to 0-1\n",
    "X_train = X_train / 255\n",
    "X_test = X_test / 255"
   ]
  },
  {
   "cell_type": "markdown",
   "metadata": {
    "id": "6578c204-30db-402a-af8d-3a25b181e9fb"
   },
   "source": [
    "Finally, before we start building our model, remember that for classification we need to divide our target variable into categories. We use the to_categorical function from the Keras Utilities package.\n"
   ]
  },
  {
   "cell_type": "code",
   "execution_count": 7,
   "metadata": {},
   "outputs": [
    {
     "data": {
      "text/plain": [
       "array([0, 1, 2, 3, 4, 5, 6, 7, 8, 9], dtype=uint8)"
      ]
     },
     "execution_count": 7,
     "metadata": {},
     "output_type": "execute_result"
    }
   ],
   "source": [
    "np.unique(y_test)"
   ]
  },
  {
   "cell_type": "code",
   "execution_count": 8,
   "metadata": {},
   "outputs": [
    {
     "name": "stdout",
     "output_type": "stream",
     "text": [
      "[7 2 1 ... 4 5 6]\n"
     ]
    }
   ],
   "source": [
    "print(y_test)"
   ]
  },
  {
   "cell_type": "code",
   "execution_count": 9,
   "metadata": {
    "colab": {
     "base_uri": "https://localhost:8080/"
    },
    "id": "d2cf1708-ab81-4055-ba61-796ea2305f71",
    "outputId": "6f3e947a-a446-4e80-d13e-d5196bd0ea11"
   },
   "outputs": [
    {
     "name": "stdout",
     "output_type": "stream",
     "text": [
      "10\n"
     ]
    }
   ],
   "source": [
    "# one hot encode outputs\n",
    "y_train = to_categorical(y_train)\n",
    "y_test = to_categorical(y_test)\n",
    "\n",
    "num_classes = y_test.shape[1]\n",
    "print(num_classes)"
   ]
  },
  {
   "cell_type": "code",
   "execution_count": 10,
   "metadata": {},
   "outputs": [
    {
     "data": {
      "text/plain": [
       "array([0., 1.])"
      ]
     },
     "execution_count": 10,
     "metadata": {},
     "output_type": "execute_result"
    }
   ],
   "source": [
    "np.unique(y_test)"
   ]
  },
  {
   "cell_type": "code",
   "execution_count": 11,
   "metadata": {},
   "outputs": [
    {
     "name": "stdout",
     "output_type": "stream",
     "text": [
      "[[0. 0. 0. ... 1. 0. 0.]\n",
      " [0. 0. 1. ... 0. 0. 0.]\n",
      " [0. 1. 0. ... 0. 0. 0.]\n",
      " ...\n",
      " [0. 0. 0. ... 0. 0. 0.]\n",
      " [0. 0. 0. ... 0. 0. 0.]\n",
      " [0. 0. 0. ... 0. 0. 0.]]\n"
     ]
    }
   ],
   "source": [
    "print(y_test)"
   ]
  },
  {
   "cell_type": "markdown",
   "metadata": {
    "id": "c45ab845-8ed9-45c1-ab98-f0b459336211"
   },
   "source": [
    "## Build a Neural Network\n"
   ]
  },
  {
   "cell_type": "code",
   "execution_count": 12,
   "metadata": {
    "id": "7fda3388-0933-4cb8-876b-b390b8a3fcd5"
   },
   "outputs": [],
   "source": [
    "# define classification model\n",
    "def classification_model():\n",
    "    # create model\n",
    "    model = Sequential()\n",
    "    #model.add(Dense(num_pixels, activation='relu', input_shape=(num_pixels,)))\n",
    "    model.add(Input(shape=(num_pixels,)))  # Use Input layer to specify the shape\n",
    "    model.add(Dense(100, activation='relu'))\n",
    "    model.add(Dense(num_classes, activation='softmax'))\n",
    "\n",
    "\n",
    "    # compile model\n",
    "    model.compile(optimizer='adam', loss='categorical_crossentropy', metrics=['accuracy'])\n",
    "    return model"
   ]
  },
  {
   "cell_type": "markdown",
   "metadata": {
    "id": "5690098b-54da-4575-838d-2b4bb0706049"
   },
   "source": [
    "<a id='item332'></a>\n"
   ]
  },
  {
   "cell_type": "markdown",
   "metadata": {
    "id": "dbc54f7f-b0bc-4af6-ab8f-8ffba65d56e8"
   },
   "source": [
    "## Train and Test the Network\n"
   ]
  },
  {
   "cell_type": "code",
   "execution_count": 13,
   "metadata": {
    "id": "7c3ce34a-7d96-4b73-a9d6-a3e6a24b584f"
   },
   "outputs": [],
   "source": [
    "# build the model\n",
    "model = classification_model()\n",
    "\n",
    "# fit the model\n",
    "history = model.fit(X_train, y_train, validation_data=(X_test, y_test), epochs=5, verbose=0)\n",
    "\n",
    "# evaluate the model\n",
    "scores = model.evaluate(X_test, y_test, verbose=0)"
   ]
  },
  {
   "cell_type": "markdown",
   "metadata": {
    "id": "d7346129-0871-4ed8-a0f9-d60b4a031436"
   },
   "source": [
    "Let's print the accuracy and the corresponding error.\n"
   ]
  },
  {
   "cell_type": "code",
   "execution_count": 14,
   "metadata": {
    "colab": {
     "base_uri": "https://localhost:8080/"
    },
    "id": "1ca30118-1d39-475d-9282-fd94a063fe2b",
    "outputId": "e1230ddc-2001-4e04-8d1c-95e7daf7c25e"
   },
   "outputs": [
    {
     "name": "stdout",
     "output_type": "stream",
     "text": [
      "Accuracy: 0.9751999974250793% \n",
      " Error: 0.024800002574920654\n"
     ]
    }
   ],
   "source": [
    "print('Accuracy: {}% \\n Error: {}'.format(scores[1], 1 - scores[1]))"
   ]
  },
  {
   "cell_type": "code",
   "execution_count": 15,
   "metadata": {
    "colab": {
     "base_uri": "https://localhost:8080/",
     "height": 445
    },
    "id": "JnS6KCKJrQ3z",
    "outputId": "220027f2-2864-4dcd-9c46-a8624040334b"
   },
   "outputs": [
    {
     "data": {
      "image/png": "[encoded data removed]",
      "text/plain": [
       "<Figure size 800x500 with 1 Axes>"
      ]
     },
     "metadata": {},
     "output_type": "display_data"
    }
   ],
   "source": [
    "import pandas as pd\n",
    "\n",
    "import matplotlib.pyplot as plt\n",
    "\n",
    "pd.DataFrame(history.history).plot(figsize=(8, 5))\n",
    "\n",
    "plt.grid(True)\n",
    "\n",
    "#plt.gca().set_ylim(0, 1) # set the vertical range to [0-1]\n",
    "\n",
    "plt.show()"
   ]
  },
  {
   "cell_type": "markdown",
   "metadata": {
    "id": "e3b91ba3-1e16-4627-bb05-2af2dc677da6"
   },
   "source": [
    "Just running 10 epochs could actually take over 20 minutes. But enjoy the results as they are getting generated.\n"
   ]
  },
  {
   "cell_type": "markdown",
   "metadata": {
    "id": "988683a0-ba7b-4b83-8c02-248a9b6af698"
   },
   "source": [
    "Sometimes, you cannot afford to retrain your model everytime you want to use it, especially if you are limited on computational resources and training your model can take a long time. Therefore, with the Keras library, you can save your model after training. To do that, we use the save method.\n"
   ]
  },
  {
   "cell_type": "code",
   "execution_count": 16,
   "metadata": {
    "colab": {
     "base_uri": "https://localhost:8080/"
    },
    "id": "c72b31e3-98ce-477f-a0f9-e12539e9296c",
    "outputId": "98bb9170-c70f-4af0-877a-2f8bdf91d386"
   },
   "outputs": [],
   "source": [
    "model.save('classification_model.keras')"
   ]
  },
  {
   "cell_type": "markdown",
   "metadata": {
    "id": "71b57c76-4672-43ff-a3a1-718f4a2d431d"
   },
   "source": [
    "Since our model contains multidimensional arrays of data, then models are usually saved as .keras files."
   ]
  },
  {
   "cell_type": "markdown",
   "metadata": {
    "id": "6c002e07-6613-4216-8592-d0bb380c158d"
   },
   "source": [
    "When you are ready to use your model again, you use the load_model function from <strong>keras.models</strong>.\n"
   ]
  },
  {
   "cell_type": "code",
   "execution_count": 17,
   "metadata": {
    "id": "f565995e-4175-475c-96fc-87de6803dd66"
   },
   "outputs": [],
   "source": [
    "from keras.models import load_model"
   ]
  },
  {
   "cell_type": "code",
   "execution_count": 18,
   "metadata": {
    "id": "de31ca51-19f9-4fc7-b059-6aaefc697827"
   },
   "outputs": [],
   "source": [
    "pretrained_model = load_model('classification_model.keras')"
   ]
  }
 ],
 "metadata": {
  "colab": {
   "provenance": []
  },
  "kernelspec": {
   "display_name": "Python 3 (ipykernel)",
   "language": "python",
   "name": "python3"
  },
  "language_info": {
   "codemirror_mode": {
    "name": "ipython",
    "version": 3
   },
   "file_extension": ".py",
   "mimetype": "text/x-python",
   "name": "python",
   "nbconvert_exporter": "python",
   "pygments_lexer": "ipython3",
   "version": "3.12.4"
  }
 },
 "nbformat": 4,
 "nbformat_minor": 4
}
