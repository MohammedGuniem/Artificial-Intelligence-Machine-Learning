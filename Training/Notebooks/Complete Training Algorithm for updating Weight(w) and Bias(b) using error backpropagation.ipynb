{
 "cells": [
  {
   "cell_type": "markdown",
   "metadata": {
    "id": "afb5JGrY-LOp"
   },
   "source": [
    "# Complete Training Algorithm for updating Weight(w) and Bias(b) using error backpropagation\n",
    "## 1. Initialize the weights and the biases\n",
    "\n",
    "## 2. Iteratively repeat the following steps:\n",
    "\n",
    "\n",
    "*  Calculate network output using forward propagation\n",
    "*  Calculate error between ground truth and estimated or predicted output\n",
    "*  Update weights and biases through backpropagation\n",
    "*  Repeat the above three steps until number of iterations/epochs is reached or error between ground truth and predicted output is below a predicted threshold\n",
    "\n",
    "\n",
    "\n",
    "\n",
    "\n"
   ]
  },
  {
   "cell_type": "code",
   "execution_count": 1,
   "metadata": {},
   "outputs": [],
   "source": [
    "# Import needed built-in functions\n",
    "import math\n",
    "from scipy.special import expit"
   ]
  },
  {
   "cell_type": "code",
   "execution_count": 2,
   "metadata": {},
   "outputs": [],
   "source": [
    "# Initialize the weights and the biases\n",
    "x1 = 0.1\n",
    "w1 = 0.15\n",
    "b1 = 0.40\n",
    "\n",
    "w2= 0.45\n",
    "b2 = 0.65\n",
    "\n",
    "# Ground Truth\n",
    "T = 0.25\n",
    "\n",
    "alpha = 0.4\n",
    "eps = 0.001\n",
    "epoch = 20"
   ]
  },
  {
   "cell_type": "code",
   "execution_count": 3,
   "metadata": {},
   "outputs": [],
   "source": [
    "# Define the activation function\n",
    "def actfunction(input_arg, w,b):\n",
    "  return input_arg*w + b"
   ]
  },
  {
   "cell_type": "code",
   "execution_count": 4,
   "metadata": {
    "colab": {
     "base_uri": "https://localhost:8080/"
    },
    "id": "26LxhIEL-KQQ",
    "outputId": "afa4bcc2-623f-44bd-8d1b-1effb70986f7"
   },
   "outputs": [
    {
     "name": "stdout",
     "output_type": "stream",
     "text": [
      "Error = 0.10822956298900614\n",
      "Error = 0.10476057761335658\n",
      "Error = 0.10130021623252208\n",
      "Error = 0.0978558521166079\n",
      "Error = 0.0944348656019445\n",
      "Error = 0.09104456322135591\n",
      "Error = 0.08769209652107113\n",
      "Error = 0.08438438266286807\n",
      "Error = 0.08112802888859369\n",
      "Error = 0.07792926280526749\n",
      "Error = 0.0747938702382213\n",
      "Error = 0.07172714210958313\n",
      "Error = 0.06873383144798284\n",
      "Error = 0.06581812124475615\n",
      "Error = 0.0629836034662462\n",
      "Error = 0.06023326913495407\n",
      "Error = 0.05756950902599599\n",
      "Error = 0.054994124207469804\n",
      "Error = 0.05250834539686678\n"
     ]
    }
   ],
   "source": [
    "## 2. Iteratively repeat the following steps:\n",
    "# Calculate network output using forward propagation\n",
    "# Calculate error between ground truth and estimated or predicted output\n",
    "# Update weights and biases through backpropagation\n",
    "# Repeat the above three steps until number of iterations/epochs is reached or error between ground truth and predicted output is below a predicted threshold\n",
    "\n",
    "# For loop for the number of epochs\n",
    "for i in range(1, epoch):\n",
    "\n",
    "    z1 = actfunction(x1, w1, b1)\n",
    "    #sigmoid\n",
    "    a1 = expit(z1)\n",
    "\n",
    "    z2 = actfunction(a1, w2, b2)\n",
    "    #sigmoid\n",
    "    a2 = expit(z2)\n",
    "\n",
    "    E = 0.5 * math.pow(T-a2, 2)\n",
    "    print('Error =', E)\n",
    "\n",
    "    # Update weights and biases through backpropagation\n",
    "    w2 = w2 - (alpha * ( (-1*(T -  a2) ) * ( a2*(1-a2) ) * a1) )\n",
    "    b2 = b2 - (alpha * ( (-1*(T -  a2) ) * ( a2*(1-a2) ) * a1) )\n",
    "\n",
    "    w1 = w1 - (alpha * ( (-1*(T -  a2) ) * ( a2*(1-a2) ) * w2 * ( a1*(1-a1) ) * x1))\n",
    "    b1 = b1 - (alpha * ( (-1*(T -  a2) ) * ( a2*(1-a2) ) * w2 * ( a1*(1-a1) ) * x1))"
   ]
  }
 ],
 "metadata": {
  "colab": {
   "provenance": []
  },
  "kernelspec": {
   "display_name": "Python 3 (ipykernel)",
   "language": "python",
   "name": "python3"
  },
  "language_info": {
   "codemirror_mode": {
    "name": "ipython",
    "version": 3
   },
   "file_extension": ".py",
   "mimetype": "text/x-python",
   "name": "python",
   "nbconvert_exporter": "python",
   "pygments_lexer": "ipython3",
   "version": "3.12.4"
  }
 },
 "nbformat": 4,
 "nbformat_minor": 4
}
