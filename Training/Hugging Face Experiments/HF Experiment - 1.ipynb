{
 "cells": [
  {
   "cell_type": "markdown",
   "id": "db96ab8f-abd6-4cf0-b131-bdef9302cb01",
   "metadata": {},
   "source": [
    "<h1>HuggingFace Experiments</h1>"
   ]
  },
  {
   "cell_type": "code",
   "execution_count": 1,
   "id": "62577e7b-70b0-4e73-a288-1c3e338a1d0d",
   "metadata": {},
   "outputs": [],
   "source": [
    "from transformers import pipeline, BartTokenizer, GPT2Tokenizer"
   ]
  },
  {
   "cell_type": "markdown",
   "id": "e6b876f3-cc41-4626-a576-22bcef71ba9d",
   "metadata": {},
   "source": [
    "<h3>Sentiment Analysis</h3>"
   ]
  },
  {
   "cell_type": "code",
   "execution_count": 2,
   "id": "6aa7fad0-36e0-4568-a066-5b5b5993a108",
   "metadata": {},
   "outputs": [],
   "source": [
    "sentiment_analysis_classifier = pipeline(\n",
    "    task=\"sentiment-analysis\", \n",
    "    model=\"distilbert-base-uncased-finetuned-sst-2-english\"\n",
    ")"
   ]
  },
  {
   "cell_type": "code",
   "execution_count": 3,
   "id": "0271b8d5-c970-4512-9c48-eed063141f78",
   "metadata": {},
   "outputs": [
    {
     "name": "stdout",
     "output_type": "stream",
     "text": [
      "[{'label': 'POSITIVE', 'score': 0.9598048329353333}]\n"
     ]
    }
   ],
   "source": [
    "result = sentiment_analysis_classifier(\n",
    "    inputs=\"I've been waiting for a HuggingFace course my whole life.\"\n",
    ")\n",
    "print(result)"
   ]
  },
  {
   "cell_type": "code",
   "execution_count": 4,
   "id": "fa8850f6-5da3-4180-8002-34e5e51213fe",
   "metadata": {},
   "outputs": [
    {
     "name": "stdout",
     "output_type": "stream",
     "text": [
      "{'label': 'POSITIVE', 'score': 0.9598048329353333}\n",
      "{'label': 'NEGATIVE', 'score': 0.9996224641799927}\n"
     ]
    }
   ],
   "source": [
    "results = sentiment_analysis_classifier(\n",
    "    inputs=[\"I've been waiting for a HuggingFace course my whole life.\", \"I hate this\"]\n",
    ")\n",
    "for item in results:\n",
    "    print(item)"
   ]
  },
  {
   "cell_type": "markdown",
   "id": "93ad29b6-0831-4e05-8dfe-67fbe1d748e4",
   "metadata": {},
   "source": [
    "<h3>Zero Shot Classification</h3>"
   ]
  },
  {
   "cell_type": "code",
   "execution_count": 5,
   "id": "416ad6df-99b5-42ab-9804-227d2ad0bb92",
   "metadata": {},
   "outputs": [],
   "source": [
    "tokenizer = BartTokenizer.from_pretrained(\n",
    "    pretrained_model_name_or_path=\"facebook/bart-large-mnli\", \n",
    "    clean_up_tokenization_spaces=True\n",
    ")\n",
    "\n",
    "zero_shot_classifier = pipeline(\n",
    "    task=\"zero-shot-classification\", \n",
    "    model=\"facebook/bart-large-mnli\", \n",
    "    tokenizer=tokenizer\n",
    ")"
   ]
  },
  {
   "cell_type": "code",
   "execution_count": 6,
   "id": "f65f253d-0564-4208-a910-abf18c78c45b",
   "metadata": {},
   "outputs": [
    {
     "name": "stdout",
     "output_type": "stream",
     "text": [
      "[{'sequence': 'This is a course about the transformers library.', 'labels': ['education', 'business', 'politics'], 'scores': [0.9053581953048706, 0.07259626686573029, 0.022045595571398735]}]\n"
     ]
    }
   ],
   "source": [
    "results = zero_shot_classifier(\n",
    "    sequences=[\"This is a course about the transformers library.\"], \n",
    "    candidate_labels=[\"education\", \"politics\", \"business\"]\n",
    ")\n",
    "print(results)"
   ]
  },
  {
   "cell_type": "markdown",
   "id": "372ccf0d-3238-49ad-8dbc-f96f21b54978",
   "metadata": {},
   "source": [
    "<h3>Text Generation</h3>"
   ]
  },
  {
   "cell_type": "code",
   "execution_count": 7,
   "id": "7ebb679e-c283-43f3-8d75-221f5a535d96",
   "metadata": {},
   "outputs": [],
   "source": [
    "tokenizer = GPT2Tokenizer.from_pretrained(pretrained_model_name_or_path=\"gpt2\", clean_up_tokenization_spaces=True)\n",
    "\n",
    "text_generator = pipeline(\n",
    "    task=\"text-generation\", \n",
    "    model=\"gpt2\", \n",
    "    tokenizer=tokenizer,\n",
    "    pad_token_id=tokenizer.eos_token_id \n",
    ")"
   ]
  },
  {
   "cell_type": "code",
   "execution_count": 8,
   "id": "b6c5b2ae-5975-441f-8db3-1e93144360bc",
   "metadata": {},
   "outputs": [
    {
     "name": "stdout",
     "output_type": "stream",
     "text": [
      "[{'generated_text': 'Once upon a time I could barely sleep because I was feeling too tired and tired all the time.\\n\\nAt first I only slept for about two days – I had lost so much weight, I had to give up a few extra pieces of food'}]\n"
     ]
    }
   ],
   "source": [
    "result = text_generator(\n",
    "    text_inputs=\"Once upon a time\", \n",
    "    max_length=50,\n",
    "    truncation=True\n",
    ")\n",
    "print(result)"
   ]
  },
  {
   "cell_type": "code",
   "execution_count": 9,
   "id": "b68ecd75-015e-42c0-8a3f-fe7d96be4ebc",
   "metadata": {},
   "outputs": [
    {
     "name": "stdout",
     "output_type": "stream",
     "text": [
      "45\n"
     ]
    }
   ],
   "source": [
    "print(len(result[0]['generated_text'].split(\" \")))"
   ]
  }
 ],
 "metadata": {
  "kernelspec": {
   "display_name": "Python 3 (ipykernel)",
   "language": "python",
   "name": "python3"
  },
  "language_info": {
   "codemirror_mode": {
    "name": "ipython",
    "version": 3
   },
   "file_extension": ".py",
   "mimetype": "text/x-python",
   "name": "python",
   "nbconvert_exporter": "python",
   "pygments_lexer": "ipython3",
   "version": "3.12.4"
  }
 },
 "nbformat": 4,
 "nbformat_minor": 5
}
