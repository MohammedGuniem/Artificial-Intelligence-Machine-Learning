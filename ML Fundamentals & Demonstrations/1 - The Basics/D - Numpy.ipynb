{
 "cells": [
  {
   "cell_type": "markdown",
   "id": "eb965b11-6539-4c03-a3a4-218f7edc1d2c",
   "metadata": {},
   "source": [
    "<h1>Numpy</h1>"
   ]
  },
  {
   "cell_type": "markdown",
   "id": "b1fd61f9-8133-428a-bc21-7100d76402e8",
   "metadata": {},
   "source": [
    "<p>Numpy is a Python package for manipulating lists and tables of numerical data. We can use it to do a lot of statistical calculations. We call the list or table of data a numpy array.</p>\n",
    "\n",
    "<p>We often will take the data from our pandas DataFrame and put it in numpy arrays. Pandas DataFrames are great because we have the column names and other text data that makes it human readable. A DataFrame, while easy for a human to read, is not the ideal format for doing calculations. The numpy arrays are generally less human readable, but are in a format that enables the necessary computation.</p>"
   ]
  },
  {
   "cell_type": "code",
   "execution_count": 1,
   "id": "2acffe56-3d24-4c32-8838-11743dd95d07",
   "metadata": {},
   "outputs": [],
   "source": [
    "import pandas as pd\n",
    "df = pd.read_csv('../data/titanic.csv')"
   ]
  },
  {
   "cell_type": "markdown",
   "id": "af048ab0-f21c-4ffd-aab9-c4ca9fa55671",
   "metadata": {},
   "source": [
    "<h3>Convert the Fare column to a numpy array.</h3>"
   ]
  },
  {
   "cell_type": "code",
   "execution_count": 2,
   "id": "aabcdf44-c164-4642-8cf5-f623fa036b81",
   "metadata": {},
   "outputs": [
    {
     "name": "stdout",
     "output_type": "stream",
     "text": [
      "[  7.25    71.2833   7.925   53.1      8.05     8.4583  51.8625  21.075\n",
      "  11.1333  30.0708  16.7     26.55     8.05    31.275    7.8542  16.\n",
      "  29.125   13.      18.       7.225   26.      13.       8.0292  35.5\n",
      "  21.075   31.3875   7.225  263.       7.8792   7.8958  27.7208 146.5208\n",
      "   7.75    10.5     82.1708  52.       7.2292   8.05    18.      11.2417\n",
      "   9.475   21.      41.5792   7.8792   8.05    15.5      7.75    21.6792\n",
      "  17.8     39.6875   7.8     76.7292  26.      61.9792  35.5     10.5\n",
      "   7.2292  27.75    46.9      7.2292  80.      83.475   27.9     27.7208\n",
      "  15.2458  10.5      8.1583   7.925    8.6625  10.5     46.9     73.5\n",
      "  14.4542  56.4958   7.65     7.8958   8.05    29.      12.475    9.\n",
      "   9.5      7.7875  47.1     10.5     15.85    34.375    8.05   263.\n",
      "   8.05     8.05     7.8542  61.175   20.575    7.25     8.05    34.6542\n",
      "  63.3583  23.      26.       7.8958   7.8958  77.2875   8.6542   7.925\n",
      "   7.8958   7.65     7.775    7.8958  24.15    52.      14.4542   8.05\n",
      "   9.825   14.4583   7.925    7.75    21.     247.5208  31.275   73.5\n",
      "   8.05    30.0708  13.      77.2875  11.2417   7.75     7.1417  22.3583\n",
      "   6.975    7.8958   7.05    14.5     26.      13.      15.0458  26.2833\n",
      "  53.1      9.2167  79.2     15.2458   7.75    15.85     6.75    11.5\n",
      "  36.75     7.7958  34.375   26.      13.      12.525   66.6      8.05\n",
      "  14.5      7.3125  61.3792   7.7333   8.05     8.6625  69.55    16.1\n",
      "  15.75     7.775    8.6625  39.6875  20.525   55.      27.9     25.925\n",
      "  56.4958  33.5     29.125   11.1333   7.925   30.6958   7.8542  25.4667\n",
      "  28.7125  13.       0.      69.55    15.05    31.3875  39.      22.025\n",
      "  50.      15.5     26.55    15.5      7.8958  13.      13.       7.8542\n",
      "  26.      27.7208 146.5208   7.75     8.4042   7.75    13.       9.5\n",
      "  69.55     6.4958   7.225    8.05    10.4625  15.85    18.7875   7.75\n",
      "  31.       7.05    21.       7.25    13.       7.75   113.275    7.925\n",
      "  27.      76.2917  10.5      8.05    13.       8.05     7.8958  90.\n",
      "   9.35    10.5      7.25    13.      25.4667  83.475    7.775   13.5\n",
      "  31.3875  10.5      7.55    26.      26.25    10.5     12.275   14.4542\n",
      "  15.5     10.5      7.125    7.225   90.       7.775   14.5     52.5542\n",
      "  26.       7.25    10.4625  26.55    16.1     20.2125  15.2458  79.2\n",
      "  86.5    512.3292  26.      31.3875  79.65     0.       7.75    10.5\n",
      "  39.6875   7.775  153.4625 135.6333  31.       0.      19.5     29.7\n",
      "   7.75    77.9583   7.75     0.      29.125   20.25     7.75     7.8542\n",
      "   9.5      8.05    26.       8.6625   9.5      7.8958  13.       7.75\n",
      "  78.85    91.0792  12.875    8.85     7.8958  27.7208   7.2292 151.55\n",
      "  30.5    247.5208   7.75    23.25     0.      12.35     8.05   151.55\n",
      " 110.8833 108.9     24.      56.9292  83.1583 262.375   26.       7.8958\n",
      "  26.25     7.8542  26.      14.     164.8667 134.5      7.25     7.8958\n",
      "  12.35    29.      69.55   135.6333   6.2375  13.      20.525   57.9792\n",
      "  23.25    28.5    153.4625  18.     133.65     7.8958  66.6    134.5\n",
      "   8.05    35.5     26.     263.      13.      13.      13.      13.\n",
      "  13.      16.1     15.9      8.6625   9.225   35.       7.2292  17.8\n",
      "   7.225    9.5     55.      13.       7.8792   7.8792  27.9     27.7208\n",
      "  14.4542   7.05    15.5      7.25    75.25     7.2292   7.75    69.3\n",
      "  55.4417   6.4958   8.05   135.6333  21.075   82.1708   7.25   211.5\n",
      "   4.0125   7.775  227.525   15.7417   7.925   52.       7.8958  73.5\n",
      "  46.9     13.       7.7292  12.     120.       7.7958   7.925  113.275\n",
      "  16.7      7.7958   7.8542  26.      10.5     12.65     7.925    8.05\n",
      "   9.825   15.85     8.6625  21.       7.75    18.75     7.775   25.4667\n",
      "   7.8958   6.8583  90.       0.       7.925    8.05    32.5     13.\n",
      "  13.      24.15     7.7333   7.875   14.4     20.2125   7.25    26.\n",
      "  26.       7.75     8.05    26.55    16.1     26.       7.125   55.9\n",
      " 120.      34.375   18.75   263.      10.5     26.25     9.5      7.775\n",
      "  13.       8.1125  81.8583  19.5     26.55    19.2583  30.5     27.75\n",
      "  19.9667  27.75    89.1042   8.05     7.8958  26.55    51.8625  10.5\n",
      "   7.75    26.55     8.05    38.5     13.       8.05     7.05     0.\n",
      "  26.55     7.725   19.2583   7.25     8.6625  27.75    13.7917   9.8375\n",
      "  52.      21.       7.0458   7.5208  12.2875  46.9      0.       8.05\n",
      "   9.5875  91.0792  25.4667  90.      29.7      8.05    15.9     19.9667\n",
      "   7.25    30.5     49.5042   8.05    14.4583  78.2667  15.1    151.55\n",
      "   7.7958   8.6625   7.75     7.6292   9.5875  86.5    108.9     26.\n",
      "  26.55    22.525   56.4958   7.75     8.05    26.2875  59.4      7.4958\n",
      "  34.0208  10.5     24.15    26.       7.8958  93.5      7.8958   7.225\n",
      "  57.9792   7.2292   7.75    10.5    221.7792   7.925   11.5     26.\n",
      "   7.2292   7.2292  22.3583   8.6625  26.25    26.55   106.425   14.5\n",
      "  49.5     71.      31.275   31.275   26.     106.425   26.      26.\n",
      "  13.8625  20.525   36.75   110.8833  26.       7.8292   7.225    7.775\n",
      "  26.55    39.6    227.525   79.65    17.4      7.75     7.8958  13.5\n",
      "   8.05     8.05    24.15     7.8958  21.075    7.2292   7.8542  10.5\n",
      "  51.4792  26.3875   7.75     8.05    14.5     13.      55.9     14.4583\n",
      "   7.925   30.     110.8833  26.      40.125    8.7125  79.65    15.\n",
      "  79.2      8.05     8.05     7.125   78.2667   7.25     7.75    26.\n",
      "  24.15    33.       0.       7.225   56.9292  27.       7.8958  42.4\n",
      "   8.05    26.55    15.55     7.8958  30.5     41.5792 153.4625  31.275\n",
      "   7.05    15.5      7.75     8.05    65.      14.4     16.1     39.\n",
      "  10.5     14.4542  52.5542  15.7417   7.8542  16.1     32.3208  12.35\n",
      "  77.9583   7.8958   7.7333  30.       7.0542  30.5      0.      27.9\n",
      "  13.       7.925   26.25    39.6875  16.1      7.8542  69.3     27.9\n",
      "  56.4958  19.2583  76.7292   7.8958  35.5      7.55     7.55     7.8958\n",
      "  23.       8.4333   7.8292   6.75    73.5      7.8958  15.5     13.\n",
      " 113.275  133.65     7.225   25.5875   7.4958   7.925   73.5     13.\n",
      "   7.775    8.05    52.      39.      52.      10.5     13.       0.\n",
      "   7.775    8.05     9.8417  46.9    512.3292   8.1375  76.7292   9.225\n",
      "  46.9     39.      41.5792  39.6875  10.1708   7.7958 211.3375  57.\n",
      "  13.4167  56.4958   7.225   26.55    13.5      8.05     7.7333 110.8833\n",
      "   7.65   227.525   26.2875  14.4542   7.7417   7.8542  26.      13.5\n",
      "  26.2875 151.55    15.2458  49.5042  26.55    52.       9.4833  13.\n",
      "   7.65   227.525   10.5      7.775   33.       7.0542  13.      13.\n",
      "  53.1      8.6625  21.       7.7375  26.       7.925  211.3375  18.7875\n",
      "   0.      13.      13.      16.1     34.375  512.3292   7.8958   7.8958\n",
      "  30.      78.85   262.375   16.1      7.925   71.      20.25    13.\n",
      "  53.1      7.75    23.      12.475    9.5      7.8958  65.      14.5\n",
      "   7.7958  11.5      8.05    86.5     14.5      7.125    7.2292 120.\n",
      "   7.775   77.9583  39.6      7.75    24.15     8.3625   9.5      7.8542\n",
      "  10.5      7.225   23.       7.75     7.75    12.475    7.7375 211.3375\n",
      "   7.2292  57.      30.      23.45     7.05     7.25     7.4958  29.125\n",
      "  20.575   79.2      7.75    26.      69.55    30.6958   7.8958  13.\n",
      "  25.9292   8.6833   7.2292  24.15    13.      26.25   120.       8.5167\n",
      "   6.975    7.775    0.       7.775   13.      53.1      7.8875  24.15\n",
      "  10.5     31.275    8.05     0.       7.925   37.0042   6.45    27.9\n",
      "  93.5      8.6625   0.      12.475   39.6875   6.95    56.4958  37.0042\n",
      "   7.75    80.      14.4542  18.75     7.2292   7.8542   8.3     83.1583\n",
      "   8.6625   8.05    56.4958  29.7      7.925   10.5     31.       6.4375\n",
      "   8.6625   7.55    69.55     7.8958  33.      89.1042  31.275    7.775\n",
      "  15.2458  39.4     26.       9.35   164.8667  26.55    19.2583   7.2292\n",
      "  14.1083  11.5     25.9292  69.55    13.      13.      13.8583  50.4958\n",
      "   9.5     11.1333   7.8958  52.5542   5.       9.      24.       7.225\n",
      "   9.8458   7.8958   7.8958  83.1583  26.       7.8958  10.5167  10.5\n",
      "   7.05    29.125   13.      30.      23.45    30.       7.75  ]\n"
     ]
    }
   ],
   "source": [
    "print(df['Fare'].values)"
   ]
  },
  {
   "cell_type": "markdown",
   "id": "b304d720-a312-4c81-9c0b-8bab6a49303e",
   "metadata": {},
   "source": [
    "<strong>The result is a 1-dimensional array. You can tell since there's only one set of brackets and it only expands across the page (not down as well).</strong>\n",
    "<br/>\n",
    "<strong>The values attribute of a Pandas Series give the data as a numpy array.</strong>"
   ]
  },
  {
   "cell_type": "markdown",
   "id": "00138392-6c2b-4a17-89d5-88f4bd95e1be",
   "metadata": {},
   "source": [
    "<h3>We can also select multiple columns and get a 2-dimensional numpy array.</h3>"
   ]
  },
  {
   "cell_type": "code",
   "execution_count": 3,
   "id": "461868b5-ebce-473a-b666-42047f81c712",
   "metadata": {},
   "outputs": [
    {
     "name": "stdout",
     "output_type": "stream",
     "text": [
      "[[ 3.      7.25   22.    ]\n",
      " [ 1.     71.2833 38.    ]\n",
      " [ 3.      7.925  26.    ]\n",
      " ...\n",
      " [ 3.     23.45    7.    ]\n",
      " [ 1.     30.     26.    ]\n",
      " [ 3.      7.75   32.    ]]\n"
     ]
    }
   ],
   "source": [
    "arr = df[['Pclass', 'Fare', 'Age']].values\n",
    "print(arr)"
   ]
  },
  {
   "cell_type": "markdown",
   "id": "d4b2352c-3359-42e2-9a9e-3557164e3851",
   "metadata": {},
   "source": [
    "<h3>We use the numpy shape attribute to determine the size of our numpy array. The size tells us how many rows and columns are in our data.</h3>"
   ]
  },
  {
   "cell_type": "code",
   "execution_count": 4,
   "id": "f47657bf-8095-4064-a428-e45db14aa102",
   "metadata": {},
   "outputs": [
    {
     "name": "stdout",
     "output_type": "stream",
     "text": [
      "(887, 3)\n"
     ]
    }
   ],
   "source": [
    "print(arr.shape)"
   ]
  },
  {
   "cell_type": "markdown",
   "id": "c8a00e7c-b544-420b-a55a-137b9e6c40b8",
   "metadata": {},
   "source": [
    "<strong>This result means we have 887 rows and 3 columns.</strong>\n",
    "<br/>\n",
    "<strong>You can also use the shape attribute on a pandas DataFrame (df.shape).</strong>"
   ]
  },
  {
   "cell_type": "markdown",
   "id": "98bca6ea-24ca-45c1-8fbf-8a7abda707da",
   "metadata": {},
   "source": [
    "<h3>We can select a single element from a numpy array with the following:</h3>"
   ]
  },
  {
   "cell_type": "code",
   "execution_count": 5,
   "id": "78cb424c-34e5-42b8-8cbd-babcd66c88dd",
   "metadata": {},
   "outputs": [
    {
     "name": "stdout",
     "output_type": "stream",
     "text": [
      "7.25\n"
     ]
    }
   ],
   "source": [
    "print(arr[0, 1])"
   ]
  },
  {
   "cell_type": "markdown",
   "id": "532f5085-646c-42c0-aab7-393222f21ebb",
   "metadata": {},
   "source": [
    "<h3>We can also select a single row, for example, the whole row of the first passenger:</h3>"
   ]
  },
  {
   "cell_type": "code",
   "execution_count": 6,
   "id": "073a5e80-c1bf-4ac8-a091-d783f3c53a3f",
   "metadata": {},
   "outputs": [
    {
     "name": "stdout",
     "output_type": "stream",
     "text": [
      "[ 3.    7.25 22.  ]\n"
     ]
    }
   ],
   "source": [
    "print(arr[0])"
   ]
  },
  {
   "cell_type": "markdown",
   "id": "b5d243fe-5d95-495f-8b9b-6ccdb03d3c6d",
   "metadata": {},
   "source": [
    "<h3>To select a single column (in this case the Age column), we have to use some special syntax:</h3>"
   ]
  },
  {
   "cell_type": "code",
   "execution_count": 7,
   "id": "38d8e194-1169-40fa-86d2-807562e605c5",
   "metadata": {},
   "outputs": [
    {
     "name": "stdout",
     "output_type": "stream",
     "text": [
      "[22.   38.   26.   35.   35.   27.   54.    2.   27.   14.    4.   58.\n",
      " 20.   39.   14.   55.    2.   23.   31.   22.   35.   34.   15.   28.\n",
      "  8.   38.   26.   19.   24.   23.   40.   48.   18.   66.   28.   42.\n",
      " 18.   21.   18.   14.   40.   27.    3.   19.   30.   20.   27.   16.\n",
      " 18.    7.   21.   49.   29.   65.   46.   21.   28.5   5.   11.   22.\n",
      " 38.   45.    4.   64.    7.   29.   19.   17.   26.   32.   16.   21.\n",
      " 26.   32.   25.   23.   28.    0.83 30.   22.   29.   31.   28.   17.\n",
      " 33.   16.   20.   23.   24.   29.   20.   46.   26.   59.   22.   71.\n",
      " 23.   34.   34.   28.   29.   21.   33.   37.   28.   21.   29.   38.\n",
      " 28.   47.   14.5  22.   20.   17.   21.   70.5  29.   24.    2.   21.\n",
      " 19.   32.5  32.5  54.   12.   19.   24.    2.   45.   33.   20.   47.\n",
      " 29.   25.   23.   19.   37.   16.   24.   40.   22.   24.   19.   18.\n",
      " 19.   27.    9.   36.5  42.   51.   22.   55.5  40.5  27.   51.   16.\n",
      " 30.   37.    5.   44.   40.   26.   17.    1.    9.   48.   45.   60.\n",
      " 28.   61.    4.    1.   21.   56.   18.    5.   50.   30.   36.    8.\n",
      " 39.    9.    1.    4.   39.   26.   45.   40.   36.   32.   19.   19.\n",
      "  3.   44.   58.   28.   42.   21.   24.   28.   17.   34.   45.5  18.\n",
      "  2.   32.   26.   16.   40.   24.   35.   22.   30.   22.   31.   27.\n",
      " 42.   32.   30.   16.   27.   51.   22.   38.   22.   19.   20.5  18.\n",
      " 12.   35.   29.   59.    5.   24.   21.   44.    8.   19.   33.   19.\n",
      " 18.   29.   22.   30.   44.   25.   24.   37.   54.   18.   29.   62.\n",
      " 30.   41.   29.   38.   30.   35.   50.    3.   52.   40.   21.   36.\n",
      " 16.   25.   58.   35.   28.   25.   41.   37.   33.   63.   45.   21.\n",
      "  7.   35.   65.   28.   16.   19.   57.   33.   30.   22.   42.   22.\n",
      " 26.   19.   36.   24.   24.   30.   23.5   2.   47.   50.   20.   24.\n",
      " 19.   46.   28.    0.92 42.   17.   30.   30.   24.   18.   26.   28.\n",
      " 43.   26.   24.   54.   31.   40.   22.   27.   30.   22.   20.   36.\n",
      " 61.   36.   31.   16.   28.   45.5  38.   16.   42.   30.   29.   41.\n",
      " 45.   45.    2.   24.   28.   25.   36.   24.   40.   34.    3.   42.\n",
      " 23.   43.   15.   25.   23.   28.   22.   38.   22.   23.   40.   29.\n",
      " 45.   35.   27.   30.   60.   35.   22.   24.   25.   18.   19.   22.\n",
      "  3.   25.   22.   27.   20.   19.   42.    1.   32.   35.   27.   18.\n",
      "  1.   36.   19.   17.   36.   21.   28.   23.   24.   22.   31.   46.\n",
      " 23.   28.   39.   26.   21.   28.   20.   34.   51.    3.   21.    3.\n",
      " 42.   27.   33.   22.   44.   32.   34.   18.   30.   10.   21.   29.\n",
      " 28.   18.   54.   28.   19.   28.   32.   28.   33.   42.   17.   50.\n",
      " 14.   21.   24.   64.   31.   45.   20.   25.   28.   29.    4.   13.\n",
      " 34.    5.   52.   36.   28.   30.   49.   24.   29.   65.   41.   50.\n",
      " 17.   48.   34.   47.   48.   34.   38.   21.   56.   22.    0.75 39.\n",
      " 38.   33.   23.   22.   40.   34.   29.   22.    2.    9.   37.   50.\n",
      " 63.   25.    8.   35.   58.   30.    9.   19.   21.   55.   71.   21.\n",
      " 26.   54.   55.   25.   24.   17.   21.   21.   37.   16.   18.   33.\n",
      " 37.   28.   26.   29.   66.   36.   54.   24.   47.   34.   30.   36.\n",
      " 32.   30.   22.   35.   44.   18.   40.5  50.   49.   39.   23.    2.\n",
      " 17.   17.   24.   30.    7.   45.   30.   69.   22.   36.    9.   11.\n",
      " 32.   50.   64.   19.   27.   33.    8.   17.   27.   21.   22.   22.\n",
      " 62.   48.   45.   39.   36.   30.   40.   28.   40.   62.   24.   19.\n",
      " 29.   28.   32.   62.   53.   36.   22.   16.   19.   34.   39.   18.\n",
      " 32.   25.   39.   54.   36.   16.   18.   47.   60.   22.   22.   35.\n",
      " 52.   47.   40.   37.   36.   31.   49.   18.   49.   24.   42.   37.\n",
      " 44.   35.   36.   30.   27.   22.   40.   39.   21.   18.   22.   35.\n",
      " 24.   34.   26.    4.   26.   27.   42.   20.   21.   21.   61.   57.\n",
      " 21.   26.   18.   80.   51.   32.   30.    9.   28.   32.   31.   41.\n",
      " 37.   20.   24.    2.   32.    0.75 48.   19.   56.   21.   23.   23.\n",
      " 18.   21.   16.   18.   24.   27.   32.   23.   58.   50.   40.   47.\n",
      " 36.   20.   32.   25.   49.   43.   48.   40.   31.   70.   31.   19.\n",
      " 18.   24.5  18.   43.   36.   28.   27.   20.   14.   60.   25.   14.\n",
      " 19.   18.   15.   31.    4.   37.   25.   60.   52.   44.   19.   49.\n",
      " 42.   18.   35.   18.   25.   26.   39.   45.   42.   22.    4.   24.\n",
      " 41.   48.   29.   52.   19.   38.   27.   33.    6.   17.   34.   50.\n",
      " 27.   20.   30.   28.   25.   25.   29.   11.   41.   23.   23.   28.5\n",
      " 48.   35.   20.   32.   45.   36.   21.   24.   31.   70.   16.   30.\n",
      " 19.   31.    4.    6.   33.   23.   48.    0.67 28.   18.   34.   33.\n",
      " 23.   41.   20.   36.   16.   51.   46.   30.5  28.   32.   24.   48.\n",
      " 57.   29.   54.   18.   20.    5.   22.   43.   13.   17.   29.   35.\n",
      " 25.   25.   18.    8.    1.   46.   20.   16.   21.   43.   25.   39.\n",
      " 49.   31.   30.   30.   34.   31.   11.    0.42 27.   31.   39.   18.\n",
      " 39.   33.   26.   39.   35.    6.   30.5  39.   23.   31.   43.   10.\n",
      " 52.   27.   38.   27.    2.   36.   23.    1.   19.   62.   15.    0.83\n",
      " 30.   23.   18.   39.   21.   20.   32.   29.   20.   16.   30.   34.5\n",
      " 17.   42.   18.   35.   28.   40.    4.   74.    9.   16.   44.   18.\n",
      " 45.   51.   24.   30.   41.   21.   48.   14.   24.   42.   27.   31.\n",
      " 23.    4.   26.   47.   33.   47.   28.   15.   20.   19.   23.   56.\n",
      " 25.   33.   22.   28.   25.   39.   27.   19.    7.   26.   32.  ]\n"
     ]
    }
   ],
   "source": [
    "age_col = arr[:, 2]\n",
    "print(age_col)"
   ]
  },
  {
   "cell_type": "markdown",
   "id": "9a5b63c5-6fc2-4dd9-8150-feee5fd1d675",
   "metadata": {},
   "source": [
    "<h3>Masking</h3>\n",
    "<p>Often times you want to select all the rows that meet a certain criteria.</p>\n",
    "<h3>We create what we call a mask first. This is an array of boolean values (True/False) of whether the passenger is a child or not.</h3>"
   ]
  },
  {
   "cell_type": "code",
   "execution_count": 8,
   "id": "90aecc41-69b9-4f32-a1e4-6ba437de8453",
   "metadata": {},
   "outputs": [
    {
     "data": {
      "text/plain": [
       "array([False, False, False, False, False, False, False,  True, False,\n",
       "        True,  True, False, False, False,  True, False,  True, False,\n",
       "       False, False, False, False,  True, False,  True, False, False,\n",
       "       False, False, False, False, False, False, False, False, False,\n",
       "       False, False, False,  True, False, False,  True, False, False,\n",
       "       False, False,  True, False,  True, False, False, False, False,\n",
       "       False, False, False,  True,  True, False, False, False,  True,\n",
       "       False,  True, False, False,  True, False, False,  True, False,\n",
       "       False, False, False, False, False,  True, False, False, False,\n",
       "       False, False,  True, False,  True, False, False, False, False,\n",
       "       False, False, False, False, False, False, False, False, False,\n",
       "       False, False, False, False, False, False, False, False, False,\n",
       "       False, False,  True, False, False,  True, False, False, False,\n",
       "       False,  True, False, False, False, False, False,  True, False,\n",
       "       False,  True, False, False, False, False, False, False, False,\n",
       "       False, False,  True, False, False, False, False, False, False,\n",
       "       False, False,  True, False, False, False, False, False, False,\n",
       "       False, False,  True, False, False,  True, False, False, False,\n",
       "        True,  True,  True, False, False, False, False, False,  True,\n",
       "        True, False, False, False,  True, False, False, False,  True,\n",
       "       False,  True,  True,  True, False, False, False, False, False,\n",
       "       False, False, False,  True, False, False, False, False, False,\n",
       "       False, False,  True, False, False, False,  True, False, False,\n",
       "        True, False, False, False, False, False, False, False, False,\n",
       "       False, False, False,  True, False, False, False, False, False,\n",
       "       False, False, False,  True, False, False, False,  True, False,\n",
       "       False, False,  True, False, False, False, False, False, False,\n",
       "       False, False, False, False, False, False, False, False, False,\n",
       "       False, False, False, False, False, False, False,  True, False,\n",
       "       False, False, False,  True, False, False, False, False, False,\n",
       "       False, False, False, False, False, False,  True, False, False,\n",
       "       False,  True, False, False, False, False, False, False, False,\n",
       "       False, False, False, False, False, False, False,  True, False,\n",
       "       False, False, False, False, False, False,  True, False,  True,\n",
       "       False, False, False, False, False, False, False, False, False,\n",
       "       False, False, False, False, False, False, False, False, False,\n",
       "       False, False, False,  True, False, False, False,  True, False,\n",
       "       False, False, False, False, False,  True, False, False, False,\n",
       "       False, False, False, False,  True, False, False, False,  True,\n",
       "       False, False, False, False, False, False, False, False, False,\n",
       "       False, False, False, False, False, False, False, False, False,\n",
       "       False, False, False,  True, False, False, False, False, False,\n",
       "       False,  True, False, False, False, False,  True, False, False,\n",
       "        True, False, False, False, False, False, False, False, False,\n",
       "       False, False, False, False, False, False, False, False, False,\n",
       "        True, False,  True, False, False, False, False, False, False,\n",
       "       False, False, False,  True, False, False, False, False, False,\n",
       "       False, False, False, False, False, False, False,  True, False,\n",
       "        True, False, False, False, False, False, False, False, False,\n",
       "       False,  True,  True, False,  True, False, False, False, False,\n",
       "       False, False, False, False, False, False,  True, False, False,\n",
       "       False, False, False, False, False, False, False,  True, False,\n",
       "       False, False, False, False, False, False, False, False,  True,\n",
       "        True, False, False, False, False,  True, False, False, False,\n",
       "        True, False, False, False, False, False, False, False, False,\n",
       "       False, False,  True, False, False, False,  True, False, False,\n",
       "       False, False, False, False, False, False, False, False, False,\n",
       "       False, False, False, False, False, False, False, False, False,\n",
       "       False, False, False, False, False,  True,  True,  True, False,\n",
       "       False,  True, False, False, False, False, False,  True,  True,\n",
       "       False, False, False, False, False, False,  True,  True, False,\n",
       "       False, False, False, False, False, False, False, False, False,\n",
       "       False, False, False, False, False, False, False, False, False,\n",
       "       False, False, False, False,  True, False, False, False, False,\n",
       "       False, False, False, False, False,  True, False, False, False,\n",
       "       False, False, False, False, False, False, False, False, False,\n",
       "       False, False, False, False, False, False, False, False, False,\n",
       "       False, False, False, False, False, False, False, False, False,\n",
       "       False, False, False,  True, False, False, False, False, False,\n",
       "       False, False, False, False, False, False, False, False, False,\n",
       "       False,  True, False, False, False, False, False, False, False,\n",
       "        True, False,  True, False, False, False, False, False, False,\n",
       "       False, False,  True, False, False, False, False, False, False,\n",
       "       False, False, False, False, False, False, False, False, False,\n",
       "       False, False, False, False, False, False, False, False, False,\n",
       "       False, False, False, False, False,  True, False, False,  True,\n",
       "       False, False,  True, False,  True, False, False, False, False,\n",
       "       False, False, False, False, False, False, False, False, False,\n",
       "       False, False, False, False,  True, False, False, False, False,\n",
       "       False, False, False, False, False,  True,  True, False, False,\n",
       "       False, False, False, False, False, False, False,  True, False,\n",
       "       False, False, False, False, False, False, False, False, False,\n",
       "       False, False, False, False,  True, False, False, False,  True,\n",
       "        True, False, False, False,  True, False, False, False, False,\n",
       "       False, False, False, False,  True, False, False, False, False,\n",
       "       False, False, False, False, False, False, False, False,  True,\n",
       "       False, False,  True,  True, False, False, False, False, False,\n",
       "        True,  True, False, False,  True, False, False, False, False,\n",
       "       False, False, False, False, False, False,  True,  True, False,\n",
       "       False, False, False, False, False, False, False, False,  True,\n",
       "       False, False, False, False, False,  True, False, False, False,\n",
       "       False,  True, False, False,  True, False, False,  True,  True,\n",
       "       False, False, False, False, False, False, False, False, False,\n",
       "        True, False, False,  True, False, False, False, False, False,\n",
       "        True, False,  True,  True, False, False, False, False, False,\n",
       "       False, False, False, False,  True, False, False, False, False,\n",
       "       False,  True, False, False, False, False, False,  True, False,\n",
       "       False, False, False, False, False, False, False, False, False,\n",
       "       False, False,  True, False, False])"
      ]
     },
     "execution_count": 8,
     "metadata": {},
     "output_type": "execute_result"
    }
   ],
   "source": [
    "mask = arr[:, 2] < 18\n",
    "mask"
   ]
  },
  {
   "cell_type": "markdown",
   "id": "9900b26d-ce30-40ef-b61a-abd9800dd536",
   "metadata": {},
   "source": [
    "<strong>The False values mean adult and the True values mean child, so the first 7 passengers are adults, then 8th is a child, and the 9th is an adult.</strong>\n",
    "<h3>Now we use our mask to select just the rows we care about:</h3>"
   ]
  },
  {
   "cell_type": "code",
   "execution_count": 9,
   "id": "e18902fe-5bc2-4941-8ada-170e94f96231",
   "metadata": {},
   "outputs": [
    {
     "data": {
      "text/plain": [
       "array([[  3.    ,  21.075 ,   2.    ],\n",
       "       [  2.    ,  30.0708,  14.    ],\n",
       "       [  3.    ,  16.7   ,   4.    ],\n",
       "       [  3.    ,   7.8542,  14.    ],\n",
       "       [  3.    ,  29.125 ,   2.    ],\n",
       "       [  3.    ,   8.0292,  15.    ],\n",
       "       [  3.    ,  21.075 ,   8.    ],\n",
       "       [  3.    ,  11.2417,  14.    ],\n",
       "       [  2.    ,  41.5792,   3.    ],\n",
       "       [  3.    ,  21.6792,  16.    ],\n",
       "       [  3.    ,  39.6875,   7.    ],\n",
       "       [  2.    ,  27.75  ,   5.    ],\n",
       "       [  3.    ,  46.9   ,  11.    ],\n",
       "       [  3.    ,  27.9   ,   4.    ],\n",
       "       [  3.    ,  15.2458,   7.    ],\n",
       "       [  3.    ,   7.925 ,  17.    ],\n",
       "       [  3.    ,  46.9   ,  16.    ],\n",
       "       [  2.    ,  29.    ,   0.83  ],\n",
       "       [  2.    ,  10.5   ,  17.    ],\n",
       "       [  3.    ,  34.375 ,  16.    ],\n",
       "       [  3.    ,  14.4542,  14.5   ],\n",
       "       [  3.    ,  14.4583,  17.    ],\n",
       "       [  3.    ,  31.275 ,   2.    ],\n",
       "       [  3.    ,  11.2417,  12.    ],\n",
       "       [  3.    ,  22.3583,   2.    ],\n",
       "       [  3.    ,   9.2167,  16.    ],\n",
       "       [  3.    ,  34.375 ,   9.    ],\n",
       "       [  3.    ,   7.7333,  16.    ],\n",
       "       [  3.    ,  69.55  ,   5.    ],\n",
       "       [  3.    ,   8.6625,  17.    ],\n",
       "       [  3.    ,  39.6875,   1.    ],\n",
       "       [  3.    ,  20.525 ,   9.    ],\n",
       "       [  3.    ,  29.125 ,   4.    ],\n",
       "       [  3.    ,  11.1333,   1.    ],\n",
       "       [  3.    ,  25.4667,   5.    ],\n",
       "       [  3.    ,  69.55  ,   8.    ],\n",
       "       [  3.    ,  31.3875,   9.    ],\n",
       "       [  2.    ,  39.    ,   1.    ],\n",
       "       [  3.    ,  22.025 ,   4.    ],\n",
       "       [  2.    ,  26.    ,   3.    ],\n",
       "       [  3.    ,  69.55  ,  17.    ],\n",
       "       [  3.    ,  10.4625,   2.    ],\n",
       "       [  3.    ,   7.75  ,  16.    ],\n",
       "       [  3.    ,   8.05  ,  16.    ],\n",
       "       [  3.    ,  25.4667,  12.    ],\n",
       "       [  3.    ,  31.3875,   5.    ],\n",
       "       [  2.    ,  26.25  ,   8.    ],\n",
       "       [  3.    ,  31.3875,   3.    ],\n",
       "       [  3.    ,  39.6875,  16.    ],\n",
       "       [  3.    ,  29.125 ,   7.    ],\n",
       "       [  3.    ,   9.5   ,  16.    ],\n",
       "       [  1.    , 151.55  ,   2.    ],\n",
       "       [  1.    , 151.55  ,   0.92  ],\n",
       "       [  1.    , 108.9   ,  17.    ],\n",
       "       [  1.    ,  57.9792,  16.    ],\n",
       "       [  3.    ,  18.    ,  16.    ],\n",
       "       [  2.    ,  26.    ,   2.    ],\n",
       "       [  3.    ,  15.9   ,   3.    ],\n",
       "       [  3.    ,   7.2292,  15.    ],\n",
       "       [  3.    ,  21.075 ,   3.    ],\n",
       "       [  3.    ,  15.7417,   1.    ],\n",
       "       [  3.    ,  46.9   ,   1.    ],\n",
       "       [  2.    ,  12.    ,  17.    ],\n",
       "       [  2.    ,  18.75  ,   3.    ],\n",
       "       [  3.    ,  25.4667,   3.    ],\n",
       "       [  3.    ,  24.15  ,  10.    ],\n",
       "       [  3.    ,   7.125 ,  17.    ],\n",
       "       [  1.    , 120.    ,  14.    ],\n",
       "       [  1.    ,  81.8583,   4.    ],\n",
       "       [  2.    ,  19.5   ,  13.    ],\n",
       "       [  3.    ,  19.2583,   5.    ],\n",
       "       [  3.    ,   7.75  ,  17.    ],\n",
       "       [  3.    ,  19.2583,   0.75  ],\n",
       "       [  3.    ,  12.2875,   2.    ],\n",
       "       [  3.    ,  46.9   ,   9.    ],\n",
       "       [  3.    ,  25.4667,   8.    ],\n",
       "       [  3.    ,  15.9   ,   9.    ],\n",
       "       [  3.    ,   8.6625,  17.    ],\n",
       "       [  1.    ,  86.5   ,  16.    ],\n",
       "       [  2.    ,  26.    ,   2.    ],\n",
       "       [  3.    ,   7.2292,  17.    ],\n",
       "       [  3.    ,   7.2292,  17.    ],\n",
       "       [  2.    ,  26.25  ,   7.    ],\n",
       "       [  3.    ,  31.275 ,   9.    ],\n",
       "       [  3.    ,  31.275 ,  11.    ],\n",
       "       [  2.    ,  36.75  ,   8.    ],\n",
       "       [  1.    , 110.8833,  17.    ],\n",
       "       [  3.    ,   8.05  ,  16.    ],\n",
       "       [  3.    ,   8.7125,  16.    ],\n",
       "       [  2.    ,  39.    ,   4.    ],\n",
       "       [  3.    ,  27.9   ,   9.    ],\n",
       "       [  3.    ,  27.9   ,   2.    ],\n",
       "       [  3.    ,  19.2583,   0.75  ],\n",
       "       [  3.    ,   7.8292,  16.    ],\n",
       "       [  3.    ,  46.9   ,  14.    ],\n",
       "       [  3.    ,  39.6875,  14.    ],\n",
       "       [  1.    , 211.3375,  15.    ],\n",
       "       [  3.    ,  13.4167,   4.    ],\n",
       "       [  3.    ,  15.2458,   4.    ],\n",
       "       [  2.    ,  33.    ,   6.    ],\n",
       "       [  3.    ,   7.0542,  17.    ],\n",
       "       [  3.    ,  18.7875,  11.    ],\n",
       "       [  3.    ,  20.25  ,  16.    ],\n",
       "       [  2.    ,  23.    ,   4.    ],\n",
       "       [  3.    ,  12.475 ,   6.    ],\n",
       "       [  2.    ,  14.5   ,   0.67  ],\n",
       "       [  3.    ,   7.775 ,  16.    ],\n",
       "       [  3.    ,  12.475 ,   5.    ],\n",
       "       [  3.    ,   7.2292,  13.    ],\n",
       "       [  1.    ,  57.    ,  17.    ],\n",
       "       [  3.    ,  29.125 ,   8.    ],\n",
       "       [  3.    ,  20.575 ,   1.    ],\n",
       "       [  2.    ,  26.    ,  16.    ],\n",
       "       [  1.    , 120.    ,  11.    ],\n",
       "       [  3.    ,   8.5167,   0.42  ],\n",
       "       [  3.    ,  31.275 ,   6.    ],\n",
       "       [  3.    ,  27.9   ,  10.    ],\n",
       "       [  3.    ,  39.6875,   2.    ],\n",
       "       [  2.    ,  37.0042,   1.    ],\n",
       "       [  3.    ,  14.4542,  15.    ],\n",
       "       [  2.    ,  18.75  ,   0.83  ],\n",
       "       [  2.    ,  10.5   ,  16.    ],\n",
       "       [  3.    ,   8.6625,  17.    ],\n",
       "       [  3.    ,  31.275 ,   4.    ],\n",
       "       [  3.    ,  15.2458,   9.    ],\n",
       "       [  1.    ,  39.4   ,  16.    ],\n",
       "       [  3.    ,  69.55  ,  14.    ],\n",
       "       [  3.    ,  11.1333,   4.    ],\n",
       "       [  3.    ,   7.225 ,  15.    ],\n",
       "       [  3.    ,  23.45  ,   7.    ]])"
      ]
     },
     "execution_count": 9,
     "metadata": {},
     "output_type": "execute_result"
    }
   ],
   "source": [
    "arr[mask]"
   ]
  },
  {
   "cell_type": "markdown",
   "id": "8b402951-73b0-4677-aaaa-04b737d91e6a",
   "metadata": {},
   "source": [
    "<strong>If we recall that the third column is the passengers age, we see that all the rows here are for passengers that are children</strong>"
   ]
  },
  {
   "cell_type": "markdown",
   "id": "c087675e-faed-4505-b3a4-52467b312ed9",
   "metadata": {},
   "source": [
    "<strong>Generally, we don't need to define the mask variable and can do the above in just a single line:</strong>"
   ]
  },
  {
   "cell_type": "code",
   "execution_count": 10,
   "id": "fc52d569-34b8-40d2-8f7f-e5ba12ae6118",
   "metadata": {},
   "outputs": [
    {
     "data": {
      "text/plain": [
       "array([[  3.    ,  21.075 ,   2.    ],\n",
       "       [  2.    ,  30.0708,  14.    ],\n",
       "       [  3.    ,  16.7   ,   4.    ],\n",
       "       [  3.    ,   7.8542,  14.    ],\n",
       "       [  3.    ,  29.125 ,   2.    ],\n",
       "       [  3.    ,   8.0292,  15.    ],\n",
       "       [  3.    ,  21.075 ,   8.    ],\n",
       "       [  3.    ,  11.2417,  14.    ],\n",
       "       [  2.    ,  41.5792,   3.    ],\n",
       "       [  3.    ,  21.6792,  16.    ],\n",
       "       [  3.    ,  39.6875,   7.    ],\n",
       "       [  2.    ,  27.75  ,   5.    ],\n",
       "       [  3.    ,  46.9   ,  11.    ],\n",
       "       [  3.    ,  27.9   ,   4.    ],\n",
       "       [  3.    ,  15.2458,   7.    ],\n",
       "       [  3.    ,   7.925 ,  17.    ],\n",
       "       [  3.    ,  46.9   ,  16.    ],\n",
       "       [  2.    ,  29.    ,   0.83  ],\n",
       "       [  2.    ,  10.5   ,  17.    ],\n",
       "       [  3.    ,  34.375 ,  16.    ],\n",
       "       [  3.    ,  14.4542,  14.5   ],\n",
       "       [  3.    ,  14.4583,  17.    ],\n",
       "       [  3.    ,  31.275 ,   2.    ],\n",
       "       [  3.    ,  11.2417,  12.    ],\n",
       "       [  3.    ,  22.3583,   2.    ],\n",
       "       [  3.    ,   9.2167,  16.    ],\n",
       "       [  3.    ,  34.375 ,   9.    ],\n",
       "       [  3.    ,   7.7333,  16.    ],\n",
       "       [  3.    ,  69.55  ,   5.    ],\n",
       "       [  3.    ,   8.6625,  17.    ],\n",
       "       [  3.    ,  39.6875,   1.    ],\n",
       "       [  3.    ,  20.525 ,   9.    ],\n",
       "       [  3.    ,  29.125 ,   4.    ],\n",
       "       [  3.    ,  11.1333,   1.    ],\n",
       "       [  3.    ,  25.4667,   5.    ],\n",
       "       [  3.    ,  69.55  ,   8.    ],\n",
       "       [  3.    ,  31.3875,   9.    ],\n",
       "       [  2.    ,  39.    ,   1.    ],\n",
       "       [  3.    ,  22.025 ,   4.    ],\n",
       "       [  2.    ,  26.    ,   3.    ],\n",
       "       [  3.    ,  69.55  ,  17.    ],\n",
       "       [  3.    ,  10.4625,   2.    ],\n",
       "       [  3.    ,   7.75  ,  16.    ],\n",
       "       [  3.    ,   8.05  ,  16.    ],\n",
       "       [  3.    ,  25.4667,  12.    ],\n",
       "       [  3.    ,  31.3875,   5.    ],\n",
       "       [  2.    ,  26.25  ,   8.    ],\n",
       "       [  3.    ,  31.3875,   3.    ],\n",
       "       [  3.    ,  39.6875,  16.    ],\n",
       "       [  3.    ,  29.125 ,   7.    ],\n",
       "       [  3.    ,   9.5   ,  16.    ],\n",
       "       [  1.    , 151.55  ,   2.    ],\n",
       "       [  1.    , 151.55  ,   0.92  ],\n",
       "       [  1.    , 108.9   ,  17.    ],\n",
       "       [  1.    ,  57.9792,  16.    ],\n",
       "       [  3.    ,  18.    ,  16.    ],\n",
       "       [  2.    ,  26.    ,   2.    ],\n",
       "       [  3.    ,  15.9   ,   3.    ],\n",
       "       [  3.    ,   7.2292,  15.    ],\n",
       "       [  3.    ,  21.075 ,   3.    ],\n",
       "       [  3.    ,  15.7417,   1.    ],\n",
       "       [  3.    ,  46.9   ,   1.    ],\n",
       "       [  2.    ,  12.    ,  17.    ],\n",
       "       [  2.    ,  18.75  ,   3.    ],\n",
       "       [  3.    ,  25.4667,   3.    ],\n",
       "       [  3.    ,  24.15  ,  10.    ],\n",
       "       [  3.    ,   7.125 ,  17.    ],\n",
       "       [  1.    , 120.    ,  14.    ],\n",
       "       [  1.    ,  81.8583,   4.    ],\n",
       "       [  2.    ,  19.5   ,  13.    ],\n",
       "       [  3.    ,  19.2583,   5.    ],\n",
       "       [  3.    ,   7.75  ,  17.    ],\n",
       "       [  3.    ,  19.2583,   0.75  ],\n",
       "       [  3.    ,  12.2875,   2.    ],\n",
       "       [  3.    ,  46.9   ,   9.    ],\n",
       "       [  3.    ,  25.4667,   8.    ],\n",
       "       [  3.    ,  15.9   ,   9.    ],\n",
       "       [  3.    ,   8.6625,  17.    ],\n",
       "       [  1.    ,  86.5   ,  16.    ],\n",
       "       [  2.    ,  26.    ,   2.    ],\n",
       "       [  3.    ,   7.2292,  17.    ],\n",
       "       [  3.    ,   7.2292,  17.    ],\n",
       "       [  2.    ,  26.25  ,   7.    ],\n",
       "       [  3.    ,  31.275 ,   9.    ],\n",
       "       [  3.    ,  31.275 ,  11.    ],\n",
       "       [  2.    ,  36.75  ,   8.    ],\n",
       "       [  1.    , 110.8833,  17.    ],\n",
       "       [  3.    ,   8.05  ,  16.    ],\n",
       "       [  3.    ,   8.7125,  16.    ],\n",
       "       [  2.    ,  39.    ,   4.    ],\n",
       "       [  3.    ,  27.9   ,   9.    ],\n",
       "       [  3.    ,  27.9   ,   2.    ],\n",
       "       [  3.    ,  19.2583,   0.75  ],\n",
       "       [  3.    ,   7.8292,  16.    ],\n",
       "       [  3.    ,  46.9   ,  14.    ],\n",
       "       [  3.    ,  39.6875,  14.    ],\n",
       "       [  1.    , 211.3375,  15.    ],\n",
       "       [  3.    ,  13.4167,   4.    ],\n",
       "       [  3.    ,  15.2458,   4.    ],\n",
       "       [  2.    ,  33.    ,   6.    ],\n",
       "       [  3.    ,   7.0542,  17.    ],\n",
       "       [  3.    ,  18.7875,  11.    ],\n",
       "       [  3.    ,  20.25  ,  16.    ],\n",
       "       [  2.    ,  23.    ,   4.    ],\n",
       "       [  3.    ,  12.475 ,   6.    ],\n",
       "       [  2.    ,  14.5   ,   0.67  ],\n",
       "       [  3.    ,   7.775 ,  16.    ],\n",
       "       [  3.    ,  12.475 ,   5.    ],\n",
       "       [  3.    ,   7.2292,  13.    ],\n",
       "       [  1.    ,  57.    ,  17.    ],\n",
       "       [  3.    ,  29.125 ,   8.    ],\n",
       "       [  3.    ,  20.575 ,   1.    ],\n",
       "       [  2.    ,  26.    ,  16.    ],\n",
       "       [  1.    , 120.    ,  11.    ],\n",
       "       [  3.    ,   8.5167,   0.42  ],\n",
       "       [  3.    ,  31.275 ,   6.    ],\n",
       "       [  3.    ,  27.9   ,  10.    ],\n",
       "       [  3.    ,  39.6875,   2.    ],\n",
       "       [  2.    ,  37.0042,   1.    ],\n",
       "       [  3.    ,  14.4542,  15.    ],\n",
       "       [  2.    ,  18.75  ,   0.83  ],\n",
       "       [  2.    ,  10.5   ,  16.    ],\n",
       "       [  3.    ,   8.6625,  17.    ],\n",
       "       [  3.    ,  31.275 ,   4.    ],\n",
       "       [  3.    ,  15.2458,   9.    ],\n",
       "       [  1.    ,  39.4   ,  16.    ],\n",
       "       [  3.    ,  69.55  ,  14.    ],\n",
       "       [  3.    ,  11.1333,   4.    ],\n",
       "       [  3.    ,   7.225 ,  15.    ],\n",
       "       [  3.    ,  23.45  ,   7.    ]])"
      ]
     },
     "execution_count": 10,
     "metadata": {},
     "output_type": "execute_result"
    }
   ],
   "source": [
    "arr[arr[:, 2] < 18] "
   ]
  },
  {
   "cell_type": "markdown",
   "id": "a1e379ca-db83-4306-9474-d95788e7dc0d",
   "metadata": {},
   "source": [
    "<strong>So in short, A mask is a boolean array (True/False values) that tells us which values from the array we’re interested in.</strong>"
   ]
  },
  {
   "cell_type": "markdown",
   "id": "bfc007ea-6e49-466a-a6b2-53154a089c29",
   "metadata": {},
   "source": [
    "<h3>Summing and counting</h3>\n",
    "\n",
    "<p>Let’s say we want to know how many of our passengers are children.</p>\n",
    "<p>Recall that True values are interpreted as 1 and False values are interpreted as 0. So we can just sum up the array and that’s equivalent to counting the number of true values.</p>"
   ]
  },
  {
   "cell_type": "code",
   "execution_count": 11,
   "id": "9ea818c0-9db2-47b2-94f4-da8657f9c899",
   "metadata": {},
   "outputs": [
    {
     "name": "stdout",
     "output_type": "stream",
     "text": [
      "130\n",
      "130\n"
     ]
    }
   ],
   "source": [
    "print(mask.sum())\n",
    "print((arr[:, 2] < 18).sum())"
   ]
  },
  {
   "cell_type": "markdown",
   "id": "7d6a80e9-9e55-4def-9bab-2a7f8c772b1f",
   "metadata": {},
   "source": [
    "<h3>Let's say we want to know the number of passengers who has and hasn't survived in each class.</h3>"
   ]
  },
  {
   "cell_type": "code",
   "execution_count": 12,
   "id": "0cbccfb7-4719-486a-87da-3070f0b7ec8e",
   "metadata": {},
   "outputs": [
    {
     "name": "stdout",
     "output_type": "stream",
     "text": [
      "survived in first class:  136\n",
      "survived in second class:  87\n",
      "survived in third class:  119\n",
      "did not survive in first class:  80\n",
      "did not survive in second class:  97\n",
      "did not survive in second class:  368\n",
      "Total number of passengers:  887\n"
     ]
    }
   ],
   "source": [
    "smaller_df = df[['Pclass', 'Survived']]\n",
    "arr = smaller_df.values\n",
    "\n",
    "s_1 = arr[(arr[:, 0] == 1) & (arr[:, 1] == 1)]\n",
    "s_2 = arr[(arr[:, 0] == 2) & (arr[:, 1] == 1)]\n",
    "s_3 = arr[(arr[:, 0] == 3) & (arr[:, 1] == 1)]\n",
    "\n",
    "print(\"survived in first class: \", len(s_1))\n",
    "print(\"survived in second class: \", len(s_2))\n",
    "print(\"survived in third class: \", len(s_3))\n",
    "\n",
    "ns_1 = arr[(arr[:, 0] == 1) & (arr[:, 1] == 0)]\n",
    "ns_2 = arr[(arr[:, 0] == 2) & (arr[:, 1] == 0)]\n",
    "ns_3 = arr[(arr[:, 0] == 3) & (arr[:, 1] == 0)]\n",
    "\n",
    "print(\"did not survive in first class: \", len(ns_1))\n",
    "print(\"did not survive in second class: \", len(ns_2))\n",
    "print(\"did not survive in second class: \", len(ns_3))\n",
    "\n",
    "print(\"Total number of passengers: \", len(smaller_df))\n"
   ]
  }
 ],
 "metadata": {
  "kernelspec": {
   "display_name": "Python 3 (ipykernel)",
   "language": "python",
   "name": "python3"
  },
  "language_info": {
   "codemirror_mode": {
    "name": "ipython",
    "version": 3
   },
   "file_extension": ".py",
   "mimetype": "text/x-python",
   "name": "python",
   "nbconvert_exporter": "python",
   "pygments_lexer": "ipython3",
   "version": "3.12.4"
  }
 },
 "nbformat": 4,
 "nbformat_minor": 5
}
