{
 "cells": [
  {
   "cell_type": "markdown",
   "id": "3c71b4f0-d022-4457-bb89-95ff3d66a6d8",
   "metadata": {},
   "source": [
    "<h1>Decision Tree Pros and Cons</h1>"
   ]
  },
  {
   "cell_type": "markdown",
   "id": "b3dd502b-bb16-431a-b4be-16f403816248",
   "metadata": {},
   "source": [
    "<h3>Computation</h3>"
   ]
  },
  {
   "cell_type": "markdown",
   "id": "5e246413-4e22-4215-8cd1-8ebfdebef2bc",
   "metadata": {},
   "source": [
    "<p>\n",
    "    When talking about how much computation is required for a machine learning algorithm, we separate it into two questions:\n",
    "</p>\n",
    "\n",
    "<ul>\n",
    "    <li>How much computation is required to build the model</li>\n",
    "</ul>\n",
    "<p>\n",
    "    A decision tree is very computationally expensive to build. This is because at every node we are trying every single feature and threshold as a possible split. We have to calculate the information gain of each of these possible splits each time.\n",
    "</p>\n",
    "\n",
    "<ul>\n",
    "    <li>How much is required to predict</li>\n",
    "</ul>\n",
    "<p>\n",
    "    Predicting with a decision tree on the other hand, is computational very inexpensive. You just need to ask a series of yes/no questions about the datapoint to get to the prediction.\n",
    "</p>\n",
    "\n",
    "<strong>\n",
    "    Generally we care much more about the computation time for prediction than training.<br/>Predictions often need to happen in real time while a user is waiting for a result.\n",
    "</strong>"
   ]
  },
  {
   "cell_type": "markdown",
   "id": "5b7a49aa-2192-4c89-9712-7c5e32b95151",
   "metadata": {},
   "source": [
    "<h3>Performance</h3>"
   ]
  },
  {
   "cell_type": "markdown",
   "id": "6f61b2b9-c9d2-4441-897b-6e7de4c0cc23",
   "metadata": {},
   "source": [
    "<p>\n",
    "    Decision Trees can perform decently well depending on the data, but they are prone to overfitting. Since a leaf node can have just one datapoint that lands there, which gives individual datapoints too much power.\n",
    "</p>\n",
    "<p>This is why decision trees generally require some tuning to get the best possible model through some pruning techniques to limit the size of the tree</p>\n",
    "\n",
    "<strong>Decision Trees often take work to perform on par with how other models perform with no tuning.</strong>"
   ]
  },
  {
   "cell_type": "markdown",
   "id": "e4f5aa07-4854-4e24-9e22-737de10a0649",
   "metadata": {},
   "source": [
    "<h3>Interpretability</h3>"
   ]
  },
  {
   "cell_type": "markdown",
   "id": "8ff0bd34-2918-45f4-8ec1-1e6a9511a9cc",
   "metadata": {},
   "source": [
    "<p>decision trees are easily interpretable if you need to give a reason why you made a certain prediction</p>\n",
    "<p>\n",
    "    An example is when you have a legal situations like in a bank where we can have a model to predict whether a person should be given a loan or not.<br/>\n",
    "    In such cases, it is important to be able to explain why the model made the decision, otherwise you could hide discriminatory practices within the model.\n",
    "</p>\n",
    "\n",
    "<strong>Interpretability is the biggest advantage of Decision Trees. It will depend on the situation whether this is important for your problem.</strong>"
   ]
  }
 ],
 "metadata": {
  "kernelspec": {
   "display_name": "Python 3 (ipykernel)",
   "language": "python",
   "name": "python3"
  },
  "language_info": {
   "codemirror_mode": {
    "name": "ipython",
    "version": 3
   },
   "file_extension": ".py",
   "mimetype": "text/x-python",
   "name": "python",
   "nbconvert_exporter": "python",
   "pygments_lexer": "ipython3",
   "version": "3.12.4"
  }
 },
 "nbformat": 4,
 "nbformat_minor": 5
}
