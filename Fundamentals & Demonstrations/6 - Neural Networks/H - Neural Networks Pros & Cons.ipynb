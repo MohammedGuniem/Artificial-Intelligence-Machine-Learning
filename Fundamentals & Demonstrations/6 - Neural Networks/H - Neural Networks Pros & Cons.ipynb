{
 "cells": [
  {
   "cell_type": "markdown",
   "id": "bcd6af77-7ec6-48a8-84fc-5491471270ac",
   "metadata": {},
   "source": [
    "<h1>Neural Networks Pros & Cons</h1>"
   ]
  },
  {
   "cell_type": "markdown",
   "id": "6b0a963f-74be-4986-9992-4339929fba65",
   "metadata": {},
   "source": [
    "<h3>Interpretability</h3>"
   ]
  },
  {
   "cell_type": "markdown",
   "id": "470c3ffa-2746-4649-b310-e2d828556f2d",
   "metadata": {},
   "source": [
    "<p>In neural network and beacuse of the high number of nodes in such networks, each with their own coefficients. We can conclude that:</p>\n",
    "<ul>\n",
    "    <li>It is nearly impossible to answer the question \"Why did datapoint x get prediction y?</li>\n",
    "    <li>It is not feasible to get a simple explanation of what the neural network is doing.</li>\n",
    "    <li>This makes it a difficult model to interpret and use in certain business use cases.</li>\n",
    "</ul>\n",
    "\n",
    "<p>One of our best trials to understand the behaviour of a neural network is visualizing the nodes of the hidden layer using their coefficients, but even this technique might not reveal a clear and deep understanding of what the network is actually doing and why it is giving a certain prediction.</p>\n",
    "\n",
    "<strong>Neural Networks are therefore not a good option for interpretability.</strong>"
   ]
  },
  {
   "cell_type": "markdown",
   "id": "a365cc3a-9b9f-421a-9fde-1c37dacd4c66",
   "metadata": {},
   "source": [
    "<h3>Computation</h3>"
   ]
  },
  {
   "cell_type": "markdown",
   "id": "26d49a2c-d72d-412b-9227-4cdda49f297a",
   "metadata": {},
   "source": [
    "<p>Noticing the running time of training the MLP classifier leads to the following observations:</p>\n",
    "<ul>\n",
    "    <li>Neural networks can take a decent amount of time to train.</li>\n",
    "    <li>\n",
    "        Each node in a neural network has its own coefficients and to train they are iteratively updated, so this can be time consuming.<br/>\n",
    "        However, the processes of updating the nodes are parallelizable, so it is possible to throw computer power at them to make them train faster.\n",
    "    </li>\n",
    "    <li>\n",
    "        Once they are built, neural networks are not slow to make predictions,<br/>\n",
    "        however, they are not as fast as some of the other models.\n",
    "    </li>\n",
    "</ul>\n",
    "\n",
    "<strong><br/>\n",
    "    Conclusion:<br/>\n",
    "    Neural Networks are hard to train in term of time, computational power and complexity,<br/>\n",
    "    However once they are built, neural networks are not slow to make predictions,<br/>but they are not as fast as other models such as decision trees.\n",
    "</strong>"
   ]
  },
  {
   "cell_type": "markdown",
   "id": "c4e02d79-7137-496c-9c27-a500718eae43",
   "metadata": {},
   "source": [
    "<h3>Performance</h3>"
   ]
  },
  {
   "cell_type": "markdown",
   "id": "dbcc440e-f07b-4c4f-84e1-8d43f80a9559",
   "metadata": {},
   "source": [
    "<p>The main advantage to neural networks is their performance.</p>\n",
    "<ul>\n",
    "    <li>On many problems, their performance simply cannot be beat by other models.</li>\n",
    "    <li>They can take some tuning of parameters to find the optimal performance</li>\n",
    "    <li>However, they benefit from needing minimal feature engineering prior to building the model</li>\n",
    "    <li>Neural networks outperform other models with large unstructured datasets</li>\n",
    "</ul>\n",
    "\n",
    "<strong>\n",
    "    Conclusion:<br/>\n",
    "    If our problem is og a simpler form, an equivalent model like logistic regression might be such as sufficient,<br/>\n",
    "    The key advantage of neural networks is their performance capabilities with large unstructured datasets<br/>\n",
    "</strong>"
   ]
  }
 ],
 "metadata": {
  "kernelspec": {
   "display_name": "Python 3 (ipykernel)",
   "language": "python",
   "name": "python3"
  },
  "language_info": {
   "codemirror_mode": {
    "name": "ipython",
    "version": 3
   },
   "file_extension": ".py",
   "mimetype": "text/x-python",
   "name": "python",
   "nbconvert_exporter": "python",
   "pygments_lexer": "ipython3",
   "version": "3.12.4"
  }
 },
 "nbformat": 4,
 "nbformat_minor": 5
}
