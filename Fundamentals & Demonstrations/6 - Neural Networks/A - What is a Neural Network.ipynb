{
 "cells": [
  {
   "cell_type": "markdown",
   "id": "e85d0c87-879d-4f35-bb35-5d7064d53f0f",
   "metadata": {},
   "source": [
    "<h1>What's a Neural Network?</h1>"
   ]
  },
  {
   "cell_type": "markdown",
   "id": "efb55609-aa7e-4b5b-a96e-9119bd61df79",
   "metadata": {},
   "source": [
    "<h3>Neural Network Use Cases</h3>"
   ]
  },
  {
   "cell_type": "markdown",
   "id": "e07ae6a4-b548-4be4-b1b3-80346fab16cc",
   "metadata": {},
   "source": [
    "<p><strong>Neural Networks</strong> are incredibly popular and powerful machine learning models.</p>\n",
    "<p>Such networks perform well in cases where we have a lot of features as they automatically do feature engineering without requiring domain knowledge to restructure the features.</p>\n",
    "<p><strong>Neural Networks</strong> also perform well with large unstructured feature sets</p>\n",
    "<p>Examples of such cases are images and voice recognition</p>"
   ]
  },
  {
   "cell_type": "markdown",
   "id": "18ac7ada-3b58-4ab4-aff0-ac8985e8239b",
   "metadata": {},
   "source": [
    "<h3>Biological Neural Network</h3>"
   ]
  },
  {
   "cell_type": "markdown",
   "id": "684f506b-52fb-4926-84d7-88cbbba0539f",
   "metadata": {},
   "source": [
    "<p><strong>Artificial Neural Networks (ANN)</strong> were inspired by how biological neural networks work in human brains.</p>\n",
    "<ul>\n",
    "    <li>A brain’s neural network is made up of around 86 billion neurons.</li>\n",
    "    <li>The neurons are connected by what are called synapses.</li>\n",
    "    <li>There are about 100 trillion synapses in the human brain.</li>\n",
    "    <li>The neurons send signals to each other through the synapses.</li>\n",
    "</ul>"
   ]
  }
 ],
 "metadata": {
  "kernelspec": {
   "display_name": "Python 3 (ipykernel)",
   "language": "python",
   "name": "python3"
  },
  "language_info": {
   "codemirror_mode": {
    "name": "ipython",
    "version": 3
   },
   "file_extension": ".py",
   "mimetype": "text/x-python",
   "name": "python",
   "nbconvert_exporter": "python",
   "pygments_lexer": "ipython3",
   "version": "3.12.4"
  }
 },
 "nbformat": 4,
 "nbformat_minor": 5
}
