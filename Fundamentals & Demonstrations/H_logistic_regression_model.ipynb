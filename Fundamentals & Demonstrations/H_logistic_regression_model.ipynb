{
 "cells": [
  {
   "cell_type": "markdown",
   "id": "9584c51c-c561-4348-b518-b38324295042",
   "metadata": {},
   "source": [
    "<h1>Logistic Regression Model</h1>"
   ]
  },
  {
   "cell_type": "markdown",
   "id": "e9bb675a-b334-4a3c-8a22-f9cec1cc5cd2",
   "metadata": {},
   "source": [
    "<h3>Probability of Surviving</h3>\n",
    "\n",
    "<p>In order to determine the best possible line to split our data, we need to have a way of scoring the line.</p>\n",
    "\n",
    "<p>In a logistic regression model, we’ll have a score that’s a value between 0 and 1, so looking at our titanic dataset, we have the following 3 possibilities for each data point: </p>\n",
    "<ul>\n",
    "    <li>If the value is close to 0 that point would be far to the left of the line and that means we’re confident the passenger didn’t survive.</li>\n",
    "    <li>If the value is close to 1 that point would be far to the right of the line and that means we’re confident the passenger did survive.</li>\n",
    "    <li>A value of 0.5 means the point falls directly on the line and we are uncertain if the passenger survives.</li>\n",
    "</ul>\n",
    "\n",
    "<p>The equation for calculating this score is called the sigmoid below</p>\n",
    "\n",
    "$$\n",
    "p = \\frac{1}{1 + e^{-(ax +by +c)}}\n",
    "$$\n",
    "\n",
    "<p>where x is the Fare, y is the Age, and a, b & c are the coefficients that we control. The number e is the mathematical constant, approximately 2.71828.</p>\n",
    "\n",
    "<strong>So in conclusion, the Logistic Regression gives not just a prediction (survived or not), but a probability (80% chance this person survived).</strong>"
   ]
  },
  {
   "cell_type": "markdown",
   "id": "29d94e9f-7a8c-4bd3-8ebd-cc0376742f92",
   "metadata": {},
   "source": [
    "<h3>Likelihood</h3>\n",
    "\n",
    "<p>To calculate how good our line is, we need to score whether our predictions are correct.</p>\n",
    "<p>To achieve this, we use the likelihood measurement below as follows:</p>\n",
    "\n",
    "$$\n",
    "likelihood = \n",
    "\\begin{cases}\n",
    "p & \\text{if passenger survived} \\\\\n",
    "1 - p & \\text{if passenger didn't survive}\n",
    "\\end{cases}\n",
    "$$\n",
    "<p>where p is the predicted probability of surviving from the previous part.</p>\n",
    "\n",
    "<p>The likelihood will be a value between 0 and 1. The higher the value, the better our line is. Let’s look at 4 possibilities:</p>\n",
    "\n",
    "| Survived or not? | Predicted Probability (p) | Score (likelihood) | is likelihood good or bad? |\n",
    "|------------------|---------------------------|--------------------|----------------------------|\n",
    "| Survived         | 0.25                      | 0.25               |   (bad likelihood score)   |\n",
    "| Didn't Survive   | 0.25                      | 0.75               |   (good likelihood score)  |\n",
    "| Survived         | 0.6                       | 0.6                |   (good likelihood score)  |\n",
    "| Didn't Survive   | 0.2                       | 0.8                |   (good likelihood score) \n",
    "\n",
    "<p>We get the total score by multiplying the four scores together, which yields to really small value since it is the likelihood that our model predicts everything perfectly.</p>\n",
    "\n",
    "<p>A perfect model would have a predicted probability of 1 for all positive cases and 0 for all negative cases.</p>\n",
    "<p>0.25 * 0.75 * 0.6 * 0.8 = 0.09</p>\n",
    "\n",
    "<strong>So in conclusion, the likelihood is how we score and compare possible choices of a best fit line.</strong>"
   ]
  }
 ],
 "metadata": {
  "kernelspec": {
   "display_name": "Python 3 (ipykernel)",
   "language": "python",
   "name": "python3"
  },
  "language_info": {
   "codemirror_mode": {
    "name": "ipython",
    "version": 3
   },
   "file_extension": ".py",
   "mimetype": "text/x-python",
   "name": "python",
   "nbconvert_exporter": "python",
   "pygments_lexer": "ipython3",
   "version": "3.12.4"
  }
 },
 "nbformat": 4,
 "nbformat_minor": 5
}
