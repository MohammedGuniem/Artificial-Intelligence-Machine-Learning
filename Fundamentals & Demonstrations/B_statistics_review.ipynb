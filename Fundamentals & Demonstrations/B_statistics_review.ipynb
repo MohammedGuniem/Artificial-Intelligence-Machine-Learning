{
 "cells": [
  {
   "cell_type": "markdown",
   "id": "e51b588d-318b-4c5e-96cf-e7d11b16c449",
   "metadata": {},
   "source": [
    "<h1>Statistics Review</h1>"
   ]
  },
  {
   "cell_type": "markdown",
   "id": "f30a4cc2-35d5-4f15-b641-b2e51e3b1388",
   "metadata": {},
   "source": [
    "<h4>Averages</h4>\n",
    "<p>Let's say we have a list of the ages of people in a class.</p>"
   ]
  },
  {
   "cell_type": "code",
   "execution_count": 1,
   "id": "e19b7210-3c95-4f08-a4d9-cc7330ecd293",
   "metadata": {},
   "outputs": [],
   "source": [
    "ages = [15, 16, 18, 19, 22, 24, 29, 30, 34]"
   ]
  },
  {
   "cell_type": "markdown",
   "id": "70756ab3-bf04-4c1f-b64d-cee285b6f638",
   "metadata": {},
   "source": [
    "<p>The mean is the most commonly known average.</p>\n",
    "<p>Add up all the values and divide by the number of values:</p>"
   ]
  },
  {
   "cell_type": "code",
   "execution_count": 2,
   "id": "277fa12c-5de5-495b-9296-d19581bdb729",
   "metadata": {},
   "outputs": [
    {
     "data": {
      "text/plain": [
       "23.0"
      ]
     },
     "execution_count": 2,
     "metadata": {},
     "output_type": "execute_result"
    }
   ],
   "source": [
    "sum(ages) / len(ages)"
   ]
  },
  {
   "cell_type": "markdown",
   "id": "2b88cca0-13f3-4e8f-88e7-8d068c2da464",
   "metadata": {},
   "source": [
    "<h4>Median</h4>\n",
    "<p>The median is the value in the middle.</p>\n",
    "<p>In this case, since there are 9 values, the middle value is the 5th, which is 22.</p>"
   ]
  },
  {
   "cell_type": "markdown",
   "id": "cda517ea-cf9b-40a1-abb2-896d7076c5ad",
   "metadata": {},
   "source": [
    "<h4>In statistics, both the mean and the median are called averages. The layman’s average is the mean.</h4>"
   ]
  },
  {
   "cell_type": "markdown",
   "id": "afa33725-1c32-4869-bfee-4695f59a8576",
   "metadata": {},
   "source": [
    "<h4>Percentiles</h4>\n",
    "<p>The median can also be thought of as the 50th percentile. This means that 50% of the data is less than the median and 50% of the data is greater than the median.</p>\n",
    "<p>Similiary the 25th percentile tell us that 25% of the data is less amd 75% of the data is greater than this percentile.</p>\n",
    "<p>Same goes for the 75 percentile.</p>"
   ]
  },
  {
   "cell_type": "markdown",
   "id": "3cfd81f8-abdc-4364-9a96-23fdc24812ba",
   "metadata": {},
   "source": [
    "<h4>Standard Deviation & Variance</h4>\n",
    "<p>The standard deviation and variance are measures of how dispersed or spread out the data is.</p>"
   ]
  },
  {
   "cell_type": "markdown",
   "id": "2898ee97-8f2f-40d3-945b-67371bc9e9de",
   "metadata": {},
   "source": [
    "<p>We measure how far each datapoint is from the mean.</p>\n",
    "<p>Let's look at our group of ages again:</p>\n",
    "<p>Recall that the mean is 23.</p>\n",
    "<p>Let's calculate how far each value is from the mean. 15 is 8 away from the mean (since 23-15=8).</p>\n",
    "<p>Here's a list of all these distances:</p>\n",
    "<p>8, 7, 5, 4, 1, 1, 6, 7, 11</p>\n",
    "<p>We square these values and add them together, which results in 362</p>\n",
    "<p>We divide this value by the total number of values and that gives us the variance.</p>\n",
    "<p>362 / 9 = 40.22</p>\n",
    "<p>To get the standard deviation, we just take the square root of this number and get: 6.34</p>\n",
    "<strong>We say that our data is normally distributed if 68% of the population is within one standard deviation of the mean.</strong>"
   ]
  },
  {
   "cell_type": "markdown",
   "id": "14157b02-a54f-4de2-97d3-ba1ff8a34fd1",
   "metadata": {},
   "source": [
    "<h4>Statistics with Python</h4>"
   ]
  },
  {
   "cell_type": "code",
   "execution_count": 3,
   "id": "634d5194-15dd-48d7-b061-da05c9b51b10",
   "metadata": {},
   "outputs": [
    {
     "name": "stdout",
     "output_type": "stream",
     "text": [
      "mean: 23.0\n",
      "median: 22.0\n",
      "50th percentile (median): 22.0\n",
      "25th percentile: 18.0\n",
      "75th percentile: 29.0\n",
      "standard deviation: 6.342099196813483\n",
      "variance: 40.22222222222222\n"
     ]
    }
   ],
   "source": [
    "import numpy as np\n",
    "\n",
    "data = [15, 16, 18, 19, 22, 24, 29, 30, 34]\n",
    "\n",
    "print(\"mean:\", np.mean(data))\n",
    "print(\"median:\", np.median(data))\n",
    "print(\"50th percentile (median):\", np.percentile(data, 50))\n",
    "print(\"25th percentile:\", np.percentile(data, 25))\n",
    "print(\"75th percentile:\", np.percentile(data, 75))\n",
    "print(\"standard deviation:\", np.std(data))\n",
    "print(\"variance:\", np.var(data))"
   ]
  }
 ],
 "metadata": {
  "kernelspec": {
   "display_name": "Python 3 (ipykernel)",
   "language": "python",
   "name": "python3"
  },
  "language_info": {
   "codemirror_mode": {
    "name": "ipython",
    "version": 3
   },
   "file_extension": ".py",
   "mimetype": "text/x-python",
   "name": "python",
   "nbconvert_exporter": "python",
   "pygments_lexer": "ipython3",
   "version": "3.12.4"
  }
 },
 "nbformat": 4,
 "nbformat_minor": 5
}
