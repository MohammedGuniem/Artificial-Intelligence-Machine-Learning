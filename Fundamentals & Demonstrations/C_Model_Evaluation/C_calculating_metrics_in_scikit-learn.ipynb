{
 "cells": [
  {
   "cell_type": "markdown",
   "id": "4d4a8367-ae57-4951-8af0-8de4371c1bd4",
   "metadata": {},
   "source": [
    "<h1>Calculating Metrics in Scikit-learn</h1>"
   ]
  },
  {
   "cell_type": "markdown",
   "id": "e80ea5fd-c22a-40fa-9b1c-651bd66fb85a",
   "metadata": {},
   "source": [
    "<h3>Accuracy, Precision, Recall & F1 Score in Sklearn</h3>"
   ]
  },
  {
   "cell_type": "markdown",
   "id": "39981dc8-7e59-46e7-991b-2b498285932e",
   "metadata": {},
   "source": [
    "<p>Scikit-learn has a function built in for each of these metrics</p>\n",
    "\n",
    "<p>Below we will use these built inn functions on our Logistic Regression model from the titanic dataset</p>"
   ]
  },
  {
   "cell_type": "code",
   "execution_count": 1,
   "id": "9fb486fb-9bc9-483a-9f35-5a88830ae5d8",
   "metadata": {},
   "outputs": [
    {
     "name": "stdout",
     "output_type": "stream",
     "text": [
      "accuracy: 0.8049605411499436\n",
      "precision: 0.7734627831715211\n",
      "recall: 0.6988304093567251\n",
      "f1 score: 0.7342549923195084\n"
     ]
    }
   ],
   "source": [
    "import pandas as pd\n",
    "from sklearn.linear_model import LogisticRegression\n",
    "from sklearn.metrics import accuracy_score, precision_score, recall_score, f1_score\n",
    "\n",
    "df = pd.read_csv('https://sololearn.com/uploads/files/titanic.csv')\n",
    "df['male'] = df['Sex'] == 'male'\n",
    "X = df[['Pclass', 'male', 'Age', 'Siblings/Spouses', 'Parents/Children', 'Fare']].values\n",
    "y = df['Survived'].values\n",
    "model = LogisticRegression()\n",
    "model.fit(X, y)\n",
    "y_pred = model.predict(X)\n",
    "\n",
    "print(\"accuracy:\", accuracy_score(y, y_pred))\n",
    "print(\"precision:\", precision_score(y, y_pred))\n",
    "print(\"recall:\", recall_score(y, y_pred))\n",
    "print(\"f1 score:\", f1_score(y, y_pred))"
   ]
  },
  {
   "cell_type": "markdown",
   "id": "87219289-05be-441a-aeab-723e95c2795b",
   "metadata": {},
   "source": [
    "<strong>Each function takes two 1-dimensional numpy arrays: the true values of the target & the predicted values of the target</strong>\n",
    "\n",
    "<p>From the metrics scores above we see that:</p>\n",
    "<ul>\n",
    "    <li>The <strong>accuracy is 80%</strong>, which means that 80% of the model’s predictions are correct.</li>\n",
    "    <li>The <strong>precision is 77%</strong>, which we recall is the percent of the model’s positive predictions that are correct.</li>\n",
    "    <li>The <strong>recall is 70%</strong>, which is the percent of the positive cases that the model predicted correctly.</li>\n",
    "    <li>The <strong>F1 score is 73%</strong>, which is an average of the precision and recall.</li>\n",
    "</ul>\n",
    "\n",
    "<strong>Note!</strong>\n",
    "<ul>\n",
    "    <li>With a single model, the metric values do not tell us a lot.</li>\n",
    "    <li>For some problems a value of 60% is good, and for others a value of 90% is good, depending on the difficulty of the problem.</li>\n",
    "</ul>\n",
    "<p>We will use the metric values to compare different models to pick the best one.</p>"
   ]
  },
  {
   "cell_type": "markdown",
   "id": "83b25c02-0e0f-466a-aa0f-9dafdb669bec",
   "metadata": {},
   "source": [
    "<h3>Confusion Matrix in Sklearn</h3>"
   ]
  },
  {
   "cell_type": "markdown",
   "id": "0bbbcd5b-f723-455d-ae89-b243d94b09e4",
   "metadata": {},
   "source": [
    "<p>Scikit-learn has a confusion matrix function that we can use to get the four values in the confusion matrix (true positives, false positives, false negatives, and true negatives).</p>"
   ]
  },
  {
   "cell_type": "code",
   "execution_count": 2,
   "id": "29b83564-07b0-4869-8d5d-bc95fc254e7f",
   "metadata": {},
   "outputs": [
    {
     "name": "stdout",
     "output_type": "stream",
     "text": [
      "[[475  70]\n",
      " [103 239]]\n"
     ]
    }
   ],
   "source": [
    "from sklearn.metrics import confusion_matrix\n",
    "\n",
    "print(confusion_matrix(y, y_pred))"
   ]
  },
  {
   "cell_type": "markdown",
   "id": "7ae7b1a1-a7ca-43a3-b193-1891e1b85479",
   "metadata": {},
   "source": [
    "<strong>Note that scikit-learn reverses the confusion matrix to show the negative counts first! Here is how this confusion matrix should be labeled, so it becomes shown below</strong>\n",
    "\n",
    "<table border=\"1\">\n",
    "  <tr>\n",
    "      <th></th>\n",
    "      <th>Predicted Negative</th>\n",
    "      <th>Predicted Positive</th>\n",
    "  </tr>\n",
    "  <tr style=\"background-color: white;\">\n",
    "      <th>Actual Negative</th>\n",
    "      <td style=\"background-color: lightblue;\">TN</td>\n",
    "      <td>FP</td>\n",
    "  </tr>\n",
    "  <tr>\n",
    "      <th>Actual Positive</th>\n",
    "      <td>FN</td>\n",
    "      <td style=\"background-color: lightblue;\">TP</td>\n",
    "  </tr>\n",
    "</table>\n",
    "<br/>\n",
    "<p>Filling in our results from scikit-learn, we get the following confusion matrix:</p>\n",
    "<table border=\"1\">\n",
    "  <tr>\n",
    "      <th></th>\n",
    "      <th>Predicted Negative</th>\n",
    "      <th>Predicted Positive</th>\n",
    "  </tr>\n",
    "  <tr style=\"background-color: white;\">\n",
    "      <th>Actual Negative</th>\n",
    "      <td style=\"background-color: lightblue;\">475</td>\n",
    "      <td>70</td>\n",
    "  </tr>\n",
    "  <tr>\n",
    "      <th>Actual Positive</th>\n",
    "      <td>103</td>\n",
    "      <td style=\"background-color: lightblue;\">239</td>\n",
    "  </tr>\n",
    "</table>\n",
    "<br/>\n",
    "<p>But, for just for the record, this is how we would typically draw the confusion matrix.</p>\n",
    "<table border=\"1\">\n",
    "  <tr>\n",
    "      <th></th>\n",
    "      <th>Actual Positive</th>\n",
    "      <th>Actual Negative</th>\n",
    "  </tr>\n",
    "  <tr style=\"background-color: white;\">\n",
    "      <th>Predicted Positive</th>\n",
    "      <td style=\"background-color: lightblue;\">239</td>\n",
    "      <td>70</td>\n",
    "  </tr>\n",
    "  <tr>\n",
    "      <th>Predicted Negative</th>\n",
    "      <td>103</td>\n",
    "      <td style=\"background-color: lightblue;\">475</td>\n",
    "  </tr>\n",
    "</table>\n",
    "<br/>\n",
    "<strong>Note! Since negative target values correspond to 0 and positive to 1, scikit-learn has ordered them in this order. Make sure you double check that you are interpreting the values correctly!</strong>"
   ]
  }
 ],
 "metadata": {
  "kernelspec": {
   "display_name": "Python 3 (ipykernel)",
   "language": "python",
   "name": "python3"
  },
  "language_info": {
   "codemirror_mode": {
    "name": "ipython",
    "version": 3
   },
   "file_extension": ".py",
   "mimetype": "text/x-python",
   "name": "python",
   "nbconvert_exporter": "python",
   "pygments_lexer": "ipython3",
   "version": "3.12.4"
  }
 },
 "nbformat": 4,
 "nbformat_minor": 5
}
