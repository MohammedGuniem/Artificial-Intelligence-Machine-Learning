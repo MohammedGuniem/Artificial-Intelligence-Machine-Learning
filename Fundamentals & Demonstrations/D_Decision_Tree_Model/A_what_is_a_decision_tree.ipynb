{
 "cells": [
  {
   "cell_type": "markdown",
   "id": "da416b3c-98ed-4e3e-b02e-6d3abff8b531",
   "metadata": {},
   "source": [
    "<h1>What is a Decision Tree?</h1>"
   ]
  },
  {
   "cell_type": "markdown",
   "id": "ad949880-8ab5-4d2b-a238-5d817fa07fdb",
   "metadata": {},
   "source": [
    "<h3>A Nonparametric Machine Learning Algorithm</h3>"
   ]
  },
  {
   "cell_type": "markdown",
   "id": "90427243-8d3e-4710-9ee3-bb769a0ed160",
   "metadata": {},
   "source": [
    "<p>Unlike Logistic Regression where the model is defined by the coefficients of a line to separate the data, Decision Trees won't be defined by such parameters and therefore it is called a Nonparametric Machine Learning Algorithm</p>\n",
    "\n",
    "<p>Every machine learning algorithm is either parametric or nonparametric.</p>"
   ]
  },
  {
   "cell_type": "markdown",
   "id": "bc901877-7377-4d80-a4f4-42108cfb9726",
   "metadata": {},
   "source": [
    "<h3>Tree Terminology</h3>"
   ]
  },
  {
   "cell_type": "markdown",
   "id": "a06d90c9-be5f-4e4e-b811-0bd5858de7ee",
   "metadata": {},
   "source": [
    "<p>\n",
    "    Decision Trees can be described as a flow chart of questions that you answer about a datapoint until you get to a prediction.\n",
    "</p>\n",
    "\n",
    "<p>\n",
    "    One of the advantages of Decision Tree is that they are easy to interpret, especially for a nontechnical audience.\n",
    "</p>\n",
    "\n",
    "<p>Decision Trees consist of the following as shown in the example tree below:</p>\n",
    "\n",
    "<ul>\n",
    "    <li>Each of the rectangles is called a <strong>node</strong></li>\n",
    "    <li>The nodes which have a feature to split on are called <strong>internal nodes</strong></li>\n",
    "    <li>The very first internal node at the top is called the <strong>root node</strong></li>\n",
    "    <li>The final nodes where we make the predictions of survived/didn’t survive are called <strong>leaf nodes</strong></li>\n",
    "    <li>Internal nodes all have two nodes below them, which we call the node’s <strong>children</strong>/li>\n",
    "</ul>"
   ]
  },
  {
   "cell_type": "code",
   "execution_count": 1,
   "id": "eb67ae9c-d007-4601-b889-3c84bc8857de",
   "metadata": {},
   "outputs": [
    {
     "data": {
      "image/jpeg": "[encoded data removed]",
      "text/plain": [
       "<IPython.core.display.Image object>"
      ]
     },
     "metadata": {},
     "output_type": "display_data"
    }
   ],
   "source": [
    "from IPython.display import Image, display\n",
    "display(Image(filename='./images/example_decision_tree.jpg'))"
   ]
  },
  {
   "cell_type": "markdown",
   "id": "42388510-a641-4a0c-a9c5-af5c7759cfdb",
   "metadata": {},
   "source": [
    "<h3>Interpreting a Decision Tree</h3>"
   ]
  },
  {
   "cell_type": "markdown",
   "id": "db06f22d-d3cb-4242-9b35-ae31d3d7c11e",
   "metadata": {},
   "source": [
    "<p>Let’s say we want to know the prediction for a 10 year old male passenger in Pclass 2<br/>\n",
    "At the first node, since the passenger’s sex is male, we go to the right child<br/>\n",
    "Then, since their age 10 which is <=13 we go to the left child<br/>\n",
    "and at the third node we go to the right child since the Pclass is 2</p>\n",
    "<p>In the following diagram we highlight the path for this passenger:</p>"
   ]
  },
  {
   "cell_type": "code",
   "execution_count": 2,
   "id": "2c41ede5-38d0-4f84-8586-679ba6071e9c",
   "metadata": {},
   "outputs": [
    {
     "data": {
      "image/jpeg": "[encoded data removed]",
      "text/plain": [
       "<IPython.core.display.Image object>"
      ]
     },
     "metadata": {},
     "output_type": "display_data"
    }
   ],
   "source": [
    "display(Image(filename='./images/interpret_example_decision_tree.jpg'))"
   ]
  },
  {
   "cell_type": "markdown",
   "id": "5e2ecc4a-9670-4bee-88ad-875fad846257",
   "metadata": {},
   "source": [
    "<strong>Note that there are no rules that:</strong>\n",
    "<ul>\n",
    "    <li>We use every feature</li>\n",
    "    <li>Or what order we use the features</li>\n",
    "    <li>Or where we do the split for a continuous value (like Age)</li>\n",
    "</ul>\n",
    "<p>However, it is standard in a Decision Tree to have each split just have 2 options.</p>"
   ]
  },
  {
   "cell_type": "markdown",
   "id": "449f298b-8868-4f09-962d-82aa3b8f61d5",
   "metadata": {},
   "source": [
    "<h3>How did we get the Decision Tree?</h3>"
   ]
  },
  {
   "cell_type": "markdown",
   "id": "dc97a6d8-56c9-4024-816c-85ba566059d1",
   "metadata": {},
   "source": [
    "<p>When building a decision tree for a given dataset, we want to start by choosing the feature with the most <strong>predictive power</strong>.</p>\n",
    "\n",
    "<p>Intuitively for our example Titanic dataset, we might think the following:</p>\n",
    "<ul>\n",
    "    <li>\n",
    "        Since women were often given priority on lifeboats, we expect the Sex to be a very important feature. So using this feature first makes sense.\n",
    "    </li>\n",
    "    <li>\n",
    "        The second split for women is on Pclass. The second split for men is on Age.\n",
    "    </li>\n",
    "    <li>We also note for some cases we do three splits and for some just two.</li>\n",
    "</ul>\n",
    "\n",
    "<p>On each side of the Decision Tree, we will independently determine which feature to split on next</p>\n",
    "\n",
    "<strong>\n",
    "    For any given dataset, there’s a lot of different possible Decision Trees that could be created depending on the order you use the features.<br/>\n",
    "    However, we need to approach this mathematically in order to choose the best possible Decision Tree.\n",
    "</strong>"
   ]
  }
 ],
 "metadata": {
  "kernelspec": {
   "display_name": "Python 3 (ipykernel)",
   "language": "python",
   "name": "python3"
  },
  "language_info": {
   "codemirror_mode": {
    "name": "ipython",
    "version": 3
   },
   "file_extension": ".py",
   "mimetype": "text/x-python",
   "name": "python",
   "nbconvert_exporter": "python",
   "pygments_lexer": "ipython3",
   "version": "3.12.4"
  }
 },
 "nbformat": 4,
 "nbformat_minor": 5
}
