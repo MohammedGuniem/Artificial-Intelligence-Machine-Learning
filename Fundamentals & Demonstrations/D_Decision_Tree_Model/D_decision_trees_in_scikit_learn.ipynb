{
 "cells": [
  {
   "cell_type": "markdown",
   "id": "55967ba4-008a-41f6-8175-283016fe19f9",
   "metadata": {},
   "source": [
    "<h1>Decision Trees in Scikit-learn</h1>"
   ]
  },
  {
   "cell_type": "markdown",
   "id": "170463f5-a501-4f73-99f2-8081197e8f12",
   "metadata": {},
   "source": [
    "<h3>DecisionTreeClassifier Class</h3>"
   ]
  },
  {
   "cell_type": "markdown",
   "id": "18d5dfbe-7db6-4119-a245-9353c877a50c",
   "metadata": {},
   "source": [
    "<p>At first we import and prepare our dataset</p>"
   ]
  },
  {
   "cell_type": "code",
   "execution_count": 1,
   "id": "556302a8-8829-403e-a73a-e5d48d92aa3d",
   "metadata": {},
   "outputs": [
    {
     "name": "stdout",
     "output_type": "stream",
     "text": [
      "[[3 True 22.0 1 0 7.25]\n",
      " [1 False 38.0 1 0 71.2833]\n",
      " [3 False 26.0 0 0 7.925]\n",
      " ...\n",
      " [3 False 7.0 1 2 23.45]\n",
      " [1 True 26.0 0 0 30.0]\n",
      " [3 True 32.0 0 0 7.75]] \n",
      "\n"
     ]
    }
   ],
   "source": [
    "import pandas as pd\n",
    "\n",
    "df = pd.read_csv('../data/titanic.csv')\n",
    "df['male'] = df['Sex'] == 'male'\n",
    "X = df[['Pclass', 'male', 'Age', 'Siblings/Spouses', 'Parents/Children', 'Fare']].values\n",
    "y = df['Survived'].values\n",
    "print(X, \"\\n\")"
   ]
  },
  {
   "cell_type": "markdown",
   "id": "0c9d0ae2-cf6b-4c9f-90dc-60ea6f5f7c70",
   "metadata": {},
   "source": [
    "<p>First we import the DecisionTree Classifier</p>"
   ]
  },
  {
   "cell_type": "code",
   "execution_count": 2,
   "id": "58594475-bfbf-49a3-8ee7-d89138ce1eb3",
   "metadata": {},
   "outputs": [],
   "source": [
    "from sklearn.tree import DecisionTreeClassifier"
   ]
  },
  {
   "cell_type": "markdown",
   "id": "8ad4cb45-5c0a-4bfc-ad03-a8216b1d701c",
   "metadata": {},
   "source": [
    "<p>Then create a DecisionTreeClassifier object.model = DecisionTreeClassifier()</p>"
   ]
  },
  {
   "cell_type": "code",
   "execution_count": 3,
   "id": "4d1cafae-c854-475b-8b07-5ccc09290bd3",
   "metadata": {},
   "outputs": [],
   "source": [
    "model = DecisionTreeClassifier()"
   ]
  },
  {
   "cell_type": "markdown",
   "id": "ab7805da-97b2-4536-a3ff-ac8e7baa4191",
   "metadata": {},
   "source": [
    "<p>Now we do a train/test split using a random_state so that every time we run the code we will get the same split.</p>"
   ]
  },
  {
   "cell_type": "code",
   "execution_count": 4,
   "id": "f85d2bed-8452-4c2c-9e22-1ff72c0820d1",
   "metadata": {},
   "outputs": [],
   "source": [
    "from sklearn.model_selection import train_test_split\n",
    "\n",
    "X_train, X_test, y_train, y_test = train_test_split(X, y, random_state=22)"
   ]
  },
  {
   "cell_type": "markdown",
   "id": "ccbd7a63-b382-4797-b2b1-698ed5fd7f18",
   "metadata": {},
   "source": [
    "<p>Then we use the fit method to train the model.</p>"
   ]
  },
  {
   "cell_type": "code",
   "execution_count": 5,
   "id": "b60eb9c4-a78d-4b83-873a-5f59a7bfefd8",
   "metadata": {},
   "outputs": [
    {
     "data": {
      "text/html": [
       "<style>#sk-container-id-1 {\n",
       "  /* Definition of color scheme common for light and dark mode */\n",
       "  --sklearn-color-text: black;\n",
       "  --sklearn-color-line: gray;\n",
       "  /* Definition of color scheme for unfitted estimators */\n",
       "  --sklearn-color-unfitted-level-0: #fff5e6;\n",
       "  --sklearn-color-unfitted-level-1: #f6e4d2;\n",
       "  --sklearn-color-unfitted-level-2: #ffe0b3;\n",
       "  --sklearn-color-unfitted-level-3: chocolate;\n",
       "  /* Definition of color scheme for fitted estimators */\n",
       "  --sklearn-color-fitted-level-0: #f0f8ff;\n",
       "  --sklearn-color-fitted-level-1: #d4ebff;\n",
       "  --sklearn-color-fitted-level-2: #b3dbfd;\n",
       "  --sklearn-color-fitted-level-3: cornflowerblue;\n",
       "\n",
       "  /* Specific color for light theme */\n",
       "  --sklearn-color-text-on-default-background: var(--sg-text-color, var(--theme-code-foreground, var(--jp-content-font-color1, black)));\n",
       "  --sklearn-color-background: var(--sg-background-color, var(--theme-background, var(--jp-layout-color0, white)));\n",
       "  --sklearn-color-border-box: var(--sg-text-color, var(--theme-code-foreground, var(--jp-content-font-color1, black)));\n",
       "  --sklearn-color-icon: #696969;\n",
       "\n",
       "  @media (prefers-color-scheme: dark) {\n",
       "    /* Redefinition of color scheme for dark theme */\n",
       "    --sklearn-color-text-on-default-background: var(--sg-text-color, var(--theme-code-foreground, var(--jp-content-font-color1, white)));\n",
       "    --sklearn-color-background: var(--sg-background-color, var(--theme-background, var(--jp-layout-color0, #111)));\n",
       "    --sklearn-color-border-box: var(--sg-text-color, var(--theme-code-foreground, var(--jp-content-font-color1, white)));\n",
       "    --sklearn-color-icon: #878787;\n",
       "  }\n",
       "}\n",
       "\n",
       "#sk-container-id-1 {\n",
       "  color: var(--sklearn-color-text);\n",
       "}\n",
       "\n",
       "#sk-container-id-1 pre {\n",
       "  padding: 0;\n",
       "}\n",
       "\n",
       "#sk-container-id-1 input.sk-hidden--visually {\n",
       "  border: 0;\n",
       "  clip: rect(1px 1px 1px 1px);\n",
       "  clip: rect(1px, 1px, 1px, 1px);\n",
       "  height: 1px;\n",
       "  margin: -1px;\n",
       "  overflow: hidden;\n",
       "  padding: 0;\n",
       "  position: absolute;\n",
       "  width: 1px;\n",
       "}\n",
       "\n",
       "#sk-container-id-1 div.sk-dashed-wrapped {\n",
       "  border: 1px dashed var(--sklearn-color-line);\n",
       "  margin: 0 0.4em 0.5em 0.4em;\n",
       "  box-sizing: border-box;\n",
       "  padding-bottom: 0.4em;\n",
       "  background-color: var(--sklearn-color-background);\n",
       "}\n",
       "\n",
       "#sk-container-id-1 div.sk-container {\n",
       "  /* jupyter's `normalize.less` sets `[hidden] { display: none; }`\n",
       "     but bootstrap.min.css set `[hidden] { display: none !important; }`\n",
       "     so we also need the `!important` here to be able to override the\n",
       "     default hidden behavior on the sphinx rendered scikit-learn.org.\n",
       "     See: https://github.com/scikit-learn/scikit-learn/issues/21755 */\n",
       "  display: inline-block !important;\n",
       "  position: relative;\n",
       "}\n",
       "\n",
       "#sk-container-id-1 div.sk-text-repr-fallback {\n",
       "  display: none;\n",
       "}\n",
       "\n",
       "div.sk-parallel-item,\n",
       "div.sk-serial,\n",
       "div.sk-item {\n",
       "  /* draw centered vertical line to link estimators */\n",
       "  background-image: linear-gradient(var(--sklearn-color-text-on-default-background), var(--sklearn-color-text-on-default-background));\n",
       "  background-size: 2px 100%;\n",
       "  background-repeat: no-repeat;\n",
       "  background-position: center center;\n",
       "}\n",
       "\n",
       "/* Parallel-specific style estimator block */\n",
       "\n",
       "#sk-container-id-1 div.sk-parallel-item::after {\n",
       "  content: \"\";\n",
       "  width: 100%;\n",
       "  border-bottom: 2px solid var(--sklearn-color-text-on-default-background);\n",
       "  flex-grow: 1;\n",
       "}\n",
       "\n",
       "#sk-container-id-1 div.sk-parallel {\n",
       "  display: flex;\n",
       "  align-items: stretch;\n",
       "  justify-content: center;\n",
       "  background-color: var(--sklearn-color-background);\n",
       "  position: relative;\n",
       "}\n",
       "\n",
       "#sk-container-id-1 div.sk-parallel-item {\n",
       "  display: flex;\n",
       "  flex-direction: column;\n",
       "}\n",
       "\n",
       "#sk-container-id-1 div.sk-parallel-item:first-child::after {\n",
       "  align-self: flex-end;\n",
       "  width: 50%;\n",
       "}\n",
       "\n",
       "#sk-container-id-1 div.sk-parallel-item:last-child::after {\n",
       "  align-self: flex-start;\n",
       "  width: 50%;\n",
       "}\n",
       "\n",
       "#sk-container-id-1 div.sk-parallel-item:only-child::after {\n",
       "  width: 0;\n",
       "}\n",
       "\n",
       "/* Serial-specific style estimator block */\n",
       "\n",
       "#sk-container-id-1 div.sk-serial {\n",
       "  display: flex;\n",
       "  flex-direction: column;\n",
       "  align-items: center;\n",
       "  background-color: var(--sklearn-color-background);\n",
       "  padding-right: 1em;\n",
       "  padding-left: 1em;\n",
       "}\n",
       "\n",
       "\n",
       "/* Toggleable style: style used for estimator/Pipeline/ColumnTransformer box that is\n",
       "clickable and can be expanded/collapsed.\n",
       "- Pipeline and ColumnTransformer use this feature and define the default style\n",
       "- Estimators will overwrite some part of the style using the `sk-estimator` class\n",
       "*/\n",
       "\n",
       "/* Pipeline and ColumnTransformer style (default) */\n",
       "\n",
       "#sk-container-id-1 div.sk-toggleable {\n",
       "  /* Default theme specific background. It is overwritten whether we have a\n",
       "  specific estimator or a Pipeline/ColumnTransformer */\n",
       "  background-color: var(--sklearn-color-background);\n",
       "}\n",
       "\n",
       "/* Toggleable label */\n",
       "#sk-container-id-1 label.sk-toggleable__label {\n",
       "  cursor: pointer;\n",
       "  display: block;\n",
       "  width: 100%;\n",
       "  margin-bottom: 0;\n",
       "  padding: 0.5em;\n",
       "  box-sizing: border-box;\n",
       "  text-align: center;\n",
       "}\n",
       "\n",
       "#sk-container-id-1 label.sk-toggleable__label-arrow:before {\n",
       "  /* Arrow on the left of the label */\n",
       "  content: \"▸\";\n",
       "  float: left;\n",
       "  margin-right: 0.25em;\n",
       "  color: var(--sklearn-color-icon);\n",
       "}\n",
       "\n",
       "#sk-container-id-1 label.sk-toggleable__label-arrow:hover:before {\n",
       "  color: var(--sklearn-color-text);\n",
       "}\n",
       "\n",
       "/* Toggleable content - dropdown */\n",
       "\n",
       "#sk-container-id-1 div.sk-toggleable__content {\n",
       "  max-height: 0;\n",
       "  max-width: 0;\n",
       "  overflow: hidden;\n",
       "  text-align: left;\n",
       "  /* unfitted */\n",
       "  background-color: var(--sklearn-color-unfitted-level-0);\n",
       "}\n",
       "\n",
       "#sk-container-id-1 div.sk-toggleable__content.fitted {\n",
       "  /* fitted */\n",
       "  background-color: var(--sklearn-color-fitted-level-0);\n",
       "}\n",
       "\n",
       "#sk-container-id-1 div.sk-toggleable__content pre {\n",
       "  margin: 0.2em;\n",
       "  border-radius: 0.25em;\n",
       "  color: var(--sklearn-color-text);\n",
       "  /* unfitted */\n",
       "  background-color: var(--sklearn-color-unfitted-level-0);\n",
       "}\n",
       "\n",
       "#sk-container-id-1 div.sk-toggleable__content.fitted pre {\n",
       "  /* unfitted */\n",
       "  background-color: var(--sklearn-color-fitted-level-0);\n",
       "}\n",
       "\n",
       "#sk-container-id-1 input.sk-toggleable__control:checked~div.sk-toggleable__content {\n",
       "  /* Expand drop-down */\n",
       "  max-height: 200px;\n",
       "  max-width: 100%;\n",
       "  overflow: auto;\n",
       "}\n",
       "\n",
       "#sk-container-id-1 input.sk-toggleable__control:checked~label.sk-toggleable__label-arrow:before {\n",
       "  content: \"▾\";\n",
       "}\n",
       "\n",
       "/* Pipeline/ColumnTransformer-specific style */\n",
       "\n",
       "#sk-container-id-1 div.sk-label input.sk-toggleable__control:checked~label.sk-toggleable__label {\n",
       "  color: var(--sklearn-color-text);\n",
       "  background-color: var(--sklearn-color-unfitted-level-2);\n",
       "}\n",
       "\n",
       "#sk-container-id-1 div.sk-label.fitted input.sk-toggleable__control:checked~label.sk-toggleable__label {\n",
       "  background-color: var(--sklearn-color-fitted-level-2);\n",
       "}\n",
       "\n",
       "/* Estimator-specific style */\n",
       "\n",
       "/* Colorize estimator box */\n",
       "#sk-container-id-1 div.sk-estimator input.sk-toggleable__control:checked~label.sk-toggleable__label {\n",
       "  /* unfitted */\n",
       "  background-color: var(--sklearn-color-unfitted-level-2);\n",
       "}\n",
       "\n",
       "#sk-container-id-1 div.sk-estimator.fitted input.sk-toggleable__control:checked~label.sk-toggleable__label {\n",
       "  /* fitted */\n",
       "  background-color: var(--sklearn-color-fitted-level-2);\n",
       "}\n",
       "\n",
       "#sk-container-id-1 div.sk-label label.sk-toggleable__label,\n",
       "#sk-container-id-1 div.sk-label label {\n",
       "  /* The background is the default theme color */\n",
       "  color: var(--sklearn-color-text-on-default-background);\n",
       "}\n",
       "\n",
       "/* On hover, darken the color of the background */\n",
       "#sk-container-id-1 div.sk-label:hover label.sk-toggleable__label {\n",
       "  color: var(--sklearn-color-text);\n",
       "  background-color: var(--sklearn-color-unfitted-level-2);\n",
       "}\n",
       "\n",
       "/* Label box, darken color on hover, fitted */\n",
       "#sk-container-id-1 div.sk-label.fitted:hover label.sk-toggleable__label.fitted {\n",
       "  color: var(--sklearn-color-text);\n",
       "  background-color: var(--sklearn-color-fitted-level-2);\n",
       "}\n",
       "\n",
       "/* Estimator label */\n",
       "\n",
       "#sk-container-id-1 div.sk-label label {\n",
       "  font-family: monospace;\n",
       "  font-weight: bold;\n",
       "  display: inline-block;\n",
       "  line-height: 1.2em;\n",
       "}\n",
       "\n",
       "#sk-container-id-1 div.sk-label-container {\n",
       "  text-align: center;\n",
       "}\n",
       "\n",
       "/* Estimator-specific */\n",
       "#sk-container-id-1 div.sk-estimator {\n",
       "  font-family: monospace;\n",
       "  border: 1px dotted var(--sklearn-color-border-box);\n",
       "  border-radius: 0.25em;\n",
       "  box-sizing: border-box;\n",
       "  margin-bottom: 0.5em;\n",
       "  /* unfitted */\n",
       "  background-color: var(--sklearn-color-unfitted-level-0);\n",
       "}\n",
       "\n",
       "#sk-container-id-1 div.sk-estimator.fitted {\n",
       "  /* fitted */\n",
       "  background-color: var(--sklearn-color-fitted-level-0);\n",
       "}\n",
       "\n",
       "/* on hover */\n",
       "#sk-container-id-1 div.sk-estimator:hover {\n",
       "  /* unfitted */\n",
       "  background-color: var(--sklearn-color-unfitted-level-2);\n",
       "}\n",
       "\n",
       "#sk-container-id-1 div.sk-estimator.fitted:hover {\n",
       "  /* fitted */\n",
       "  background-color: var(--sklearn-color-fitted-level-2);\n",
       "}\n",
       "\n",
       "/* Specification for estimator info (e.g. \"i\" and \"?\") */\n",
       "\n",
       "/* Common style for \"i\" and \"?\" */\n",
       "\n",
       ".sk-estimator-doc-link,\n",
       "a:link.sk-estimator-doc-link,\n",
       "a:visited.sk-estimator-doc-link {\n",
       "  float: right;\n",
       "  font-size: smaller;\n",
       "  line-height: 1em;\n",
       "  font-family: monospace;\n",
       "  background-color: var(--sklearn-color-background);\n",
       "  border-radius: 1em;\n",
       "  height: 1em;\n",
       "  width: 1em;\n",
       "  text-decoration: none !important;\n",
       "  margin-left: 1ex;\n",
       "  /* unfitted */\n",
       "  border: var(--sklearn-color-unfitted-level-1) 1pt solid;\n",
       "  color: var(--sklearn-color-unfitted-level-1);\n",
       "}\n",
       "\n",
       ".sk-estimator-doc-link.fitted,\n",
       "a:link.sk-estimator-doc-link.fitted,\n",
       "a:visited.sk-estimator-doc-link.fitted {\n",
       "  /* fitted */\n",
       "  border: var(--sklearn-color-fitted-level-1) 1pt solid;\n",
       "  color: var(--sklearn-color-fitted-level-1);\n",
       "}\n",
       "\n",
       "/* On hover */\n",
       "div.sk-estimator:hover .sk-estimator-doc-link:hover,\n",
       ".sk-estimator-doc-link:hover,\n",
       "div.sk-label-container:hover .sk-estimator-doc-link:hover,\n",
       ".sk-estimator-doc-link:hover {\n",
       "  /* unfitted */\n",
       "  background-color: var(--sklearn-color-unfitted-level-3);\n",
       "  color: var(--sklearn-color-background);\n",
       "  text-decoration: none;\n",
       "}\n",
       "\n",
       "div.sk-estimator.fitted:hover .sk-estimator-doc-link.fitted:hover,\n",
       ".sk-estimator-doc-link.fitted:hover,\n",
       "div.sk-label-container:hover .sk-estimator-doc-link.fitted:hover,\n",
       ".sk-estimator-doc-link.fitted:hover {\n",
       "  /* fitted */\n",
       "  background-color: var(--sklearn-color-fitted-level-3);\n",
       "  color: var(--sklearn-color-background);\n",
       "  text-decoration: none;\n",
       "}\n",
       "\n",
       "/* Span, style for the box shown on hovering the info icon */\n",
       ".sk-estimator-doc-link span {\n",
       "  display: none;\n",
       "  z-index: 9999;\n",
       "  position: relative;\n",
       "  font-weight: normal;\n",
       "  right: .2ex;\n",
       "  padding: .5ex;\n",
       "  margin: .5ex;\n",
       "  width: min-content;\n",
       "  min-width: 20ex;\n",
       "  max-width: 50ex;\n",
       "  color: var(--sklearn-color-text);\n",
       "  box-shadow: 2pt 2pt 4pt #999;\n",
       "  /* unfitted */\n",
       "  background: var(--sklearn-color-unfitted-level-0);\n",
       "  border: .5pt solid var(--sklearn-color-unfitted-level-3);\n",
       "}\n",
       "\n",
       ".sk-estimator-doc-link.fitted span {\n",
       "  /* fitted */\n",
       "  background: var(--sklearn-color-fitted-level-0);\n",
       "  border: var(--sklearn-color-fitted-level-3);\n",
       "}\n",
       "\n",
       ".sk-estimator-doc-link:hover span {\n",
       "  display: block;\n",
       "}\n",
       "\n",
       "/* \"?\"-specific style due to the `<a>` HTML tag */\n",
       "\n",
       "#sk-container-id-1 a.estimator_doc_link {\n",
       "  float: right;\n",
       "  font-size: 1rem;\n",
       "  line-height: 1em;\n",
       "  font-family: monospace;\n",
       "  background-color: var(--sklearn-color-background);\n",
       "  border-radius: 1rem;\n",
       "  height: 1rem;\n",
       "  width: 1rem;\n",
       "  text-decoration: none;\n",
       "  /* unfitted */\n",
       "  color: var(--sklearn-color-unfitted-level-1);\n",
       "  border: var(--sklearn-color-unfitted-level-1) 1pt solid;\n",
       "}\n",
       "\n",
       "#sk-container-id-1 a.estimator_doc_link.fitted {\n",
       "  /* fitted */\n",
       "  border: var(--sklearn-color-fitted-level-1) 1pt solid;\n",
       "  color: var(--sklearn-color-fitted-level-1);\n",
       "}\n",
       "\n",
       "/* On hover */\n",
       "#sk-container-id-1 a.estimator_doc_link:hover {\n",
       "  /* unfitted */\n",
       "  background-color: var(--sklearn-color-unfitted-level-3);\n",
       "  color: var(--sklearn-color-background);\n",
       "  text-decoration: none;\n",
       "}\n",
       "\n",
       "#sk-container-id-1 a.estimator_doc_link.fitted:hover {\n",
       "  /* fitted */\n",
       "  background-color: var(--sklearn-color-fitted-level-3);\n",
       "}\n",
       "</style><div id=\"sk-container-id-1\" class=\"sk-top-container\"><div class=\"sk-text-repr-fallback\"><pre>DecisionTreeClassifier()</pre><b>In a Jupyter environment, please rerun this cell to show the HTML representation or trust the notebook. <br />On GitHub, the HTML representation is unable to render, please try loading this page with nbviewer.org.</b></div><div class=\"sk-container\" hidden><div class=\"sk-item\"><div class=\"sk-estimator fitted sk-toggleable\"><input class=\"sk-toggleable__control sk-hidden--visually\" id=\"sk-estimator-id-1\" type=\"checkbox\" checked><label for=\"sk-estimator-id-1\" class=\"sk-toggleable__label fitted sk-toggleable__label-arrow fitted\">&nbsp;&nbsp;DecisionTreeClassifier<a class=\"sk-estimator-doc-link fitted\" rel=\"noreferrer\" target=\"_blank\" href=\"https://scikit-learn.org/1.5/modules/generated/sklearn.tree.DecisionTreeClassifier.html\">?<span>Documentation for DecisionTreeClassifier</span></a><span class=\"sk-estimator-doc-link fitted\">i<span>Fitted</span></span></label><div class=\"sk-toggleable__content fitted\"><pre>DecisionTreeClassifier()</pre></div> </div></div></div></div>"
      ],
      "text/plain": [
       "DecisionTreeClassifier()"
      ]
     },
     "execution_count": 5,
     "metadata": {},
     "output_type": "execute_result"
    }
   ],
   "source": [
    "model.fit(X_train, y_train)"
   ]
  },
  {
   "cell_type": "markdown",
   "id": "5317070e-6ff5-4d44-b071-9ff4d92ce6b0",
   "metadata": {},
   "source": [
    "<p>Let’s now use this classifier to make a prediction for a passenger with these values:</p>\n",
    "\n",
    "<ul>\n",
    "    <li>Sex: female</li>\n",
    "    <li>Pclass: 3</li>\n",
    "    <li>Fare: 25</li>\n",
    "    <li>Age: 30</li>\n",
    "    <li>Has 1 sibling/spouse on board</li>\n",
    "    <li>Has 0 parents/children on board</li>\n",
    "</ul>"
   ]
  },
  {
   "cell_type": "code",
   "execution_count": 6,
   "id": "c2cbee1e-859f-4e1c-ae88-6bcf726d7ac9",
   "metadata": {},
   "outputs": [
    {
     "name": "stdout",
     "output_type": "stream",
     "text": [
      "[0]\n"
     ]
    }
   ],
   "source": [
    "print(model.predict([[3, False, 30, 1, 0, 25]]))"
   ]
  },
  {
   "cell_type": "markdown",
   "id": "7bf2f9b1-693f-4b9e-ae97-3c4352446288",
   "metadata": {},
   "source": [
    "<strong>We see that the model predicts that the passenger did not survive.</strong>"
   ]
  },
  {
   "cell_type": "markdown",
   "id": "5d441ed4-4d4a-4887-b5af-114ed363ece8",
   "metadata": {},
   "source": [
    "<h3>Scoring a Decision Tree Model</h3>"
   ]
  },
  {
   "cell_type": "markdown",
   "id": "fb1d39a4-9bcb-4436-a71a-e52fa0e1fbe2",
   "metadata": {},
   "source": [
    "<p>We use the k-fold cross validation to get an accurate measure of the accuracy, precision, recall and f1 scores</p>\n",
    "<p>In order to have something to compare it to, we build a Linear Regression Model then compare its evaluation metrics to the Decision Tree Model</p>"
   ]
  },
  {
   "cell_type": "code",
   "execution_count": 7,
   "id": "09beebcf-fb3b-4db2-9e25-48eb4c2c3ea0",
   "metadata": {},
   "outputs": [
    {
     "name": "stdout",
     "output_type": "stream",
     "text": [
      "Decision Tree - Gini\n",
      "Accuracy: 0.775630038722783\n",
      "Precision: 0.7110629291007737\n",
      "Recall: 0.7058600713012477\n",
      "F1-Score: 0.7058600713012477 \n",
      "\n",
      "Logistic Regression\n",
      "Accuracy: 0.7970354853043865\n",
      "Precision: 0.7618898922983288\n",
      "Recall: 0.6900529617441382\n",
      "F1-Score: 0.6900529617441382\n"
     ]
    }
   ],
   "source": [
    "import pandas as pd\n",
    "from sklearn.tree import DecisionTreeClassifier\n",
    "from sklearn.linear_model import LogisticRegression\n",
    "from sklearn.model_selection import KFold\n",
    "from sklearn.metrics import precision_score, recall_score, f1_score\n",
    "import numpy as np\n",
    "\n",
    "df = pd.read_csv('../data/titanic.csv')\n",
    "df['male'] = df['Sex'] == 'male'\n",
    "X = df[['Pclass', 'male', 'Age', 'Siblings/Spouses', 'Parents/Children', 'Fare']].values\n",
    "y = df['Survived'].values\n",
    "\n",
    "kf = KFold(n_splits=5, shuffle=True, random_state=10)\n",
    "\n",
    "dt_accuracy_scores = []\n",
    "dt_precision_scores = []\n",
    "dt_recall_scores = []\n",
    "dt_f1_scores = []\n",
    "lr_accuracy_scores = []\n",
    "lr_precision_scores = []\n",
    "lr_recall_scores = []\n",
    "lr_f1_scores = []\n",
    "\n",
    "for train_index, test_index in kf.split(X):\n",
    "    X_train, X_test = X[train_index], X[test_index]\n",
    "    y_train, y_test = y[train_index], y[test_index]\n",
    "    \n",
    "    dt = DecisionTreeClassifier()\n",
    "    dt.fit(X_train, y_train)\n",
    "    dt_accuracy_scores.append(dt.score(X_test, y_test))\n",
    "    dt_y_pred = dt.predict(X_test)\n",
    "    dt_precision_scores.append(precision_score(y_test, dt_y_pred))\n",
    "    dt_recall_scores.append(recall_score(y_test, dt_y_pred))\n",
    "    dt_f1_scores.append(recall_score(y_test, dt_y_pred))\n",
    "    \n",
    "    lr = LogisticRegression()\n",
    "    lr.fit(X_train, y_train)\n",
    "    lr_accuracy_scores.append(lr.score(X_test, y_test))\n",
    "    lr_y_pred = lr.predict(X_test)\n",
    "    lr_precision_scores.append(precision_score(y_test, lr_y_pred))\n",
    "    lr_recall_scores.append(recall_score(y_test, lr_y_pred))\n",
    "    lr_f1_scores.append(recall_score(y_test, lr_y_pred))\n",
    "    \n",
    "print(\"Decision Tree - Gini\")\n",
    "print(\"Accuracy:\", np.mean(dt_accuracy_scores))\n",
    "print(\"Precision:\", np.mean(dt_precision_scores))\n",
    "print(\"Recall:\", np.mean(dt_recall_scores))\n",
    "print(\"F1-Score:\", np.mean(dt_f1_scores), \"\\n\")\n",
    "\n",
    "print(\"Logistic Regression\")\n",
    "print(\"Accuracy:\", np.mean(lr_accuracy_scores))\n",
    "print(\"Precision:\", np.mean(lr_precision_scores))\n",
    "print(\"Recall:\", np.mean(lr_recall_scores))\n",
    "print(\"F1-Score:\", np.mean(lr_f1_scores))"
   ]
  },
  {
   "cell_type": "markdown",
   "id": "1e7998ee-eea1-4421-a174-a9a680c6d933",
   "metadata": {},
   "source": [
    "<p>You can see that:</p>\n",
    "<ul>\n",
    "    <li>The accuracy and precision of the Logistic Regression model is higher</li>\n",
    "    <li>The recall and F1-score of the Decision Tree model is higher</li>\n",
    "</ul>\n",
    "<strong>However the values are very near to each other, and therefore we still might want to use a decision tree for its interpretability</strong>"
   ]
  },
  {
   "cell_type": "markdown",
   "id": "b54d790c-2161-44eb-9032-f1e3f81bf16c",
   "metadata": {},
   "source": [
    "<h3>Gini vs Entropy</h3>"
   ]
  },
  {
   "cell_type": "markdown",
   "id": "2d22563a-9761-41cb-bc30-a2275f34a9ad",
   "metadata": {},
   "source": [
    "<p>The default impurity criterion in scikit-learn’s Decision Tree algorithm is the Gini Impurity. However, you can choose the impurity criterion by setting the <strong>criterion</strong> parameter to entropy.</p>\n",
    "\n",
    "<p>Now we can compare a Decision Tree using gini with a Decision Tree using entropy using the same k-fold object from the previous section for a fair comparsion</p>"
   ]
  },
  {
   "cell_type": "code",
   "execution_count": 8,
   "id": "fb2c338f-b5f1-4ece-8c51-3101c330779e",
   "metadata": {},
   "outputs": [
    {
     "name": "stdout",
     "output_type": "stream",
     "text": [
      "Decision Tree - Entropy\n",
      "Accuracy: 0.7733764997143402\n",
      "Precision: 0.7011838193339139\n",
      "Recall: 0.7164935554641437\n",
      "F1-Score: 0.7164935554641437 \n",
      "\n"
     ]
    }
   ],
   "source": [
    "dt_entropy_accuracy_scores = []\n",
    "dt_entropy_precision_scores = []\n",
    "dt_entropy_recall_scores = []\n",
    "dt_entropy_f1_scores = []\n",
    "\n",
    "for train_index, test_index in kf.split(X):\n",
    "    X_train, X_test = X[train_index], X[test_index]\n",
    "    y_train, y_test = y[train_index], y[test_index]\n",
    "\n",
    "    dt_entropy = DecisionTreeClassifier(criterion='entropy')\n",
    "    dt_entropy.fit(X_train, y_train)\n",
    "    dt_entropy_accuracy_scores.append(dt_entropy.score(X_test, y_test))\n",
    "    dt_entropy_y_pred = dt_entropy.predict(X_test)\n",
    "    dt_entropy_precision_scores.append(precision_score(y_test, dt_entropy_y_pred))\n",
    "    dt_entropy_recall_scores.append(recall_score(y_test, dt_entropy_y_pred))\n",
    "    dt_entropy_f1_scores.append(recall_score(y_test, dt_entropy_y_pred))\n",
    "    \n",
    "print(\"Decision Tree - Entropy\")\n",
    "print(\"Accuracy:\", np.mean(dt_entropy_accuracy_scores))\n",
    "print(\"Precision:\", np.mean(dt_entropy_precision_scores))\n",
    "print(\"Recall:\", np.mean(dt_entropy_recall_scores))\n",
    "print(\"F1-Score:\", np.mean(dt_entropy_f1_scores), \"\\n\")"
   ]
  },
  {
   "cell_type": "markdown",
   "id": "9fc54c6a-55b5-4387-b7ca-3efbdf2e000f",
   "metadata": {},
   "source": [
    "<strong>\n",
    "    We see very little difference in the performance of Gini vs Entropy.<br/>Which is expected as they aren’t really very different functions.<br/>It’s rare to find a dataset where the choice would make a difference.\n",
    "</strong>"
   ]
  },
  {
   "cell_type": "markdown",
   "id": "4940699c-af70-408d-be6b-453d00120978",
   "metadata": {},
   "source": [
    "<h3>Visualizing Decision Trees</h3>"
   ]
  },
  {
   "cell_type": "markdown",
   "id": "3d8eaab4-5c41-41bc-8054-463f3bc3a511",
   "metadata": {},
   "source": [
    "<p>We can use scikit-learn's export_graphviz function to create a png image of the decision tree as shown below.</p>\n",
    "<strong>Note! In order of this to work you need to download the Graphviz executables from the</strong>\n",
    "    \n",
    "[Graphviz's official website](https://graphviz.org/download/).\n",
    "\n",
    "<p>You may also need to restart your conda environment or your computer machine</p>"
   ]
  },
  {
   "cell_type": "markdown",
   "id": "47e47eba-ff43-490c-ad81-a4edbd469592",
   "metadata": {},
   "source": [
    "<p>\n",
    "    Graph objects are stored as .dot files which can be the GraphViz program. Our goal is to save a png image file. so we save the dot file created by the export_graphviz function so that we can convert it to a png using the graphviz module\n",
    "</p>\n",
    "<p>\n",
    "    Finally, we can use the render method to create the file. We tell it the filename and file format. \n",
    "</p>\n",
    "<p>\n",
    "    By default, it will create extra files that we are not interested in, so we add cleanup to tell it to get rid of them.\n",
    "</p>\n",
    "<p>\n",
    "    Now you should have a file called tree.png on your computer, and use the display method to view the generated tree on this notebook.\n",
    "</p>"
   ]
  },
  {
   "cell_type": "code",
   "execution_count": 9,
   "id": "86c40f31-3fb8-449e-84d5-59f35e595379",
   "metadata": {},
   "outputs": [
    {
     "data": {
      "image/png": "[encoded data removed]",
      "text/plain": [
       "<IPython.core.display.Image object>"
      ]
     },
     "metadata": {},
     "output_type": "display_data"
    }
   ],
   "source": [
    "from IPython.display import Image, display\n",
    "from sklearn.tree import export_graphviz\n",
    "import graphviz\n",
    "from IPython.display import Image\n",
    "\n",
    "feature_names = ['Pclass', 'male']\n",
    "X = df[feature_names].values\n",
    "y = df['Survived'].values\n",
    "\n",
    "dt = DecisionTreeClassifier()\n",
    "dt.fit(X, y)\n",
    "\n",
    "dot_file = export_graphviz(dt, feature_names=feature_names)\n",
    "graph = graphviz.Source(dot_file)\n",
    "graph.render(filename='./images/tree', format='png', cleanup=True)\n",
    "\n",
    "\n",
    "display(Image(filename='./images/tree.png'))"
   ]
  },
  {
   "cell_type": "markdown",
   "id": "9360a3bc-a482-4369-a7d0-624fc3437907",
   "metadata": {},
   "source": [
    "<p>Let's do a prediction using this tree for this passenger:</p>\n",
    "<ul>\n",
    "    <li>Sex: female</li>\n",
    "    <li>Pclass: 3</li>\n",
    "    <li>Fare: 25</li>\n",
    "    <li>Age: 30</li>\n",
    "    <li>Has 1 sibling/spouse on board</li>\n",
    "    <li>Has 0 parents/children on board</li>\n",
    "</ul>"
   ]
  },
  {
   "cell_type": "code",
   "execution_count": 10,
   "id": "eee652a5-f894-4fd9-b637-9325e1cb3276",
   "metadata": {},
   "outputs": [
    {
     "name": "stdout",
     "output_type": "stream",
     "text": [
      "[0]\n"
     ]
    }
   ],
   "source": [
    "print(model.predict([[3, False, 30, 1, 0, 25]]))"
   ]
  },
  {
   "cell_type": "markdown",
   "id": "1c370762-4941-413a-8d6f-70690a585337",
   "metadata": {},
   "source": [
    "<strong>\n",
    "    Looking at the generated tree graph in 'tree.png' we notice that the leaf node has 72 datapoints for passengers who survived and 72 datapoints for passengers who didn't, meaning there is a 50/50 chance here, in this case the decision tree classifier predicts that the passenger did not survive as we see above\n",
    "</strong>\n",
    "\n",
    "<p>Let's do another prediction using this tree for the same passenger but in the second class:</p>\n",
    "<ul>\n",
    "    <li>Sex: female</li>\n",
    "    <li>Pclass: 2</li>\n",
    "    <li>Fare: 25</li>\n",
    "    <li>Age: 30</li>\n",
    "    <li>Has 1 sibling/spouse on board</li>\n",
    "    <li>Has 0 parents/children on board</li>\n",
    "</ul>"
   ]
  },
  {
   "cell_type": "code",
   "execution_count": 11,
   "id": "863cb480-2919-40d4-83c1-b5543d1eebc0",
   "metadata": {},
   "outputs": [
    {
     "name": "stdout",
     "output_type": "stream",
     "text": [
      "[1]\n"
     ]
    }
   ],
   "source": [
    "print(model.predict([[2, False, 30, 1, 0, 25]]))"
   ]
  },
  {
   "cell_type": "markdown",
   "id": "84ef2437-6424-40a7-bf7a-8b7a0a6bf973",
   "metadata": {},
   "source": [
    "<strong>\n",
    "    Looking at the generated tree graph in 'tree.png' we notice that the leaf node has 70 datapoints for passengers who survived and 6 datapoints for passengers who didn't, so the prediction would be that the passenger survive<br/><br/>\n",
    "    If we need to have an estimate on the probability of surviving for this passenger, we might say there is 70/(70+6) = 0.92 chance for this passenger to survivem and 6/(70+6) = 1 - 0.92 = 0.08 chance for this passenger to not survive.\n",
    "</strong>"
   ]
  }
 ],
 "metadata": {
  "kernelspec": {
   "display_name": "Python 3 (ipykernel)",
   "language": "python",
   "name": "python3"
  },
  "language_info": {
   "codemirror_mode": {
    "name": "ipython",
    "version": 3
   },
   "file_extension": ".py",
   "mimetype": "text/x-python",
   "name": "python",
   "nbconvert_exporter": "python",
   "pygments_lexer": "ipython3",
   "version": "3.12.4"
  }
 },
 "nbformat": 4,
 "nbformat_minor": 5
}
