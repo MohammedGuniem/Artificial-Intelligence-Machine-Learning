{
 "cells": [
  {
   "cell_type": "markdown",
   "id": "07298fb1-9528-4cf3-ade0-832dcb1760bd",
   "metadata": {},
   "source": [
    "<h1>What is Machine Learning?</h1>"
   ]
  },
  {
   "cell_type": "markdown",
   "id": "b7f4ed9b-0961-41eb-99d4-5e3e083daeac",
   "metadata": {},
   "source": [
    "<p>Machine Learning is a way of taking data and turning it into insights. We use computer power to analyze examples from the past to build a model that can predict the result for new examples.</p>\n",
    "<p>Machine Learning can be used to create a chatbot, detect spam or image recognition.</p>"
   ]
  },
  {
   "cell_type": "markdown",
   "id": "8357648a-a260-4371-b70f-57c77122972c",
   "metadata": {},
   "source": [
    "<h1>Supevised vs. Unsupervised Machine Learning</h1>"
   ]
  },
  {
   "cell_type": "markdown",
   "id": "5a1eccf2-0824-43a3-8489-067674a3f55b",
   "metadata": {},
   "source": [
    "<p>In Machine Learning, we talk about supervised and unsupervised learning. Supervised learning is when we have a known target based on past data (for example, predicting what price a house will sell for) and unsupervised learning is when there isn't a known past answer (for example, determining the topics discussed in restaurant reviews)</p>"
   ]
  }
 ],
 "metadata": {
  "kernelspec": {
   "display_name": "Python 3 (ipykernel)",
   "language": "python",
   "name": "python3"
  },
  "language_info": {
   "codemirror_mode": {
    "name": "ipython",
    "version": 3
   },
   "file_extension": ".py",
   "mimetype": "text/x-python",
   "name": "python",
   "nbconvert_exporter": "python",
   "pygments_lexer": "ipython3",
   "version": "3.12.4"
  }
 },
 "nbformat": 4,
 "nbformat_minor": 5
}
