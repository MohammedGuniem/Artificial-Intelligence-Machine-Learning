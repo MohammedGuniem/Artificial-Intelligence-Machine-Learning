{
 "cells": [
  {
   "cell_type": "markdown",
   "id": "8b3a5b1b-d107-4868-a4d3-35768c5f580a",
   "metadata": {},
   "source": [
    "<h1>What is classification in the context of machine learning?</h1>"
   ]
  },
  {
   "cell_type": "markdown",
   "id": "aec6861e-e012-4e9c-8813-043d16393d47",
   "metadata": {},
   "source": [
    "<p>Machine Learning on a high level is made up of <strong>supervised</strong> and <strong>unsupervised</strong> learning.</p>\n",
    "\n",
    "<p>In supervised learning we use labeled data to inform our model, and therefore in supervised learning we have a known target or label for the historical data, but for unsupervised learning there is no known target.</p>\n",
    "\n",
    "<p><strong>Features</strong> are the data we use to make our prediction, and sometimes you’ll hear features called predictors.</p>\n",
    "\n",
    "<p>A target is what we’re trying to predict and a feature is a piece of data we can use to make our prediction.</p>\n",
    "\n",
    "<br/>\n",
    "\n",
    "<p>Within supervised learning, there is <strong>Classification</strong> and <strong>Regression</strong>.</p>\n",
    "\n",
    "<p>Classification problems are where the target is a categorical value (often True or False, but can be multiple categories)</p>\n",
    "\n",
    "<p>Regression problems are where the target is a numerical value.</p>\n",
    "\n",
    "<br/>\n",
    "\n",
    "<p>For example, <strong>predicting housing prices:</strong></p>\n",
    "<ul>\n",
    "    <li>is <strong>supervised learning</strong>: Since we have historical data of the sales of houses in the past.</li>\n",
    "    <li>is a <strong>regression problem</strong>: Because the housing price is a numerical value.</li>\n",
    "</ul>\n",
    "\n",
    "<p>For example, <strong>Predicting if someone will default on their loan:</strong></p>\n",
    "<ul>\n",
    "    <li>is <strong>supervised learning</strong>: Since we have the historical data of whether past loanees defaulted.</li>\n",
    "    <li>is a <strong>classification problem</strong>: Because we are trying to predict if the loan is in one of two categories (default or not).</li>\n",
    "</ul>\n",
    "\n",
    "<strong>Good to know! Logistic Regression, while it has regression in its name is an algorithm for solving classification problems, not regression problems.</strong>\n",
    "\n"
   ]
  }
 ],
 "metadata": {
  "kernelspec": {
   "display_name": "Python 3 (ipykernel)",
   "language": "python",
   "name": "python3"
  },
  "language_info": {
   "codemirror_mode": {
    "name": "ipython",
    "version": 3
   },
   "file_extension": ".py",
   "mimetype": "text/x-python",
   "name": "python",
   "nbconvert_exporter": "python",
   "pygments_lexer": "ipython3",
   "version": "3.12.4"
  }
 },
 "nbformat": 4,
 "nbformat_minor": 5
}
