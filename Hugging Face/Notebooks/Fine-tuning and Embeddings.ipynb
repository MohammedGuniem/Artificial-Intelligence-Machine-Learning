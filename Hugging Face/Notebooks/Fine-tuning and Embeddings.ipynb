{
 "cells": [
  {
   "cell_type": "markdown",
   "id": "ee9e59c4-49e9-4c1e-9424-440f4d0fa01f",
   "metadata": {},
   "source": [
    "<h1>Fine-tuning and Embeddings</h1>"
   ]
  },
  {
   "cell_type": "markdown",
   "id": "17ae48cf-93c2-4896-8ff4-a66942200585",
   "metadata": {},
   "source": [
    "<h3>1. Load the IMDB dataset:</h3>"
   ]
  },
  {
   "cell_type": "code",
   "execution_count": 1,
   "id": "f3441711-15c9-4d64-b152-0b61114ad21e",
   "metadata": {},
   "outputs": [],
   "source": [
    "from datasets import load_dataset\n",
    "\n",
    "dataset = load_dataset('imdb')"
   ]
  },
  {
   "cell_type": "markdown",
   "id": "17ed7053-8046-4f4e-9f98-9944de355f27",
   "metadata": {},
   "source": [
    "<h3>2. Select a smaller subset of the dataset to apeed up this demonstration</h3>"
   ]
  },
  {
   "cell_type": "code",
   "execution_count": 2,
   "id": "a923a29b-2b3f-4d2d-a212-c03f8d2dca1d",
   "metadata": {},
   "outputs": [],
   "source": [
    "small_train_dataset = dataset['train'].shuffle(seed=42).select(range(200))  # Select 200 samples\n",
    "small_test_dataset = dataset['test'].shuffle(seed=42).select(range(100))    # Select 100 samples"
   ]
  },
  {
   "cell_type": "markdown",
   "id": "15cf430e-0a62-472a-be5a-ad24e4f71e0e",
   "metadata": {},
   "source": [
    "<h3>3. Preprocess the data</h3>"
   ]
  },
  {
   "cell_type": "code",
   "execution_count": 3,
   "id": "07eb402b-941c-4320-a316-2d8204ceb8ad",
   "metadata": {},
   "outputs": [],
   "source": [
    "from transformers import AutoModelForSequenceClassification, AutoTokenizer\n",
    "\n",
    "model_name = \"distilbert-base-uncased-finetuned-sst-2-english\"\n",
    "\n",
    "# Load the tokenizer\n",
    "tokenizer = AutoTokenizer.from_pretrained(model_name)\n",
    "\n",
    "def tokenize_function(examples):\n",
    "    return tokenizer(examples['text'], padding='max_length', truncation=True, max_length=128)  # Limit to 128 tokens\n",
    "\n",
    "tokenized_train = small_train_dataset.map(tokenize_function, batched=True)\n",
    "\n",
    "tokenized_test = small_test_dataset.map(tokenize_function, batched=True)"
   ]
  },
  {
   "cell_type": "markdown",
   "id": "8b1ea537-d840-424e-af06-847fbec7d1fc",
   "metadata": {},
   "source": [
    "<h3>4. Set up a data collator for dynamic padding:</h3>"
   ]
  },
  {
   "cell_type": "code",
   "execution_count": 4,
   "id": "87dececb-ba78-40c4-b7d6-f0307299d16a",
   "metadata": {},
   "outputs": [],
   "source": [
    "from transformers import DataCollatorWithPadding\n",
    "\n",
    "data_collator = DataCollatorWithPadding(tokenizer=tokenizer)"
   ]
  },
  {
   "cell_type": "markdown",
   "id": "d6f30845-fbbc-4cbb-8823-a39b65543149",
   "metadata": {},
   "source": [
    "<h3>5. Load the Model</h3>"
   ]
  },
  {
   "cell_type": "code",
   "execution_count": 5,
   "id": "6196f880-d90c-4f9b-9aa0-0b4a2785c01d",
   "metadata": {},
   "outputs": [],
   "source": [
    "model = AutoModelForSequenceClassification.from_pretrained(model_name)"
   ]
  },
  {
   "cell_type": "markdown",
   "id": "d5bf4271-6794-40d8-80a3-c7974b4f55e5",
   "metadata": {},
   "source": [
    "<h3>6. Set up training arguments</h3>"
   ]
  },
  {
   "cell_type": "code",
   "execution_count": 6,
   "id": "b0942dc0-b49f-442b-ad12-1e8d7139ab83",
   "metadata": {},
   "outputs": [],
   "source": [
    "from transformers import TrainingArguments\n",
    "\n",
    "training_args = TrainingArguments(\n",
    "    output_dir='./results',\n",
    "    eval_strategy='epoch',\n",
    "    learning_rate=2e-5,\n",
    "    per_device_train_batch_size=8,  # Smaller batch size can help on CPU\n",
    "    per_device_eval_batch_size=8,\n",
    "    num_train_epochs=1,  # Reduce to 1 epoch\n",
    "    weight_decay=0.01,\n",
    "    logging_dir='./logs',\n",
    ")"
   ]
  },
  {
   "cell_type": "markdown",
   "id": "88546904-6a0e-4dbf-bfb8-c87716124baa",
   "metadata": {},
   "source": [
    "<h3>7. Initialize the trainer</h3>"
   ]
  },
  {
   "cell_type": "code",
   "execution_count": 7,
   "id": "71b39189-b0c9-4f3e-841c-4266b54f00e1",
   "metadata": {},
   "outputs": [],
   "source": [
    "from transformers import Trainer\n",
    "\n",
    "trainer = Trainer(\n",
    "    model=model,\n",
    "    args=training_args,\n",
    "    train_dataset=tokenized_train,\n",
    "    eval_dataset=tokenized_test,\n",
    "    data_collator=data_collator,\n",
    ")"
   ]
  },
  {
   "cell_type": "markdown",
   "id": "defc7bef-a3ef-4149-86ca-8c7de0b42888",
   "metadata": {},
   "source": [
    "<h3>8. Train the model</h3>"
   ]
  },
  {
   "cell_type": "code",
   "execution_count": 8,
   "id": "75bd3170-1708-4185-8bcb-1a1b610e839b",
   "metadata": {},
   "outputs": [
    {
     "data": {
      "text/html": [
       "\n",
       "    <div>\n",
       "      \n",
       "      <progress value='25' max='25' style='width:300px; height:20px; vertical-align: middle;'></progress>\n",
       "      [25/25 00:51, Epoch 1/1]\n",
       "    </div>\n",
       "    <table border=\"1\" class=\"dataframe\">\n",
       "  <thead>\n",
       " <tr style=\"text-align: left;\">\n",
       "      <th>Epoch</th>\n",
       "      <th>Training Loss</th>\n",
       "      <th>Validation Loss</th>\n",
       "    </tr>\n",
       "  </thead>\n",
       "  <tbody>\n",
       "    <tr>\n",
       "      <td>1</td>\n",
       "      <td>No log</td>\n",
       "      <td>0.529444</td>\n",
       "    </tr>\n",
       "  </tbody>\n",
       "</table><p>"
      ],
      "text/plain": [
       "<IPython.core.display.HTML object>"
      ]
     },
     "metadata": {},
     "output_type": "display_data"
    },
    {
     "data": {
      "text/plain": [
       "TrainOutput(global_step=25, training_loss=0.7088493347167969, metrics={'train_runtime': 53.0644, 'train_samples_per_second': 3.769, 'train_steps_per_second': 0.471, 'total_flos': 6623369932800.0, 'train_loss': 0.7088493347167969, 'epoch': 1.0})"
      ]
     },
     "execution_count": 8,
     "metadata": {},
     "output_type": "execute_result"
    }
   ],
   "source": [
    "trainer.train()"
   ]
  },
  {
   "cell_type": "markdown",
   "id": "76ea93a3-b386-4f00-bc57-d3f449561c29",
   "metadata": {},
   "source": [
    "<h3>9. Evaluate the Model</h3>"
   ]
  },
  {
   "cell_type": "code",
   "execution_count": 9,
   "id": "53e8e6e2-5c15-4270-9877-6c40c3101d0c",
   "metadata": {},
   "outputs": [
    {
     "data": {
      "text/html": [
       "\n",
       "    <div>\n",
       "      \n",
       "      <progress value='13' max='13' style='width:300px; height:20px; vertical-align: middle;'></progress>\n",
       "      [13/13 00:06]\n",
       "    </div>\n",
       "    "
      ],
      "text/plain": [
       "<IPython.core.display.HTML object>"
      ]
     },
     "metadata": {},
     "output_type": "display_data"
    },
    {
     "data": {
      "text/plain": [
       "{'eval_loss': 0.52944415807724,\n",
       " 'eval_runtime': 6.6935,\n",
       " 'eval_samples_per_second': 14.94,\n",
       " 'eval_steps_per_second': 1.942,\n",
       " 'epoch': 1.0}"
      ]
     },
     "execution_count": 9,
     "metadata": {},
     "output_type": "execute_result"
    }
   ],
   "source": [
    "trainer.evaluate()"
   ]
  },
  {
   "cell_type": "markdown",
   "id": "4a4dc870-26bf-405d-82ab-b1ac3fb1db2e",
   "metadata": {},
   "source": [
    "<h3>10. Save the Model</h3>"
   ]
  },
  {
   "cell_type": "code",
   "execution_count": 10,
   "id": "1bc08be0-0950-4de2-a146-a1fed1f925cf",
   "metadata": {},
   "outputs": [
    {
     "data": {
      "text/plain": [
       "('./models/fine_tuned_model\\\\tokenizer_config.json',\n",
       " './models/fine_tuned_model\\\\special_tokens_map.json',\n",
       " './models/fine_tuned_model\\\\vocab.txt',\n",
       " './models/fine_tuned_model\\\\added_tokens.json',\n",
       " './models/fine_tuned_model\\\\tokenizer.json')"
      ]
     },
     "execution_count": 10,
     "metadata": {},
     "output_type": "execute_result"
    }
   ],
   "source": [
    "model.save_pretrained('./models/fine_tuned_model')\n",
    "\n",
    "tokenizer.save_pretrained('./models/fine_tuned_model')"
   ]
  },
  {
   "cell_type": "markdown",
   "id": "9a990ed8-c3eb-4b50-b707-3268c98a1b05",
   "metadata": {},
   "source": [
    "<h3>11. Loading and using the saved model</h3>"
   ]
  },
  {
   "cell_type": "code",
   "execution_count": 11,
   "id": "2af8cb2b-439a-4b12-928f-bcbe6477717f",
   "metadata": {},
   "outputs": [
    {
     "name": "stdout",
     "output_type": "stream",
     "text": [
      "[{'label': 'POSITIVE', 'score': 0.9915721416473389}]\n",
      "[{'label': 'NEGATIVE', 'score': 0.9846765398979187}]\n"
     ]
    }
   ],
   "source": [
    "from transformers import pipeline\n",
    "\n",
    "# Create the classifier\n",
    "classifier = pipeline(task=\"sentiment-analysis\", model=\"./models/fine_tuned_model\")\n",
    "\n",
    "# Classify the text\n",
    "\n",
    "pos_text_example = tokenized_test[0]['text']\n",
    "results = classifier(inputs=pos_text_example)\n",
    "print(results)\n",
    "\n",
    "neg_text_example = tokenized_test[2]['text']\n",
    "results = classifier(inputs=neg_text_example)\n",
    "print(results)"
   ]
  }
 ],
 "metadata": {
  "kernelspec": {
   "display_name": "Python 3 (ipykernel)",
   "language": "python",
   "name": "python3"
  },
  "language_info": {
   "codemirror_mode": {
    "name": "ipython",
    "version": 3
   },
   "file_extension": ".py",
   "mimetype": "text/x-python",
   "name": "python",
   "nbconvert_exporter": "python",
   "pygments_lexer": "ipython3",
   "version": "3.12.4"
  }
 },
 "nbformat": 4,
 "nbformat_minor": 5
}
