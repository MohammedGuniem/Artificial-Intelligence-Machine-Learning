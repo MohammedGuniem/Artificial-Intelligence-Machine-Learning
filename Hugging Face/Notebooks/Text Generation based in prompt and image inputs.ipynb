{
 "cells": [
  {
   "cell_type": "markdown",
   "id": "c7316854-b2db-426d-97b7-05247dd578ec",
   "metadata": {},
   "source": [
    "<h1>Text Generation based in prompt and image inputs</h1>"
   ]
  },
  {
   "cell_type": "markdown",
   "id": "02f5a981-dbcc-467a-a7d2-0ed78b0cd923",
   "metadata": {},
   "source": [
    "<h3>1. Basic use of a Hugging Face model for text generation</h3>"
   ]
  },
  {
   "cell_type": "code",
   "execution_count": 1,
   "id": "8c4d3137-f1bc-47b6-8492-d2cd24ab2499",
   "metadata": {},
   "outputs": [],
   "source": [
    "from transformers import pipeline"
   ]
  },
  {
   "cell_type": "code",
   "execution_count": 2,
   "id": "e3fce72f-8f0c-4025-bfd4-5bb0f73417a8",
   "metadata": {},
   "outputs": [],
   "source": [
    "prompt = \"Yogurt tastes better when topped with\""
   ]
  },
  {
   "cell_type": "code",
   "execution_count": 3,
   "id": "1cf6f369-ab27-4b93-b1a4-a619162da9fa",
   "metadata": {},
   "outputs": [
    {
     "name": "stderr",
     "output_type": "stream",
     "text": [
      "C:\\Users\\MOHAMMEDG\\Anaconda3\\envs\\hf\\Lib\\site-packages\\transformers\\tokenization_utils_base.py:1617: FutureWarning: `clean_up_tokenization_spaces` was not set. It will be set to `True` by default. This behavior will be deprecated in transformers v4.45, and will be then set to `False` by default. For more details check this issue: https://github.com/huggingface/transformers/issues/31884\n",
      "  warnings.warn(\n",
      "Setting `pad_token_id` to `eos_token_id`:None for open-end generation.\n"
     ]
    },
    {
     "name": "stdout",
     "output_type": "stream",
     "text": [
      "[{'generated_text': 'Yogurt tastes better when topped with lemon-flavored creme fraiche, and it\\'s best in the form of an orange-based creme fraiche. My favorite, however, was the \"dang. dang.\"\\n\\n'}]\n"
     ]
    }
   ],
   "source": [
    "text_generator = pipeline(\n",
    "    model=\"gpt2\",\n",
    "    task=\"text-generation\", \n",
    "    clean_up_tokenization_spaces=True\n",
    ")\n",
    "\n",
    "# Set pad_token_id to eos_token_id\n",
    "text_generator.model.config.pad_token_id = text_generator.model.config.eos_token_id\n",
    "\n",
    "generated_text = text_generator(prompt)\n",
    "print(generated_text)"
   ]
  },
  {
   "cell_type": "markdown",
   "id": "b4bfd3b9-a85e-4945-acfc-9c266501b474",
   "metadata": {},
   "source": [
    "<h3>2. Adding more control over the process and model used for text generation to improve results</h3>"
   ]
  },
  {
   "cell_type": "code",
   "execution_count": 4,
   "id": "f3bd9a58-6ec7-401e-bd8f-4fe45a3834f8",
   "metadata": {},
   "outputs": [],
   "source": [
    "from transformers import AutoTokenizer, AutoModelForCausalLM\n",
    "\n",
    "tokenizer = AutoTokenizer.from_pretrained(\"gpt2\")\n",
    "model = AutoModelForCausalLM.from_pretrained(\"gpt2\")"
   ]
  },
  {
   "cell_type": "code",
   "execution_count": 5,
   "id": "a49c6351-18f1-403d-aee4-e911976cf9e3",
   "metadata": {},
   "outputs": [
    {
     "name": "stdout",
     "output_type": "stream",
     "text": [
      "tensor([[   56,   519,  3325, 18221,  1365,   618, 20633,   351]])\n"
     ]
    }
   ],
   "source": [
    "input_ids = tokenizer.encode(prompt, return_tensors=\"pt\")\n",
    "print(input_ids)"
   ]
  },
  {
   "cell_type": "code",
   "execution_count": 6,
   "id": "b16768aa-8b5f-4700-9e4f-1899357e085e",
   "metadata": {},
   "outputs": [
    {
     "name": "stderr",
     "output_type": "stream",
     "text": [
      "The attention mask and the pad token id were not set. As a consequence, you may observe unexpected behavior. Please pass your input's `attention_mask` to obtain reliable results.\n",
      "Setting `pad_token_id` to `eos_token_id`:None for open-end generation.\n",
      "The attention mask is not set and cannot be inferred from input because pad token is same as eos token. As a consequence, you may observe unexpected behavior. Please pass your input's `attention_mask` to obtain reliable results.\n"
     ]
    },
    {
     "name": "stdout",
     "output_type": "stream",
     "text": [
      "tensor([[   56,   519,  3325, 18221,  1365,   618, 20633,   351,   257,  1310,\n",
      "          1643,   286, 18873, 13135,    13]])\n"
     ]
    }
   ],
   "source": [
    "output = model.generate(input_ids, max_length=15, num_return_sequences=1)\n",
    "print(output)"
   ]
  },
  {
   "cell_type": "code",
   "execution_count": 7,
   "id": "759c7b92-8795-4760-9973-a14977de134d",
   "metadata": {},
   "outputs": [
    {
     "name": "stdout",
     "output_type": "stream",
     "text": [
      "Yogurt tastes better when topped with a little bit of lemon juice.\n"
     ]
    }
   ],
   "source": [
    "generated_text = tokenizer.decode(output[0])\n",
    "print(generated_text)"
   ]
  },
  {
   "cell_type": "markdown",
   "id": "a81d68c9-a54e-4447-b114-6798c8646ab1",
   "metadata": {},
   "source": [
    "<h3>3. Generating text from an image</h3>"
   ]
  },
  {
   "cell_type": "code",
   "execution_count": 8,
   "id": "4ea59637-db9b-4968-a6bb-73883ce25a4f",
   "metadata": {},
   "outputs": [],
   "source": [
    "from transformers import (\n",
    "    AutoProcessor,\n",
    "    AutoModelForCausalLM\n",
    ")\n",
    "\n",
    "# Get the processor and model\n",
    "processor = AutoProcessor.from_pretrained(\"microsoft/git-base-coco\")\n",
    "\n",
    "# Load the model\n",
    "model = AutoModelForCausalLM.from_pretrained(\"microsoft/git-base-coco\")"
   ]
  },
  {
   "cell_type": "code",
   "execution_count": 9,
   "id": "9cac00b9-5f7f-4cd1-9477-909ffd77a180",
   "metadata": {},
   "outputs": [
    {
     "name": "stdout",
     "output_type": "stream",
     "text": [
      "a man in a yellow beanie, wearing a yellow beanie.\n"
     ]
    }
   ],
   "source": [
    "from PIL import Image\n",
    "\n",
    "# Load the image and get its pixels values\n",
    "img = Image.open(\"data/images/person_1.jpg\")\n",
    "pixel_values = processor(images=img, return_tensors=\"pt\").pixel_values\n",
    "\n",
    "# Generate the ids\n",
    "generated_ids = model.generate(pixel_values=pixel_values, max_length=15)\n",
    "\n",
    "# Decode the output\n",
    "generated_caption = processor.batch_decode(\n",
    "    generated_ids,\n",
    "    skip_special_tokens=True\n",
    ")\n",
    "\n",
    "# View the generated text based on the image input\n",
    "print(generated_caption[0])"
   ]
  },
  {
   "cell_type": "code",
   "execution_count": 10,
   "id": "58fdeacb-1fd8-40b5-aa6b-6ba012932000",
   "metadata": {},
   "outputs": [
    {
     "name": "stdout",
     "output_type": "stream",
     "text": [
      "woman in a black hat and red nail polish.\n"
     ]
    }
   ],
   "source": [
    "# Load the image and get its pixels values\n",
    "img = Image.open(\"data/images/person_2.jpg\")\n",
    "pixel_values = processor(images=img, return_tensors=\"pt\").pixel_values\n",
    "\n",
    "# Generate the ids\n",
    "generated_ids = model.generate(pixel_values=pixel_values, max_length=15)\n",
    "\n",
    "# Decode the output\n",
    "generated_caption = processor.batch_decode(\n",
    "    generated_ids,\n",
    "    skip_special_tokens=True\n",
    ")\n",
    "\n",
    "# View the generated text based on the image input\n",
    "print(generated_caption[0])"
   ]
  }
 ],
 "metadata": {
  "kernelspec": {
   "display_name": "Python 3 (ipykernel)",
   "language": "python",
   "name": "python3"
  },
  "language_info": {
   "codemirror_mode": {
    "name": "ipython",
    "version": 3
   },
   "file_extension": ".py",
   "mimetype": "text/x-python",
   "name": "python",
   "nbconvert_exporter": "python",
   "pygments_lexer": "ipython3",
   "version": "3.12.4"
  }
 },
 "nbformat": 4,
 "nbformat_minor": 5
}
