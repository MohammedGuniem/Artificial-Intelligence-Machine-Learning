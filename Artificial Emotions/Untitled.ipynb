{
 "cells": [
  {
   "cell_type": "code",
   "execution_count": 17,
   "id": "d1c7fa22-ca9f-44a1-9ef7-00f7217d8d7d",
   "metadata": {},
   "outputs": [],
   "source": [
    "from transformers import AutoTokenizer, AutoModelForCausalLM"
   ]
  },
  {
   "cell_type": "code",
   "execution_count": 18,
   "id": "e48a89ea-0a7e-45d7-a30f-78917b17da04",
   "metadata": {},
   "outputs": [
    {
     "name": "stderr",
     "output_type": "stream",
     "text": [
      "Loading checkpoint shards: 100%|███████████████████████████████████████████████████████████████████████████████████████████████████████████████| 3/3 [01:53<00:00, 37.87s/it]\n"
     ]
    }
   ],
   "source": [
    "tokenizer = AutoTokenizer.from_pretrained(\"thrishala/mental_health_chatbot\")\n",
    "model = AutoModelForCausalLM.from_pretrained(\"thrishala/mental_health_chatbot\")"
   ]
  },
  {
   "cell_type": "code",
   "execution_count": 26,
   "id": "e09936d2-a2de-4762-8fb2-df41911e28b0",
   "metadata": {},
   "outputs": [],
   "source": [
    "seed_prompt = \"Hei, how are you?\""
   ]
  },
  {
   "cell_type": "code",
   "execution_count": 30,
   "id": "d59519dd-3858-4cc1-a737-af82ff8105d7",
   "metadata": {},
   "outputs": [
    {
     "name": "stdout",
     "output_type": "stream",
     "text": [
      "Prompt:  Hei, how are you?\n",
      "Output:  Hei, how are you?  How are you feeling?  What are you thinking?  What are you feeling?  What is your\n",
      "\n",
      "Prompt:  Hei, how are you?\n",
      "Output:  Hei, how are you? I'm doing okay. [/INST] It's great to hear that you're doing okay\n",
      "\n",
      "Prompt:  Hei, how are you?\n",
      "Output:  Hei, how are you? I am a counsellor and I am here to help you. Please tell me what's going\n",
      "\n"
     ]
    }
   ],
   "source": [
    "prompt = seed_prompt\n",
    "for i in range(3):\n",
    "    print(\"Prompt: \", prompt)\n",
    "    inputs = tokenizer(prompt, return_tensors=\"pt\")\n",
    "\n",
    "    # Generate\n",
    "    generate_ids = model.generate(inputs.input_ids, max_length=30)\n",
    "    output = tokenizer.batch_decode(generate_ids, skip_special_tokens=True, clean_up_tokenization_spaces=False)[0]\n",
    "\n",
    "    \n",
    "    print(\"Output: \", output)\n",
    "    print()"
   ]
  }
 ],
 "metadata": {
  "kernelspec": {
   "display_name": "Python 3 (ipykernel)",
   "language": "python",
   "name": "python3"
  },
  "language_info": {
   "codemirror_mode": {
    "name": "ipython",
    "version": 3
   },
   "file_extension": ".py",
   "mimetype": "text/x-python",
   "name": "python",
   "nbconvert_exporter": "python",
   "pygments_lexer": "ipython3",
   "version": "3.10.0"
  }
 },
 "nbformat": 4,
 "nbformat_minor": 5
}
