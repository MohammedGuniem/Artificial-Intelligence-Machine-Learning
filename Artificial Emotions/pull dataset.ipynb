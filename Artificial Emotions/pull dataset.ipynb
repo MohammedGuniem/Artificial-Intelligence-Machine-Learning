{
 "cells": [
  {
   "cell_type": "markdown",
   "id": "13e2d615-d32a-4b06-821b-25dfd3ac1999",
   "metadata": {},
   "source": [
    "# View and pull data from the dair-ai/emotion dataset"
   ]
  },
  {
   "cell_type": "code",
   "execution_count": 1,
   "id": "5fb0a8fc-cf41-4d2a-8f92-1336e0c38f9a",
   "metadata": {},
   "outputs": [],
   "source": [
    "from datasets import load_dataset\n",
    "import pandas as pd"
   ]
  },
  {
   "cell_type": "code",
   "execution_count": 2,
   "id": "27452e6d-64ee-4bf0-b57d-c87e3ee25212",
   "metadata": {},
   "outputs": [],
   "source": [
    "dataset = load_dataset(\"dair-ai/emotion\", \"split\")"
   ]
  },
  {
   "cell_type": "code",
   "execution_count": 3,
   "id": "73c1158f-5914-450c-807c-26ff8ec38d45",
   "metadata": {},
   "outputs": [
    {
     "name": "stdout",
     "output_type": "stream",
     "text": [
      "DatasetDict({\n",
      "    train: Dataset({\n",
      "        features: ['text', 'label'],\n",
      "        num_rows: 16000\n",
      "    })\n",
      "    validation: Dataset({\n",
      "        features: ['text', 'label'],\n",
      "        num_rows: 2000\n",
      "    })\n",
      "    test: Dataset({\n",
      "        features: ['text', 'label'],\n",
      "        num_rows: 2000\n",
      "    })\n",
      "})\n"
     ]
    }
   ],
   "source": [
    "print(dataset)"
   ]
  },
  {
   "cell_type": "code",
   "execution_count": 4,
   "id": "256b01c0-fbd1-4deb-8457-5308c8ed9631",
   "metadata": {},
   "outputs": [
    {
     "name": "stdout",
     "output_type": "stream",
     "text": [
      "['sadness', 'joy', 'love', 'anger', 'fear', 'surprise']\n"
     ]
    }
   ],
   "source": [
    "# Label mapping\n",
    "label_names = dataset[\"train\"].features[\"label\"].names\n",
    "print(label_names)"
   ]
  },
  {
   "cell_type": "code",
   "execution_count": 5,
   "id": "89ce5b68-c09c-471d-8fa3-e5b7bc2bdcc4",
   "metadata": {},
   "outputs": [
    {
     "data": {
      "text/html": [
       "<div>\n",
       "<style scoped>\n",
       "    .dataframe tbody tr th:only-of-type {\n",
       "        vertical-align: middle;\n",
       "    }\n",
       "\n",
       "    .dataframe tbody tr th {\n",
       "        vertical-align: top;\n",
       "    }\n",
       "\n",
       "    .dataframe thead th {\n",
       "        text-align: right;\n",
       "    }\n",
       "</style>\n",
       "<table border=\"1\" class=\"dataframe\">\n",
       "  <thead>\n",
       "    <tr style=\"text-align: right;\">\n",
       "      <th></th>\n",
       "      <th>text</th>\n",
       "      <th>label</th>\n",
       "      <th>label_name</th>\n",
       "    </tr>\n",
       "  </thead>\n",
       "  <tbody>\n",
       "    <tr>\n",
       "      <th>0</th>\n",
       "      <td>i didnt feel humiliated</td>\n",
       "      <td>0</td>\n",
       "      <td>sadness</td>\n",
       "    </tr>\n",
       "    <tr>\n",
       "      <th>1</th>\n",
       "      <td>i can go from feeling so hopeless to so damned hopeful just from being around someone who cares and is awake</td>\n",
       "      <td>0</td>\n",
       "      <td>sadness</td>\n",
       "    </tr>\n",
       "    <tr>\n",
       "      <th>2</th>\n",
       "      <td>im grabbing a minute to post i feel greedy wrong</td>\n",
       "      <td>3</td>\n",
       "      <td>anger</td>\n",
       "    </tr>\n",
       "    <tr>\n",
       "      <th>3</th>\n",
       "      <td>i am ever feeling nostalgic about the fireplace i will know that it is still on the property</td>\n",
       "      <td>2</td>\n",
       "      <td>love</td>\n",
       "    </tr>\n",
       "    <tr>\n",
       "      <th>4</th>\n",
       "      <td>i am feeling grouchy</td>\n",
       "      <td>3</td>\n",
       "      <td>anger</td>\n",
       "    </tr>\n",
       "  </tbody>\n",
       "</table>\n",
       "</div>"
      ],
      "text/plain": [
       "                                                                                                           text  \\\n",
       "0                                                                                       i didnt feel humiliated   \n",
       "1  i can go from feeling so hopeless to so damned hopeful just from being around someone who cares and is awake   \n",
       "2                                                              im grabbing a minute to post i feel greedy wrong   \n",
       "3                  i am ever feeling nostalgic about the fireplace i will know that it is still on the property   \n",
       "4                                                                                          i am feeling grouchy   \n",
       "\n",
       "   label label_name  \n",
       "0      0    sadness  \n",
       "1      0    sadness  \n",
       "2      3      anger  \n",
       "3      2       love  \n",
       "4      3      anger  "
      ]
     },
     "metadata": {},
     "output_type": "display_data"
    }
   ],
   "source": [
    "# Convert the 'train' split to a DataFrame\n",
    "df_train = pd.DataFrame(dataset[\"train\"])\n",
    "\n",
    "# If you want to include readable label names:\n",
    "df_train[\"label_name\"] = df_train[\"label\"].map(lambda x: dataset[\"train\"].features[\"label\"].names[x])\n",
    "\n",
    "# Set display option to show full text in all columns\n",
    "pd.set_option('display.max_colwidth', None)\n",
    "\n",
    "# View the first few rows\n",
    "display(df_train.head())"
   ]
  },
  {
   "cell_type": "code",
   "execution_count": 6,
   "id": "99b94342-cd12-4175-a47b-9c7fed213fde",
   "metadata": {},
   "outputs": [
    {
     "data": {
      "text/html": [
       "<div>\n",
       "<style scoped>\n",
       "    .dataframe tbody tr th:only-of-type {\n",
       "        vertical-align: middle;\n",
       "    }\n",
       "\n",
       "    .dataframe tbody tr th {\n",
       "        vertical-align: top;\n",
       "    }\n",
       "\n",
       "    .dataframe thead th {\n",
       "        text-align: right;\n",
       "    }\n",
       "</style>\n",
       "<table border=\"1\" class=\"dataframe\">\n",
       "  <thead>\n",
       "    <tr style=\"text-align: right;\">\n",
       "      <th></th>\n",
       "      <th>text</th>\n",
       "      <th>label</th>\n",
       "      <th>label_name</th>\n",
       "    </tr>\n",
       "  </thead>\n",
       "  <tbody>\n",
       "    <tr>\n",
       "      <th>0</th>\n",
       "      <td>im feeling quite sad and sorry for myself but ill snap out of it soon</td>\n",
       "      <td>0</td>\n",
       "      <td>sadness</td>\n",
       "    </tr>\n",
       "    <tr>\n",
       "      <th>1</th>\n",
       "      <td>i feel like i am still looking at a blank canvas blank pieces of paper</td>\n",
       "      <td>0</td>\n",
       "      <td>sadness</td>\n",
       "    </tr>\n",
       "    <tr>\n",
       "      <th>2</th>\n",
       "      <td>i feel like a faithful servant</td>\n",
       "      <td>2</td>\n",
       "      <td>love</td>\n",
       "    </tr>\n",
       "    <tr>\n",
       "      <th>3</th>\n",
       "      <td>i am just feeling cranky and blue</td>\n",
       "      <td>3</td>\n",
       "      <td>anger</td>\n",
       "    </tr>\n",
       "    <tr>\n",
       "      <th>4</th>\n",
       "      <td>i can have for a treat or if i am feeling festive</td>\n",
       "      <td>1</td>\n",
       "      <td>joy</td>\n",
       "    </tr>\n",
       "  </tbody>\n",
       "</table>\n",
       "</div>"
      ],
      "text/plain": [
       "                                                                     text  \\\n",
       "0   im feeling quite sad and sorry for myself but ill snap out of it soon   \n",
       "1  i feel like i am still looking at a blank canvas blank pieces of paper   \n",
       "2                                          i feel like a faithful servant   \n",
       "3                                       i am just feeling cranky and blue   \n",
       "4                       i can have for a treat or if i am feeling festive   \n",
       "\n",
       "   label label_name  \n",
       "0      0    sadness  \n",
       "1      0    sadness  \n",
       "2      2       love  \n",
       "3      3      anger  \n",
       "4      1        joy  "
      ]
     },
     "metadata": {},
     "output_type": "display_data"
    }
   ],
   "source": [
    "# Convert the 'train' split to a DataFrame\n",
    "df_validation = pd.DataFrame(dataset[\"validation\"])\n",
    "\n",
    "# If you want to include readable label names:\n",
    "df_validation[\"label_name\"] = df_validation[\"label\"].map(lambda x: dataset[\"validation\"].features[\"label\"].names[x])\n",
    "\n",
    "# View the first few rows\n",
    "display(df_validation.head())"
   ]
  },
  {
   "cell_type": "code",
   "execution_count": 7,
   "id": "8131188a-7b14-40c2-9407-28765d6b5951",
   "metadata": {},
   "outputs": [
    {
     "data": {
      "text/html": [
       "<div>\n",
       "<style scoped>\n",
       "    .dataframe tbody tr th:only-of-type {\n",
       "        vertical-align: middle;\n",
       "    }\n",
       "\n",
       "    .dataframe tbody tr th {\n",
       "        vertical-align: top;\n",
       "    }\n",
       "\n",
       "    .dataframe thead th {\n",
       "        text-align: right;\n",
       "    }\n",
       "</style>\n",
       "<table border=\"1\" class=\"dataframe\">\n",
       "  <thead>\n",
       "    <tr style=\"text-align: right;\">\n",
       "      <th></th>\n",
       "      <th>text</th>\n",
       "      <th>label</th>\n",
       "      <th>label_name</th>\n",
       "    </tr>\n",
       "  </thead>\n",
       "  <tbody>\n",
       "    <tr>\n",
       "      <th>0</th>\n",
       "      <td>im feeling rather rotten so im not very ambitious right now</td>\n",
       "      <td>0</td>\n",
       "      <td>sadness</td>\n",
       "    </tr>\n",
       "    <tr>\n",
       "      <th>1</th>\n",
       "      <td>im updating my blog because i feel shitty</td>\n",
       "      <td>0</td>\n",
       "      <td>sadness</td>\n",
       "    </tr>\n",
       "    <tr>\n",
       "      <th>2</th>\n",
       "      <td>i never make her separate from me because i don t ever want her to feel like i m ashamed with her</td>\n",
       "      <td>0</td>\n",
       "      <td>sadness</td>\n",
       "    </tr>\n",
       "    <tr>\n",
       "      <th>3</th>\n",
       "      <td>i left with my bouquet of red and yellow tulips under my arm feeling slightly more optimistic than when i arrived</td>\n",
       "      <td>1</td>\n",
       "      <td>joy</td>\n",
       "    </tr>\n",
       "    <tr>\n",
       "      <th>4</th>\n",
       "      <td>i was feeling a little vain when i did this one</td>\n",
       "      <td>0</td>\n",
       "      <td>sadness</td>\n",
       "    </tr>\n",
       "  </tbody>\n",
       "</table>\n",
       "</div>"
      ],
      "text/plain": [
       "                                                                                                                text  \\\n",
       "0                                                        im feeling rather rotten so im not very ambitious right now   \n",
       "1                                                                          im updating my blog because i feel shitty   \n",
       "2                  i never make her separate from me because i don t ever want her to feel like i m ashamed with her   \n",
       "3  i left with my bouquet of red and yellow tulips under my arm feeling slightly more optimistic than when i arrived   \n",
       "4                                                                    i was feeling a little vain when i did this one   \n",
       "\n",
       "   label label_name  \n",
       "0      0    sadness  \n",
       "1      0    sadness  \n",
       "2      0    sadness  \n",
       "3      1        joy  \n",
       "4      0    sadness  "
      ]
     },
     "metadata": {},
     "output_type": "display_data"
    }
   ],
   "source": [
    "# Convert the 'train' split to a DataFrame\n",
    "df_test = pd.DataFrame(dataset[\"test\"])\n",
    "\n",
    "# If you want to include readable label names:\n",
    "df_test[\"label_name\"] = df_test[\"label\"].map(lambda x: dataset[\"test\"].features[\"label\"].names[x])\n",
    "\n",
    "# View the first few rows\n",
    "display(df_test.head())"
   ]
  },
  {
   "cell_type": "code",
   "execution_count": 8,
   "id": "c464269b-353f-45f3-93ce-6d40854b3b14",
   "metadata": {},
   "outputs": [],
   "source": [
    "# Reset column width display option to default (truncates long text)\n",
    "pd.reset_option('display.max_colwidth')"
   ]
  },
  {
   "cell_type": "code",
   "execution_count": 9,
   "id": "e3b00c49-08b8-4bcf-9812-003fab629b86",
   "metadata": {},
   "outputs": [
    {
     "name": "stdout",
     "output_type": "stream",
     "text": [
      "train_percent = 80%, number of records = 16000\n",
      "validation_percent = 10%, number of records = 2000\n",
      "test_percent = 10%, number of records = 2000\n"
     ]
    }
   ],
   "source": [
    "sum_of_records = len(df_train)+len(df_validation)+len(df_test)\n",
    "\n",
    "sum_of_train_records = len(df_train)\n",
    "sum_of_validation_records = len(df_validation)\n",
    "sum_of_test_records = len(df_test)\n",
    "\n",
    "train_percent = round( (len(df_train)/sum_of_records) * 100 )\n",
    "print(f\"{train_percent = }%, number of records = {sum_of_train_records}\")\n",
    "\n",
    "validation_percent = round( (len(df_validation)/sum_of_records) * 100 )\n",
    "print(f\"{validation_percent = }%, number of records = {sum_of_validation_records}\")\n",
    "\n",
    "test_percent = round( (len(df_test)/sum_of_records) * 100 )\n",
    "print(f\"{test_percent = }%, number of records = {sum_of_test_records}\")"
   ]
  },
  {
   "cell_type": "code",
   "execution_count": 10,
   "id": "9df123ae-26cd-4baa-8ccd-28eff530b896",
   "metadata": {},
   "outputs": [],
   "source": [
    "# Save the dataset in .csv files on local machine\n",
    "df_train.to_csv('dataset/train.csv', index=False)\n",
    "df_validation.to_csv('dataset/validation.csv', index=False)\n",
    "df_test.to_csv('dataset/test.csv', index=False)"
   ]
  }
 ],
 "metadata": {
  "kernelspec": {
   "display_name": "Python 3 (ipykernel)",
   "language": "python",
   "name": "python3"
  },
  "language_info": {
   "codemirror_mode": {
    "name": "ipython",
    "version": 3
   },
   "file_extension": ".py",
   "mimetype": "text/x-python",
   "name": "python",
   "nbconvert_exporter": "python",
   "pygments_lexer": "ipython3",
   "version": "3.10.0"
  }
 },
 "nbformat": 4,
 "nbformat_minor": 5
}
